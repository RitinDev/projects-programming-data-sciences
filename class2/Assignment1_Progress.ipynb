{
  "nbformat": 4,
  "nbformat_minor": 0,
  "metadata": {
    "kernelspec": {
      "display_name": "Python 3",
      "language": "python",
      "name": "python3"
    },
    "language_info": {
      "codemirror_mode": {
        "name": "ipython",
        "version": 3
      },
      "file_extension": ".py",
      "mimetype": "text/x-python",
      "name": "python",
      "nbconvert_exporter": "python",
      "pygments_lexer": "ipython3",
      "version": "3.6.7"
    },
    "colab": {
      "provenance": [],
      "collapsed_sections": [],
      "include_colab_link": true
    }
  },
  "cells": [
    {
      "cell_type": "markdown",
      "metadata": {
        "id": "view-in-github",
        "colab_type": "text"
      },
      "source": [
        "<a href=\"https://colab.research.google.com/github/RitinDev/projects-programming-data-sciences/blob/main/class2/Assignment1_Progress.ipynb\" target=\"_parent\"><img src=\"https://colab.research.google.com/assets/colab-badge.svg\" alt=\"Open In Colab\"/></a>"
      ]
    },
    {
      "cell_type": "markdown",
      "metadata": {
        "id": "YpOyKprkg78J"
      },
      "source": [
        "# Interacting with the IBM Watson Natural Language Understanding API\n",
        "\n",
        "Another useful API, especially when dealing with text, is the [IBM Watson  Natural Language Understanding API](https://console.bluemix.net/catalog/services/natural-language-understanding), which offers a variety of text analysis functionalities, such as sentiment analysis, entity extraction, keyword extraction, etc.\n",
        "\n",
        "We will give a couple of examples below, to understand how we can take an unstructured piece of text (either the text alone, or a URL with text), and perform some analysis.\n",
        "\n"
      ]
    },
    {
      "cell_type": "markdown",
      "source": [
        "\n",
        "\n",
        "## Sentiment ana emotion analysis\n",
        "\n",
        "We will first start with the `/analyze` API call ([documentation](https://cloud.ibm.com/apidocs/natural-language-understanding#analyzeget)), which takes as input a piece of text, and returns an analysis across various dimensions. \n",
        "\n",
        "The API supports the following analyses:\n",
        "\n",
        "`categories,classifications,concepts,emotion,entities,keywords,metadata,relations,semantic_roles,sentiment,summarization (experimental),syntax`\n",
        "\n",
        "The API supports not only English, but also a [variety of non-English languages](https://cloud.ibm.com/docs/natural-language-understanding?topic=natural-language-understanding-detectable-languages).\n",
        "\n",
        "In our introductory attempt, we will use the `sentiment` and `emotion` and focus on English texts. \n",
        "\n"
      ],
      "metadata": {
        "id": "w5AdsJAa5iIQ"
      }
    },
    {
      "cell_type": "code",
      "metadata": {
        "id": "Scpvaji2MigH"
      },
      "source": [
        "import requests"
      ],
      "execution_count": 1,
      "outputs": []
    },
    {
      "cell_type": "code",
      "metadata": {
        "id": "6o4aBLeBg78M"
      },
      "source": [
        "URL = 'https://api.us-south.natural-language-understanding.watson.cloud.ibm.com/instances/9e683088-0d12-4399-8118-518f3e60e8c4'\n",
        "\n",
        "# My own API key. It may run out of quota\n",
        "# You can register and get your own credentials\n",
        "# The ones below have a quota of 1000 calls per day \n",
        "# and can run out quickly if multiple people use these\n",
        "API_KEY = 'yx39wyiwPNGm7DoDUPCSJB4SzFkr0qurARfbGYyEdaoC'\n",
        "\n",
        "def analyzeText(text=None, url=None):\n",
        "\n",
        "    endpoint = f\"{URL}/v1/analyze\"\n",
        "    username = \"apikey\"\n",
        "    password = API_KEY\n",
        "    \n",
        "    parameters = {\n",
        "        'features': 'emotion,sentiment',\n",
        "        'version' : '2022-04-07',\n",
        "        'text': text,\n",
        "        'language' : 'en',\n",
        "        'url' : url # this is an alternative to sending the text\n",
        "    }\n",
        "\n",
        "    resp = requests.get(endpoint, params=parameters, auth=(username, password))\n",
        "    \n",
        "    return resp.json()"
      ],
      "execution_count": 2,
      "outputs": []
    },
    {
      "cell_type": "markdown",
      "metadata": {
        "collapsed": true,
        "id": "PVct5ns8g79m"
      },
      "source": [
        "### Exercise\n",
        "\n",
        "* First of all, **get your own credentials for the IBM Watson API**. The demo key that we use above has a limited quota.\n",
        "* Use an API to get news articles. \n",
        "    * Option 1: Use the API at https://newsapi.org to fetch the news from various sources. Print the entities that are currently being discussed in the news, together with their relevance value and the associated sentiment.\n",
        "    * Option 2: Use the NY Times API to fetch the Top Stories News. You can register and get an API key at https://developer.nytimes.com/. The `Top Stories V2 API` provides the details of the news of the day: (The API call documentation is at https://developer.nytimes.com/docs/top-stories-product/1/overview and the API Call is  https://api.nytimes.com/svc/topstories/v2/home.json?api-key=PUTYOURKEYHERE). Repeat the entity extraction process from above.\n",
        "    * Option 3: Use the Guardian API at https://open-platform.theguardian.com/documentation/ to fetch news from The Guardian.\n"
      ]
    },
    {
      "cell_type": "code",
      "source": [
        "# !sudo -H pip3 install newsapi-python\n",
        "!pip install newsapi-python"
      ],
      "metadata": {
        "id": "kQ8QXsWpVNVv",
        "outputId": "836d1e08-f18b-45ce-890a-8e92317ccafc",
        "colab": {
          "base_uri": "https://localhost:8080/"
        }
      },
      "execution_count": 3,
      "outputs": [
        {
          "output_type": "stream",
          "name": "stdout",
          "text": [
            "Looking in indexes: https://pypi.org/simple, https://us-python.pkg.dev/colab-wheels/public/simple/\n",
            "Collecting newsapi-python\n",
            "  Downloading newsapi_python-0.2.6-py2.py3-none-any.whl (7.9 kB)\n",
            "Requirement already satisfied: requests<3.0.0 in /usr/local/lib/python3.7/dist-packages (from newsapi-python) (2.23.0)\n",
            "Requirement already satisfied: certifi>=2017.4.17 in /usr/local/lib/python3.7/dist-packages (from requests<3.0.0->newsapi-python) (2022.6.15)\n",
            "Requirement already satisfied: chardet<4,>=3.0.2 in /usr/local/lib/python3.7/dist-packages (from requests<3.0.0->newsapi-python) (3.0.4)\n",
            "Requirement already satisfied: urllib3!=1.25.0,!=1.25.1,<1.26,>=1.21.1 in /usr/local/lib/python3.7/dist-packages (from requests<3.0.0->newsapi-python) (1.24.3)\n",
            "Requirement already satisfied: idna<3,>=2.5 in /usr/local/lib/python3.7/dist-packages (from requests<3.0.0->newsapi-python) (2.10)\n",
            "Installing collected packages: newsapi-python\n",
            "Successfully installed newsapi-python-0.2.6\n"
          ]
        }
      ]
    },
    {
      "cell_type": "code",
      "source": [
        "from newsapi import NewsApiClient\n",
        "\n",
        "# Init\n",
        "newsapi = NewsApiClient(api_key='a7eab21c34e545dba418c4344d59a54f')\n",
        "\n",
        "# /v2/top-headlines\n",
        "top_headlines = newsapi.get_top_headlines(q = 'queen',\n",
        "                                          language='en',\n",
        "                                          page_size=50)\n",
        "\n",
        "# top_headlines.keys()\n",
        "articles = top_headlines['articles']\n",
        "for article in articles:\n",
        "#     article_url = article['url']\n",
        "#     # print(article)\n",
        "    print(article['content'])\n",
        "    print(article['url'])\n",
        "#     data = analyzeText(url=article_url)\n",
        "#     print(data['sentiment']['document'])\n",
        "#     print(data['emotion']['document'])\n",
        "    print()"
      ],
      "metadata": {
        "id": "ZIMEtC6TVYSQ",
        "outputId": "df54a67f-82e9-4489-d0a1-58d120889da2",
        "colab": {
          "base_uri": "https://localhost:8080/"
        }
      },
      "execution_count": 12,
      "outputs": [
        {
          "output_type": "stream",
          "name": "stdout",
          "text": [
            "People queue to pay respects to the Queen, as the coffin of Britain’s Queen Elizabeth lies in state, in London, Britain, September 14, 2022. REUTERS\r\n",
            "LONDON — Mourners from all walks of life filed pa… [+4165 chars]\n",
            "https://www.inquirer.net\n",
            "\n",
            "It was 3.30pm when Leigh, Thony and James arrived at the back of the queue at Millennium Bridge to see the Queen lie in state.\r\n",
            "None of them identified as royalists but had different reasons to come.… [+4042 chars]\n",
            "https://news.sky.com/story/sustained-by-pimms-lager-and-katsu-curry-but-only-respect-for-the-queen-in-the-queue-12697688\n",
            "\n",
            "A member of the Royal Guard surrounding the coffin of Queen Elizabeth II has fainted off the podium during the 24-hour vigil for the late monarch.\n",
            "https://www.skynews.com.au/world-news/united-kingdom/queens-guard-collapses-in-front-of-her-coffin/video/aec6340ccaad1f488dd855e7136d65c4\n",
            "\n",
            "None\n",
            "https://www.cnn.com/2022/09/14/uk/queen-elizabeth-silent-procession-intl-gbr/index.html\n",
            "\n",
            "A member of the Royal Guard surrounding the coffin of Queen Elizabeth II has collapsed in front of hundreds of mourners.\r\n",
            "It comes as members of the public have been filing into Westminster Hall to p… [+2415 chars]\n",
            "https://7news.com.au/entertainment/royal-family/member-of-the-royal-guard-surrounding-the-coffin-of-queen-elizabeth-collapses--c-8244739\n",
            "\n",
            "LONDON (Reuters) - Mourners from all walks of life filed past the coffin of Queen Elizabeth through the night as she lay in state in London's ancient Westminster Hall, paying their final respects to … [+3798 chars]\n",
            "https://www.thestar.com.my/news/world/2022/09/15/thousands-pass-queen-elizabeth039s-coffin-as-she-lies-in-state-in-london\n",
            "\n",
            "Kate Middleton, who travelled behind the Queen's coffin during Wednesday's funeral procession in London, looked pensive and devastated as she left the Westminster Hall with Prince William after the s… [+807 chars]\n",
            "https://www.geo.tv/latest/440338-kate-middleton-looks-pensive-as-she-takes-part-in-queens-funeral-procession\n",
            "\n",
            "LONDON: King Charles, his sons Princes William and Harry, and other senior royals joined a solemn procession accompanying Queen Elizabeth's coffin as the late monarch made her final journey from Buck… [+2155 chars]\n",
            "https://www.channelnewsasia.com/world/king-charles-william-and-harry-reunited-grief-escort-queens-coffin-2937566\n",
            "\n",
            "Thousands of mourners are paying their respects to Queen Elizabeth, as she lies in state in Westminster Hall after leaving the Buckingham Palace for the final time.\r\n",
            "The Queen was brought in a proces… [+763 chars]\n",
            "https://www.geo.tv/latest/440335-queen-elizabeth-ii-leaves-buckingham-palace-for-final-time-lies-in-state-at-westminster-hall\n",
            "\n",
            "Meghan Markle paid her respects to the late Queen Elizabeth as she reportedly did a deep curtsy in front of the monarchs coffin when seeing it for the first time at Westminster Hall, reported Mirror … [+967 chars]\n",
            "https://www.geo.tv/latest/440316-meghan-markle-does-a-deep-curtsy-to-queen-elizabeths-coffin-as-respect\n",
            "\n",
            "The Queens funeral is scheduled for 4 a.m., mountain daylight time, Monday \r\n",
            "Photos and a book of condolence for Queen Elizabeth II have been set up at Edmonton City Hall, Friday, Sept. 9, 2022. Phot… [+5325 chars]\n",
            "https://edmontonjournal.com/news/local-news/alberta-to-mark-day-of-mourning-but-no-holiday-for-queens-funeral\n",
            "\n",
            "The question quickly arose, though, was Albanese going too far?\r\n",
            "ABC journalist Laura Tingle queried on the weekend, for example, why Australias parliament was suspended for a fortnight while the Bri… [+4617 chars]\n",
            "https://www.smh.com.au/national/albanese-s-decision-to-suspend-parliament-to-mourn-the-queen-was-a-clever-strategy-20220913-p5bhre.html\n",
            "\n",
            "Outside Downing Street, the day staff from the offices around Number 10 nipped through the security gates shortly before 2pm, the desks abandoned and the phones unanswered for the moments when the po… [+4334 chars]\n",
            "https://www.irishtimes.com/world/uk/2022/09/14/queen-elizabeth-crowds-watch-as-city-bends-to-weight-of-royal-family/\n",
            "\n",
            "Queen Elizabeth's coffin, covered by the Royal Standard flag and with the Imperial State Crown placed on a cushion on top alongside a wreath of flowers, is now lying in state in London's Westminster … [+1306 chars]\n",
            "https://www.indiatoday.in/world/story/queen-elizabeth-coffin-arrives-westminster-hall-london-funeral-2000332-2022-09-14\n",
            "\n",
            "The coffin of Queen Elizabeth II, draped in the royal standard with the Imperial State Crown placed on top, left Buckingham Palace carried on a horse-drawn gun carriage for Westminster Hall where she… [+56 chars]\n",
            "https://www.theguardian.com/uk-news/gallery/2022/sep/14/queen-elizabeth-iis-coffin-procession-in-pictures\n",
            "\n",
            "The ABC's Rafael Epstein is currently in the UK and was among those who lined the streets of London for the procession.He says the city isn't just a \"great backdrop for a funeral procession it's what… [+1613 chars]\n",
            "https://www.abc.net.au/news/2022-09-15/live-updates-queen-elizabeth-ii-coffin-procession-westminster/101441332\n",
            "\n",
            "Some bin collection days are set to change in some parts of Suffolk due to the Queen's funeral. \r\n",
            "The state funeral for Queen Elizabeth II will take place on Monday, September 19. \r\n",
            "King Charles III … [+793 chars]\n",
            "https://www.eadt.co.uk/news/when-will-bins-be-collected-on-bank-holiday-9272682\n",
            "\n",
            "South Africa's President Cyril Ramaphosa will attend Queen Elizabeth's funeral on Monday, 19 September.\r\n",
            "In a statement on Wednesday, it was announced that Ramaphosa will first embark on a \"working v… [+1102 chars]\n",
            "https://www.news24.com/channel/gossip/royal-news/president-cyril-ramaphosa-to-attend-queen-elizabeths-funeral-20220914\n",
            "\n",
            "Several food banks in the UK will remain closed on the day of the funeral of Queen Elizabeth II on 19 September in a move that has triggered anger among some.\r\n",
            "The announcement of the closure of food… [+2853 chars]\n",
            "https://www.independent.co.uk/news/uk/home-news/food-banks-uk-close-queen-elizabeth-funeral-b2166769.html\n",
            "\n",
            "Queen Elizabeth II funeral: President Droupadi Murmu will be attending the funeral of Queen Elizabeth II at Westminster Abbey, London, and to offer her condolences on behalf of the Indian Government.… [+2876 chars]\n",
            "https://www.indiatvnews.com/news/india/president-droupadi-murmu-to-attend-state-funeral-of-queen-elizabeth-ii-westminster-abbey-king-charles-iii-london-united-kingdom-2022-09-14-808219\n",
            "\n",
            "Former Hong Kong actress Theresa Lee may have been missing from our screens for quite some time but she's evidently not been forgotten.\r\n",
            "Known for her sweet looks and candid personality, the former b… [+1805 chars]\n",
            "https://www.asiaone.com/entertainment/ex-hong-kong-actress-theresa-lee-ageing-gracefully-shows-wrinkles-and-pigmentation\n",
            "\n",
            "None\n",
            "https://www.youtube.com/watch?v=AQe8HdJjFMU\n",
            "\n",
            "From Bluey to Mr Squiggle, the responses when we asked readers to suggest who should be the new face of the $5 note were diverse, to say the least. However, King Charles III and Uncle Jack Charles we… [+1248 chars]\n",
            "https://www.smh.com.au/national/we-did-a-poll-and-here-is-who-you-want-on-the-5-note-20220914-p5bhzg.html\n",
            "\n",
            "Grace Gothard, from Ghana, was one of the first people to join the official queue to view Queen Elizabeth when she lies in state in Westminster Hall, on Sept. 13.Kiran Ridley/The Globe and Mail\r\n",
            "The … [+7044 chars]\n",
            "https://www.theglobeandmail.com/world/article-queues-begin-in-london-to-view-queen-elizabeths-coffin/\n",
            "\n",
            "PHNOM PENH (The Phnom Penh Post/Asia News Network): King Norodom Sihamoni and Queen Mother Norodom Monineath Sihanouk sent a letter of both condolences and congratulations to King Charles III of the … [+1797 chars]\n",
            "https://www.thestar.com.my/aseanplus/aseanplus-news/2022/09/13/king-sihamoni-queen-mother-send-letter-to-king-charles-iii\n",
            "\n",
            "<ul><li>Princess Anne walked alongside her brothers on Monday in the procession behind the queen's coffin.</li><li>The Princess Royal will also accompany the queen's coffin on a flight back to London… [+5573 chars]\n",
            "https://www.news24.com/channel/gossip/royal-news/princess-anne-not-everyones-idea-of-a-fairy-tale-princess-20220913-2\n",
            "\n",
            "Greens Senator for Victoria Lidia Thorpe has been vocal against the British monarchy in the past. Source: AAP / Lukas Coch\n",
            "https://www.sbs.com.au/news/article/show-some-ambition-lidia-thorpe-calls-for-first-nations-treaty-in-wake-of-queens-death/5zesiai1w\n",
            "\n"
          ]
        }
      ]
    },
    {
      "cell_type": "code",
      "source": [
        "!sudo pip3 install -U -q PyMySQL sqlalchemy sql_magic"
      ],
      "metadata": {
        "id": "N2Qic5CFOuN9"
      },
      "execution_count": 16,
      "outputs": []
    },
    {
      "cell_type": "code",
      "source": [
        "from sqlalchemy import create_engine\n",
        "\n",
        "conn_string = \"mysql+pymysql://{user}:{password}@{host}/\".format(\n",
        "    host=\"db.ipeirotis.org\", user=\"student\", password=\"dwdstudent2015\"\n",
        ")\n",
        "\n",
        "engine = create_engine(conn_string)"
      ],
      "metadata": {
        "id": "bHWM80IgO_Yt"
      },
      "execution_count": 17,
      "outputs": []
    },
    {
      "cell_type": "code",
      "source": [
        "# Query to create a database\n",
        "db_name = \"public\"\n",
        "create_db_query = (\n",
        "    f\"CREATE DATABASE IF NOT EXISTS {db_name} DEFAULT CHARACTER SET 'utf8'\"\n",
        ")\n",
        "\n",
        "# Create a database\n",
        "engine.execute(create_db_query)"
      ],
      "metadata": {
        "colab": {
          "base_uri": "https://localhost:8080/"
        },
        "id": "-S8uDEwIQqsf",
        "outputId": "e0c8b52a-ad2a-4027-c0b3-04ca8de0c8e2"
      },
      "execution_count": 18,
      "outputs": [
        {
          "output_type": "execute_result",
          "data": {
            "text/plain": [
              "<sqlalchemy.engine.cursor.LegacyCursorResult at 0x7f748e4ff610>"
            ]
          },
          "metadata": {},
          "execution_count": 18
        }
      ]
    },
    {
      "cell_type": "code",
      "source": [
        "suffix = \"rm5486\"\n",
        "table_name = f\"{suffix}_news\"\n",
        "# Create a table\n",
        "create_table_query = f\"\"\"CREATE TABLE IF NOT EXISTS {db_name}.{table_name} \n",
        "                                (content varchar(15000), \n",
        "                                url varchar(250), \n",
        "                                PRIMARY KEY(url)\n",
        "                                )\"\"\"\n",
        "engine.execute(create_table_query)"
      ],
      "metadata": {
        "colab": {
          "base_uri": "https://localhost:8080/"
        },
        "id": "lNbpMEixRIgM",
        "outputId": "54d35d9b-05bb-4364-d57e-2d75cd094a55"
      },
      "execution_count": 49,
      "outputs": [
        {
          "output_type": "execute_result",
          "data": {
            "text/plain": [
              "<sqlalchemy.engine.cursor.LegacyCursorResult at 0x7f7486468e50>"
            ]
          },
          "metadata": {},
          "execution_count": 49
        }
      ]
    },
    {
      "cell_type": "code",
      "source": [
        "query_template = f\"\"\"\n",
        "                    INSERT IGNORE INTO \n",
        "                    {db_name}.{table_name}(content,  url) \n",
        "                    VALUES (%s, %s)\n",
        "                  \"\"\"\n",
        "for article in articles:\n",
        "    content = article['content']\n",
        "    url = article['url']\n",
        "\n",
        "    print(\"Inserting article\", content, \"with\", url, \"as URL\")\n",
        "    query_parameters = (content, url)\n",
        "    engine.execute(query_template, query_parameters)"
      ],
      "metadata": {
        "colab": {
          "base_uri": "https://localhost:8080/"
        },
        "id": "a5NG20l3U_LO",
        "outputId": "24f8a608-4ad0-4ce5-d50b-08fc2c99b90d"
      },
      "execution_count": 50,
      "outputs": [
        {
          "output_type": "stream",
          "name": "stdout",
          "text": [
            "Inserting article People queue to pay respects to the Queen, as the coffin of Britain’s Queen Elizabeth lies in state, in London, Britain, September 14, 2022. REUTERS\r\n",
            "LONDON — Mourners from all walks of life filed pa… [+4165 chars] with https://www.inquirer.net as URL\n",
            "Inserting article It was 3.30pm when Leigh, Thony and James arrived at the back of the queue at Millennium Bridge to see the Queen lie in state.\r\n",
            "None of them identified as royalists but had different reasons to come.… [+4042 chars] with https://news.sky.com/story/sustained-by-pimms-lager-and-katsu-curry-but-only-respect-for-the-queen-in-the-queue-12697688 as URL\n",
            "Inserting article A member of the Royal Guard surrounding the coffin of Queen Elizabeth II has fainted off the podium during the 24-hour vigil for the late monarch. with https://www.skynews.com.au/world-news/united-kingdom/queens-guard-collapses-in-front-of-her-coffin/video/aec6340ccaad1f488dd855e7136d65c4 as URL\n",
            "Inserting article None with https://www.cnn.com/2022/09/14/uk/queen-elizabeth-silent-procession-intl-gbr/index.html as URL\n",
            "Inserting article A member of the Royal Guard surrounding the coffin of Queen Elizabeth II has collapsed in front of hundreds of mourners.\r\n",
            "It comes as members of the public have been filing into Westminster Hall to p… [+2415 chars] with https://7news.com.au/entertainment/royal-family/member-of-the-royal-guard-surrounding-the-coffin-of-queen-elizabeth-collapses--c-8244739 as URL\n",
            "Inserting article LONDON (Reuters) - Mourners from all walks of life filed past the coffin of Queen Elizabeth through the night as she lay in state in London's ancient Westminster Hall, paying their final respects to … [+3798 chars] with https://www.thestar.com.my/news/world/2022/09/15/thousands-pass-queen-elizabeth039s-coffin-as-she-lies-in-state-in-london as URL\n",
            "Inserting article Kate Middleton, who travelled behind the Queen's coffin during Wednesday's funeral procession in London, looked pensive and devastated as she left the Westminster Hall with Prince William after the s… [+807 chars] with https://www.geo.tv/latest/440338-kate-middleton-looks-pensive-as-she-takes-part-in-queens-funeral-procession as URL\n",
            "Inserting article LONDON: King Charles, his sons Princes William and Harry, and other senior royals joined a solemn procession accompanying Queen Elizabeth's coffin as the late monarch made her final journey from Buck… [+2155 chars] with https://www.channelnewsasia.com/world/king-charles-william-and-harry-reunited-grief-escort-queens-coffin-2937566 as URL\n",
            "Inserting article Thousands of mourners are paying their respects to Queen Elizabeth, as she lies in state in Westminster Hall after leaving the Buckingham Palace for the final time.\n",
            "The Queen was brought in a proces… [+763 chars] with https://www.geo.tv/latest/440335-queen-elizabeth-ii-leaves-buckingham-palace-for-final-time-lies-in-state-at-westminster-hall as URL\n",
            "Inserting article Meghan Markle paid her respects to the late Queen Elizabeth as she reportedly did a deep curtsy in front of the monarchs coffin when seeing it for the first time at Westminster Hall, reported Mirror … [+967 chars] with https://www.geo.tv/latest/440316-meghan-markle-does-a-deep-curtsy-to-queen-elizabeths-coffin-as-respect as URL\n",
            "Inserting article The Queens funeral is scheduled for 4 a.m., mountain daylight time, Monday \n",
            "Photos and a book of condolence for Queen Elizabeth II have been set up at Edmonton City Hall, Friday, Sept. 9, 2022. Phot… [+5325 chars] with https://edmontonjournal.com/news/local-news/alberta-to-mark-day-of-mourning-but-no-holiday-for-queens-funeral as URL\n",
            "Inserting article The question quickly arose, though, was Albanese going too far?\n",
            "ABC journalist Laura Tingle queried on the weekend, for example, why Australias parliament was suspended for a fortnight while the Bri… [+4617 chars] with https://www.smh.com.au/national/albanese-s-decision-to-suspend-parliament-to-mourn-the-queen-was-a-clever-strategy-20220913-p5bhre.html as URL\n",
            "Inserting article Outside Downing Street, the day staff from the offices around Number 10 nipped through the security gates shortly before 2pm, the desks abandoned and the phones unanswered for the moments when the po… [+4334 chars] with https://www.irishtimes.com/world/uk/2022/09/14/queen-elizabeth-crowds-watch-as-city-bends-to-weight-of-royal-family/ as URL\n",
            "Inserting article Queen Elizabeth's coffin, covered by the Royal Standard flag and with the Imperial State Crown placed on a cushion on top alongside a wreath of flowers, is now lying in state in London's Westminster … [+1306 chars] with https://www.indiatoday.in/world/story/queen-elizabeth-coffin-arrives-westminster-hall-london-funeral-2000332-2022-09-14 as URL\n",
            "Inserting article The coffin of Queen Elizabeth II, draped in the royal standard with the Imperial State Crown placed on top, left Buckingham Palace carried on a horse-drawn gun carriage for Westminster Hall where she… [+56 chars] with https://www.theguardian.com/uk-news/gallery/2022/sep/14/queen-elizabeth-iis-coffin-procession-in-pictures as URL\n",
            "Inserting article The ABC's Rafael Epstein is currently in the UK and was among those who lined the streets of London for the procession.He says the city isn't just a \"great backdrop for a funeral procession it's what… [+1613 chars] with https://www.abc.net.au/news/2022-09-15/live-updates-queen-elizabeth-ii-coffin-procession-westminster/101441332 as URL\n",
            "Inserting article Some bin collection days are set to change in some parts of Suffolk due to the Queen's funeral. \n",
            "The state funeral for Queen Elizabeth II will take place on Monday, September 19. \n",
            "King Charles III … [+793 chars] with https://www.eadt.co.uk/news/when-will-bins-be-collected-on-bank-holiday-9272682 as URL\n",
            "Inserting article South Africa's President Cyril Ramaphosa will attend Queen Elizabeth's funeral on Monday, 19 September.\n",
            "In a statement on Wednesday, it was announced that Ramaphosa will first embark on a \"working v… [+1102 chars] with https://www.news24.com/channel/gossip/royal-news/president-cyril-ramaphosa-to-attend-queen-elizabeths-funeral-20220914 as URL\n",
            "Inserting article Several food banks in the UK will remain closed on the day of the funeral of Queen Elizabeth II on 19 September in a move that has triggered anger among some.\n",
            "The announcement of the closure of food… [+2853 chars] with https://www.independent.co.uk/news/uk/home-news/food-banks-uk-close-queen-elizabeth-funeral-b2166769.html as URL\n",
            "Inserting article Queen Elizabeth II funeral: President Droupadi Murmu will be attending the funeral of Queen Elizabeth II at Westminster Abbey, London, and to offer her condolences on behalf of the Indian Government.… [+2876 chars] with https://www.indiatvnews.com/news/india/president-droupadi-murmu-to-attend-state-funeral-of-queen-elizabeth-ii-westminster-abbey-king-charles-iii-london-united-kingdom-2022-09-14-808219 as URL\n",
            "Inserting article Former Hong Kong actress Theresa Lee may have been missing from our screens for quite some time but she's evidently not been forgotten.\n",
            "Known for her sweet looks and candid personality, the former b… [+1805 chars] with https://www.asiaone.com/entertainment/ex-hong-kong-actress-theresa-lee-ageing-gracefully-shows-wrinkles-and-pigmentation as URL\n",
            "Inserting article None with https://www.youtube.com/watch?v=AQe8HdJjFMU as URL\n",
            "Inserting article From Bluey to Mr Squiggle, the responses when we asked readers to suggest who should be the new face of the $5 note were diverse, to say the least. However, King Charles III and Uncle Jack Charles we… [+1248 chars] with https://www.smh.com.au/national/we-did-a-poll-and-here-is-who-you-want-on-the-5-note-20220914-p5bhzg.html as URL\n",
            "Inserting article Grace Gothard, from Ghana, was one of the first people to join the official queue to view Queen Elizabeth when she lies in state in Westminster Hall, on Sept. 13.Kiran Ridley/The Globe and Mail\n",
            "The … [+7044 chars] with https://www.theglobeandmail.com/world/article-queues-begin-in-london-to-view-queen-elizabeths-coffin/ as URL\n",
            "Inserting article PHNOM PENH (The Phnom Penh Post/Asia News Network): King Norodom Sihamoni and Queen Mother Norodom Monineath Sihanouk sent a letter of both condolences and congratulations to King Charles III of the … [+1797 chars] with https://www.thestar.com.my/aseanplus/aseanplus-news/2022/09/13/king-sihamoni-queen-mother-send-letter-to-king-charles-iii as URL\n",
            "Inserting article <ul><li>Princess Anne walked alongside her brothers on Monday in the procession behind the queen's coffin.</li><li>The Princess Royal will also accompany the queen's coffin on a flight back to London… [+5573 chars] with https://www.news24.com/channel/gossip/royal-news/princess-anne-not-everyones-idea-of-a-fairy-tale-princess-20220913-2 as URL\n",
            "Inserting article Greens Senator for Victoria Lidia Thorpe has been vocal against the British monarchy in the past. Source: AAP / Lukas Coch with https://www.sbs.com.au/news/article/show-some-ambition-lidia-thorpe-calls-for-first-nations-treaty-in-wake-of-queens-death/5zesiai1w as URL\n"
          ]
        }
      ]
    },
    {
      "cell_type": "code",
      "source": [
        "results = engine.execute(f\"SELECT * FROM {db_name}.{table_name}\")\n",
        "rows = results.fetchall()\n",
        "results.close()"
      ],
      "metadata": {
        "id": "iU2aKBqQXhCI"
      },
      "execution_count": 51,
      "outputs": []
    },
    {
      "cell_type": "code",
      "source": [
        "for row in rows:\n",
        "    print(\"Content:\", row[\"content\"])\n",
        "    print(\"URL:\", row[\"url\"])\n",
        "    print(\"=============================================\")"
      ],
      "metadata": {
        "colab": {
          "base_uri": "https://localhost:8080/"
        },
        "id": "oRbhdEceXop5",
        "outputId": "dfa308b1-d37e-4856-a847-7c238075943f"
      },
      "execution_count": 47,
      "outputs": [
        {
          "output_type": "stream",
          "name": "stdout",
          "text": [
            "Content: A member of the Royal Guard surrounding the coffin of Queen Elizabeth II has collapsed in front of hundreds of mourners.\r\n",
            "It comes as members of the public have been filing into Westminster Hall to p… [+2415 chars]\n",
            "URL: https://7news.com.au/entertainment/royal-family/member-of-the-royal-guard-surrounding-the-coffin-of-queen-elizabeth-collapses--c-8244739\n",
            "=============================================\n",
            "Content: The Queens funeral is scheduled for 4 a.m., mountain daylight time, Monday \r\n",
            "Photos and a book of condolence for Queen Elizabeth II have been set up at Edmonton City Hall, Friday, Sept. 9, 2022. Phot… [+5325 chars]\n",
            "URL: https://edmontonjournal.com/news/local-news/alberta-to-mark-day-of-mourning-but-no-holiday-for-queens-funeral\n",
            "=============================================\n",
            "Content: It was 3.30pm when Leigh, Thony and James arrived at the back of the queue at Millennium Bridge to see the Queen lie in state.\r\n",
            "None of them identified as royalists but had different reasons to come.… [+4042 chars]\n",
            "URL: https://news.sky.com/story/sustained-by-pimms-lager-and-katsu-curry-but-only-respect-for-the-queen-in-the-queue-12697688\n",
            "=============================================\n",
            "Content: The ABC's Rafael Epstein is currently in the UK and was among those who lined the streets of London for the procession.He says the city isn't just a \"great backdrop for a funeral procession it's what… [+1613 chars]\n",
            "URL: https://www.abc.net.au/news/2022-09-15/live-updates-queen-elizabeth-ii-coffin-procession-westminster/101441332\n",
            "=============================================\n",
            "Content: Former Hong Kong actress Theresa Lee may have been missing from our screens for quite some time but she's evidently not been forgotten.\r\n",
            "Known for her sweet looks and candid personality, the former b… [+1805 chars]\n",
            "URL: https://www.asiaone.com/entertainment/ex-hong-kong-actress-theresa-lee-ageing-gracefully-shows-wrinkles-and-pigmentation\n",
            "=============================================\n",
            "Content: LONDON: King Charles, his sons Princes William and Harry, and other senior royals joined a solemn procession accompanying Queen Elizabeth's coffin as the late monarch made her final journey from Buck… [+2155 chars]\n",
            "URL: https://www.channelnewsasia.com/world/king-charles-william-and-harry-reunited-grief-escort-queens-coffin-2937566\n",
            "=============================================\n",
            "Content: None\n",
            "URL: https://www.cnn.com/2022/09/14/uk/queen-elizabeth-silent-procession-intl-gbr/index.html\n",
            "=============================================\n",
            "Content: Some bin collection days are set to change in some parts of Suffolk due to the Queen's funeral. \r\n",
            "The state funeral for Queen Elizabeth II will take place on Monday, September 19. \r\n",
            "King Charles III … [+793 chars]\n",
            "URL: https://www.eadt.co.uk/news/when-will-bins-be-collected-on-bank-holiday-9272682\n",
            "=============================================\n",
            "Content: Meghan Markle paid her respects to the late Queen Elizabeth as she reportedly did a deep curtsy in front of the monarchs coffin when seeing it for the first time at Westminster Hall, reported Mirror … [+967 chars]\n",
            "URL: https://www.geo.tv/latest/440316-meghan-markle-does-a-deep-curtsy-to-queen-elizabeths-coffin-as-respect\n",
            "=============================================\n",
            "Content: Thousands of mourners are paying their respects to Queen Elizabeth, as she lies in state in Westminster Hall after leaving the Buckingham Palace for the final time.\r\n",
            "The Queen was brought in a proces… [+763 chars]\n",
            "URL: https://www.geo.tv/latest/440335-queen-elizabeth-ii-leaves-buckingham-palace-for-final-time-lies-in-state-at-westminster-hall\n",
            "=============================================\n",
            "Content: Kate Middleton, who travelled behind the Queen's coffin during Wednesday's funeral procession in London, looked pensive and devastated as she left the Westminster Hall with Prince William after the s… [+807 chars]\n",
            "URL: https://www.geo.tv/latest/440338-kate-middleton-looks-pensive-as-she-takes-part-in-queens-funeral-procession\n",
            "=============================================\n",
            "Content: Several food banks in the UK will remain closed on the day of the funeral of Queen Elizabeth II on 19 September in a move that has triggered anger among some.\r\n",
            "The announcement of the closure of food… [+2853 chars]\n",
            "URL: https://www.independent.co.uk/news/uk/home-news/food-banks-uk-close-queen-elizabeth-funeral-b2166769.html\n",
            "=============================================\n",
            "Content: Queen Elizabeth's coffin, covered by the Royal Standard flag and with the Imperial State Crown placed on a cushion on top alongside a wreath of flowers, is now lying in state in London's Westminster … [+1306 chars]\n",
            "URL: https://www.indiatoday.in/world/story/queen-elizabeth-coffin-arrives-westminster-hall-london-funeral-2000332-2022-09-14\n",
            "=============================================\n",
            "Content: Queen Elizabeth II funeral: President Droupadi Murmu will be attending the funeral of Queen Elizabeth II at Westminster Abbey, London, and to offer her condolences on behalf of the Indian Government.… [+2876 chars]\n",
            "URL: https://www.indiatvnews.com/news/india/president-droupadi-murmu-to-attend-state-funeral-of-queen-elizabeth-ii-westminster-abbey-king-charles-iii-london-united-kingdom-2022-09-14-808219\n",
            "=============================================\n",
            "Content: People queue to pay respects to the Queen, as the coffin of Britain’s Queen Elizabeth lies in state, in London, Britain, September 14, 2022. REUTERS\r\n",
            "LONDON — Mourners from all walks of life filed pa… [+4165 chars]\n",
            "URL: https://www.inquirer.net\n",
            "=============================================\n",
            "Content: Outside Downing Street, the day staff from the offices around Number 10 nipped through the security gates shortly before 2pm, the desks abandoned and the phones unanswered for the moments when the po… [+4334 chars]\n",
            "URL: https://www.irishtimes.com/world/uk/2022/09/14/queen-elizabeth-crowds-watch-as-city-bends-to-weight-of-royal-family/\n",
            "=============================================\n",
            "Content: South Africa's President Cyril Ramaphosa will attend Queen Elizabeth's funeral on Monday, 19 September.\r\n",
            "In a statement on Wednesday, it was announced that Ramaphosa will first embark on a \"working v… [+1102 chars]\n",
            "URL: https://www.news24.com/channel/gossip/royal-news/president-cyril-ramaphosa-to-attend-queen-elizabeths-funeral-20220914\n",
            "=============================================\n",
            "Content: <ul><li>Princess Anne walked alongside her brothers on Monday in the procession behind the queen's coffin.</li><li>The Princess Royal will also accompany the queen's coffin on a flight back to London… [+5573 chars]\n",
            "URL: https://www.news24.com/channel/gossip/royal-news/princess-anne-not-everyones-idea-of-a-fairy-tale-princess-20220913-2\n",
            "=============================================\n",
            "Content: Greens Senator for Victoria Lidia Thorpe has been vocal against the British monarchy in the past. Source: AAP / Lukas Coch\n",
            "URL: https://www.sbs.com.au/news/article/show-some-ambition-lidia-thorpe-calls-for-first-nations-treaty-in-wake-of-queens-death/5zesiai1w\n",
            "=============================================\n",
            "Content: A member of the Royal Guard surrounding the coffin of Queen Elizabeth II has fainted off the podium during the 24-hour vigil for the late monarch.\n",
            "URL: https://www.skynews.com.au/world-news/united-kingdom/queens-guard-collapses-in-front-of-her-coffin/video/aec6340ccaad1f488dd855e7136d65c4\n",
            "=============================================\n",
            "Content: The question quickly arose, though, was Albanese going too far?\r\n",
            "ABC journalist Laura Tingle queried on the weekend, for example, why Australias parliament was suspended for a fortnight while the Bri… [+4617 chars]\n",
            "URL: https://www.smh.com.au/national/albanese-s-decision-to-suspend-parliament-to-mourn-the-queen-was-a-clever-strategy-20220913-p5bhre.html\n",
            "=============================================\n",
            "Content: From Bluey to Mr Squiggle, the responses when we asked readers to suggest who should be the new face of the $5 note were diverse, to say the least. However, King Charles III and Uncle Jack Charles we… [+1248 chars]\n",
            "URL: https://www.smh.com.au/national/we-did-a-poll-and-here-is-who-you-want-on-the-5-note-20220914-p5bhzg.html\n",
            "=============================================\n",
            "Content: Grace Gothard, from Ghana, was one of the first people to join the official queue to view Queen Elizabeth when she lies in state in Westminster Hall, on Sept. 13.Kiran Ridley/The Globe and Mail\r\n",
            "The … [+7044 chars]\n",
            "URL: https://www.theglobeandmail.com/world/article-queues-begin-in-london-to-view-queen-elizabeths-coffin/\n",
            "=============================================\n",
            "Content: The coffin of Queen Elizabeth II, draped in the royal standard with the Imperial State Crown placed on top, left Buckingham Palace carried on a horse-drawn gun carriage for Westminster Hall where she… [+56 chars]\n",
            "URL: https://www.theguardian.com/uk-news/gallery/2022/sep/14/queen-elizabeth-iis-coffin-procession-in-pictures\n",
            "=============================================\n",
            "Content: PHNOM PENH (The Phnom Penh Post/Asia News Network): King Norodom Sihamoni and Queen Mother Norodom Monineath Sihanouk sent a letter of both condolences and congratulations to King Charles III of the … [+1797 chars]\n",
            "URL: https://www.thestar.com.my/aseanplus/aseanplus-news/2022/09/13/king-sihamoni-queen-mother-send-letter-to-king-charles-iii\n",
            "=============================================\n",
            "Content: LONDON (Reuters) - Mourners from all walks of life filed past the coffin of Queen Elizabeth through the night as she lay in state in London's ancient Westminster Hall, paying their final respects to … [+3798 chars]\n",
            "URL: https://www.thestar.com.my/news/world/2022/09/15/thousands-pass-queen-elizabeth039s-coffin-as-she-lies-in-state-in-london\n",
            "=============================================\n",
            "Content: None\n",
            "URL: https://www.youtube.com/watch?v=AQe8HdJjFMU\n",
            "=============================================\n"
          ]
        }
      ]
    },
    {
      "cell_type": "code",
      "source": [
        "sentiment_scores = []\n",
        "\n",
        "for row in rows:\n",
        "  article_url = row[\"url\"]\n",
        "  data = analyzeText(url=article_url)\n",
        "  entry = {}\n",
        "  entry['url'] = article_url\n",
        "  try:\n",
        "    entry['score'] = data['sentiment']['document']['score']\n",
        "    # print(data['sentiment']['document'])\n",
        "  except KeyError:\n",
        "    entry['score'] = 0\n",
        "    # print(\"ERROR: Cannot determine sentiment analysis score for this article\")\n",
        "  \n",
        "  print(entry)\n",
        "  sentiment_scores.append(entry);"
      ],
      "metadata": {
        "colab": {
          "base_uri": "https://localhost:8080/"
        },
        "id": "QuzBNvyOwmJK",
        "outputId": "ba316b01-bf0c-45ad-e09b-2e7e0c0ac1cb"
      },
      "execution_count": 85,
      "outputs": [
        {
          "output_type": "stream",
          "name": "stdout",
          "text": [
            "{'url': 'https://7news.com.au/entertainment/royal-family/member-of-the-royal-guard-surrounding-the-coffin-of-queen-elizabeth-collapses--c-8244739', 'score': -0.608437}\n",
            "{'url': 'https://edmontonjournal.com/news/local-news/alberta-to-mark-day-of-mourning-but-no-holiday-for-queens-funeral', 'score': 0.465382}\n",
            "{'url': 'https://news.sky.com/story/sustained-by-pimms-lager-and-katsu-curry-but-only-respect-for-the-queen-in-the-queue-12697688', 'score': -0.32244}\n",
            "{'url': 'https://www.abc.net.au/news/2022-09-15/live-updates-queen-elizabeth-ii-coffin-procession-westminster/101441332', 'score': -0.384216}\n",
            "{'url': 'https://www.asiaone.com/entertainment/ex-hong-kong-actress-theresa-lee-ageing-gracefully-shows-wrinkles-and-pigmentation', 'score': 0.314691}\n",
            "{'url': 'https://www.channelnewsasia.com/world/king-charles-william-and-harry-reunited-grief-escort-queens-coffin-2937566', 'score': 0.277354}\n",
            "{'url': 'https://www.cnn.com/2022/09/14/uk/queen-elizabeth-silent-procession-intl-gbr/index.html', 'score': 0.397199}\n",
            "{'url': 'https://www.eadt.co.uk/news/when-will-bins-be-collected-on-bank-holiday-9272682', 'score': -0.823228}\n",
            "{'url': 'https://www.geo.tv/latest/440316-meghan-markle-does-a-deep-curtsy-to-queen-elizabeths-coffin-as-respect', 'score': 0.704686}\n",
            "{'url': 'https://www.geo.tv/latest/440335-queen-elizabeth-ii-leaves-buckingham-palace-for-final-time-lies-in-state-at-westminster-hall', 'score': -0.72543}\n",
            "{'url': 'https://www.geo.tv/latest/440338-kate-middleton-looks-pensive-as-she-takes-part-in-queens-funeral-procession', 'score': 0.843409}\n",
            "{'url': 'https://www.independent.co.uk/news/uk/home-news/food-banks-uk-close-queen-elizabeth-funeral-b2166769.html', 'score': -0.311275}\n",
            "{'url': 'https://www.indiatoday.in/world/story/queen-elizabeth-coffin-arrives-westminster-hall-london-funeral-2000332-2022-09-14', 'score': 0.589506}\n",
            "{'url': 'https://www.indiatvnews.com/news/india/president-droupadi-murmu-to-attend-state-funeral-of-queen-elizabeth-ii-westminster-abbey-king-charles-iii-london-united-kingdom-2022-09-14-808219', 'score': -0.632924}\n",
            "{'url': 'https://www.inquirer.net', 'score': 0}\n",
            "{'url': 'https://www.irishtimes.com/world/uk/2022/09/14/queen-elizabeth-crowds-watch-as-city-bends-to-weight-of-royal-family/', 'score': -0.322994}\n",
            "{'url': 'https://www.news24.com/channel/gossip/royal-news/president-cyril-ramaphosa-to-attend-queen-elizabeths-funeral-20220914', 'score': 0}\n",
            "{'url': 'https://www.news24.com/channel/gossip/royal-news/princess-anne-not-everyones-idea-of-a-fairy-tale-princess-20220913-2', 'score': -0.393844}\n",
            "{'url': 'https://www.sbs.com.au/news/article/show-some-ambition-lidia-thorpe-calls-for-first-nations-treaty-in-wake-of-queens-death/5zesiai1w', 'score': 0.364538}\n",
            "{'url': 'https://www.skynews.com.au/world-news/united-kingdom/queens-guard-collapses-in-front-of-her-coffin/video/aec6340ccaad1f488dd855e7136d65c4', 'score': 0.676169}\n",
            "{'url': 'https://www.smh.com.au/national/albanese-s-decision-to-suspend-parliament-to-mourn-the-queen-was-a-clever-strategy-20220913-p5bhre.html', 'score': 0.283377}\n",
            "{'url': 'https://www.smh.com.au/national/we-did-a-poll-and-here-is-who-you-want-on-the-5-note-20220914-p5bhzg.html', 'score': 0.448037}\n",
            "{'url': 'https://www.theglobeandmail.com/world/article-queues-begin-in-london-to-view-queen-elizabeths-coffin/', 'score': 0.447654}\n",
            "{'url': 'https://www.theguardian.com/uk-news/gallery/2022/sep/14/queen-elizabeth-iis-coffin-procession-in-pictures', 'score': 0}\n",
            "{'url': 'https://www.thestar.com.my/aseanplus/aseanplus-news/2022/09/13/king-sihamoni-queen-mother-send-letter-to-king-charles-iii', 'score': 0.627214}\n",
            "{'url': 'https://www.thestar.com.my/news/world/2022/09/15/thousands-pass-queen-elizabeth039s-coffin-as-she-lies-in-state-in-london', 'score': -0.371001}\n",
            "{'url': 'https://www.youtube.com/watch?v=AQe8HdJjFMU', 'score': 0}\n"
          ]
        }
      ]
    },
    {
      "cell_type": "code",
      "source": [
        "table_name = f\"{suffix}_sentiment_score\"\n",
        "# Create a table\n",
        "create_table_query = f\"\"\"CREATE TABLE IF NOT EXISTS {db_name}.{table_name} \n",
        "                                (url varchar(1000),\n",
        "                                sentiment_score varchar(1000), \n",
        "                                PRIMARY KEY(url)\n",
        "                                )\"\"\"\n",
        "engine.execute(create_table_query)"
      ],
      "metadata": {
        "colab": {
          "base_uri": "https://localhost:8080/"
        },
        "id": "i2RIs9nM4GRi",
        "outputId": "a37cd42e-a3a1-40e8-f6a5-78ffdd7ba38e"
      },
      "execution_count": 86,
      "outputs": [
        {
          "output_type": "execute_result",
          "data": {
            "text/plain": [
              "<sqlalchemy.engine.cursor.LegacyCursorResult at 0x7f748d9e5c90>"
            ]
          },
          "metadata": {},
          "execution_count": 86
        }
      ]
    },
    {
      "cell_type": "code",
      "source": [
        "query_template = f\"\"\"\n",
        "                    INSERT IGNORE INTO \n",
        "                    {db_name}.{table_name}(url, sentiment_score) \n",
        "                    VALUES (%s, %s)\n",
        "                  \"\"\"\n",
        "for score in sentiment_scores:\n",
        "    url = score['url']\n",
        "    sentiment_score = score['score']\n",
        "\n",
        "    print(\"Inserting URL\", url, \"with\", sentiment_score, \"as score\")\n",
        "    query_parameters = (url, sentiment_score)\n",
        "    engine.execute(query_template, query_parameters)"
      ],
      "metadata": {
        "colab": {
          "base_uri": "https://localhost:8080/"
        },
        "id": "_TIwHI-G4jot",
        "outputId": "aef93723-2936-4d19-a3bf-060d3300253b"
      },
      "execution_count": 87,
      "outputs": [
        {
          "output_type": "stream",
          "name": "stdout",
          "text": [
            "Inserting URL https://7news.com.au/entertainment/royal-family/member-of-the-royal-guard-surrounding-the-coffin-of-queen-elizabeth-collapses--c-8244739 with -0.608437 as score\n",
            "Inserting URL https://edmontonjournal.com/news/local-news/alberta-to-mark-day-of-mourning-but-no-holiday-for-queens-funeral with 0.465382 as score\n",
            "Inserting URL https://news.sky.com/story/sustained-by-pimms-lager-and-katsu-curry-but-only-respect-for-the-queen-in-the-queue-12697688 with -0.32244 as score\n",
            "Inserting URL https://www.abc.net.au/news/2022-09-15/live-updates-queen-elizabeth-ii-coffin-procession-westminster/101441332 with -0.384216 as score\n",
            "Inserting URL https://www.asiaone.com/entertainment/ex-hong-kong-actress-theresa-lee-ageing-gracefully-shows-wrinkles-and-pigmentation with 0.314691 as score\n",
            "Inserting URL https://www.channelnewsasia.com/world/king-charles-william-and-harry-reunited-grief-escort-queens-coffin-2937566 with 0.277354 as score\n",
            "Inserting URL https://www.cnn.com/2022/09/14/uk/queen-elizabeth-silent-procession-intl-gbr/index.html with 0.397199 as score\n",
            "Inserting URL https://www.eadt.co.uk/news/when-will-bins-be-collected-on-bank-holiday-9272682 with -0.823228 as score\n",
            "Inserting URL https://www.geo.tv/latest/440316-meghan-markle-does-a-deep-curtsy-to-queen-elizabeths-coffin-as-respect with 0.704686 as score\n",
            "Inserting URL https://www.geo.tv/latest/440335-queen-elizabeth-ii-leaves-buckingham-palace-for-final-time-lies-in-state-at-westminster-hall with -0.72543 as score\n",
            "Inserting URL https://www.geo.tv/latest/440338-kate-middleton-looks-pensive-as-she-takes-part-in-queens-funeral-procession with 0.843409 as score\n",
            "Inserting URL https://www.independent.co.uk/news/uk/home-news/food-banks-uk-close-queen-elizabeth-funeral-b2166769.html with -0.311275 as score\n",
            "Inserting URL https://www.indiatoday.in/world/story/queen-elizabeth-coffin-arrives-westminster-hall-london-funeral-2000332-2022-09-14 with 0.589506 as score\n",
            "Inserting URL https://www.indiatvnews.com/news/india/president-droupadi-murmu-to-attend-state-funeral-of-queen-elizabeth-ii-westminster-abbey-king-charles-iii-london-united-kingdom-2022-09-14-808219 with -0.632924 as score\n",
            "Inserting URL https://www.inquirer.net with 0 as score\n",
            "Inserting URL https://www.irishtimes.com/world/uk/2022/09/14/queen-elizabeth-crowds-watch-as-city-bends-to-weight-of-royal-family/ with -0.322994 as score\n",
            "Inserting URL https://www.news24.com/channel/gossip/royal-news/president-cyril-ramaphosa-to-attend-queen-elizabeths-funeral-20220914 with 0 as score\n",
            "Inserting URL https://www.news24.com/channel/gossip/royal-news/princess-anne-not-everyones-idea-of-a-fairy-tale-princess-20220913-2 with -0.393844 as score\n",
            "Inserting URL https://www.sbs.com.au/news/article/show-some-ambition-lidia-thorpe-calls-for-first-nations-treaty-in-wake-of-queens-death/5zesiai1w with 0.364538 as score\n",
            "Inserting URL https://www.skynews.com.au/world-news/united-kingdom/queens-guard-collapses-in-front-of-her-coffin/video/aec6340ccaad1f488dd855e7136d65c4 with 0.676169 as score\n",
            "Inserting URL https://www.smh.com.au/national/albanese-s-decision-to-suspend-parliament-to-mourn-the-queen-was-a-clever-strategy-20220913-p5bhre.html with 0.283377 as score\n",
            "Inserting URL https://www.smh.com.au/national/we-did-a-poll-and-here-is-who-you-want-on-the-5-note-20220914-p5bhzg.html with 0.448037 as score\n",
            "Inserting URL https://www.theglobeandmail.com/world/article-queues-begin-in-london-to-view-queen-elizabeths-coffin/ with 0.447654 as score\n",
            "Inserting URL https://www.theguardian.com/uk-news/gallery/2022/sep/14/queen-elizabeth-iis-coffin-procession-in-pictures with 0 as score\n",
            "Inserting URL https://www.thestar.com.my/aseanplus/aseanplus-news/2022/09/13/king-sihamoni-queen-mother-send-letter-to-king-charles-iii with 0.627214 as score\n",
            "Inserting URL https://www.thestar.com.my/news/world/2022/09/15/thousands-pass-queen-elizabeth039s-coffin-as-she-lies-in-state-in-london with -0.371001 as score\n",
            "Inserting URL https://www.youtube.com/watch?v=AQe8HdJjFMU with 0 as score\n"
          ]
        }
      ]
    },
    {
      "cell_type": "code",
      "source": [
        "results = engine.execute(f\"SELECT * FROM {db_name}.{table_name}\")\n",
        "rows = results.fetchall()\n",
        "results.close()"
      ],
      "metadata": {
        "id": "kZZYCJUJ8sQg"
      },
      "execution_count": 88,
      "outputs": []
    },
    {
      "cell_type": "code",
      "source": [
        "for row in rows:\n",
        "    print(\"URL:\", row[\"url\"])\n",
        "    print(\"Sentiment Score:\", row[\"sentiment_score\"])\n",
        "    print(\"=============================================\")"
      ],
      "metadata": {
        "colab": {
          "base_uri": "https://localhost:8080/"
        },
        "id": "6inM955O8vEu",
        "outputId": "6c56f8bc-37c2-48d6-e2fb-a423b13a4e9d"
      },
      "execution_count": 89,
      "outputs": [
        {
          "output_type": "stream",
          "name": "stdout",
          "text": [
            "URL: https://7news.com.au/entertainment/royal-family/member-of-the-royal-guard-surrounding-the-coffin-of-queen-elizabeth-collapses--c-8244739\n",
            "Sentiment Score: -0.608437\n",
            "=============================================\n",
            "URL: https://edmontonjournal.com/news/local-news/alberta-to-mark-day-of-mourning-but-no-holiday-for-queens-funeral\n",
            "Sentiment Score: 0.465382\n",
            "=============================================\n",
            "URL: https://news.sky.com/story/sustained-by-pimms-lager-and-katsu-curry-but-only-respect-for-the-queen-in-the-queue-12697688\n",
            "Sentiment Score: -0.32244\n",
            "=============================================\n",
            "URL: https://www.abc.net.au/news/2022-09-15/live-updates-queen-elizabeth-ii-coffin-procession-westminster/101441332\n",
            "Sentiment Score: -0.384216\n",
            "=============================================\n",
            "URL: https://www.asiaone.com/entertainment/ex-hong-kong-actress-theresa-lee-ageing-gracefully-shows-wrinkles-and-pigmentation\n",
            "Sentiment Score: 0.314691\n",
            "=============================================\n",
            "URL: https://www.channelnewsasia.com/world/king-charles-william-and-harry-reunited-grief-escort-queens-coffin-2937566\n",
            "Sentiment Score: 0.277354\n",
            "=============================================\n",
            "URL: https://www.cnn.com/2022/09/14/uk/queen-elizabeth-silent-procession-intl-gbr/index.html\n",
            "Sentiment Score: 0.397199\n",
            "=============================================\n",
            "URL: https://www.eadt.co.uk/news/when-will-bins-be-collected-on-bank-holiday-9272682\n",
            "Sentiment Score: -0.823228\n",
            "=============================================\n",
            "URL: https://www.geo.tv/latest/440316-meghan-markle-does-a-deep-curtsy-to-queen-elizabeths-coffin-as-respect\n",
            "Sentiment Score: 0.704686\n",
            "=============================================\n",
            "URL: https://www.geo.tv/latest/440335-queen-elizabeth-ii-leaves-buckingham-palace-for-final-time-lies-in-state-at-westminster-hall\n",
            "Sentiment Score: -0.72543\n",
            "=============================================\n",
            "URL: https://www.geo.tv/latest/440338-kate-middleton-looks-pensive-as-she-takes-part-in-queens-funeral-procession\n",
            "Sentiment Score: 0.843409\n",
            "=============================================\n",
            "URL: https://www.independent.co.uk/news/uk/home-news/food-banks-uk-close-queen-elizabeth-funeral-b2166769.html\n",
            "Sentiment Score: -0.311275\n",
            "=============================================\n",
            "URL: https://www.indiatoday.in/world/story/queen-elizabeth-coffin-arrives-westminster-hall-london-funeral-2000332-2022-09-14\n",
            "Sentiment Score: 0.589506\n",
            "=============================================\n",
            "URL: https://www.indiatvnews.com/news/india/president-droupadi-murmu-to-attend-state-funeral-of-queen-elizabeth-ii-westminster-abbey-king-charles-iii-london-united-kingdom-2022-09-14-808219\n",
            "Sentiment Score: -0.632924\n",
            "=============================================\n",
            "URL: https://www.inquirer.net\n",
            "Sentiment Score: 0.0\n",
            "=============================================\n",
            "URL: https://www.irishtimes.com/world/uk/2022/09/14/queen-elizabeth-crowds-watch-as-city-bends-to-weight-of-royal-family/\n",
            "Sentiment Score: -0.322994\n",
            "=============================================\n",
            "URL: https://www.news24.com/channel/gossip/royal-news/president-cyril-ramaphosa-to-attend-queen-elizabeths-funeral-20220914\n",
            "Sentiment Score: 0.0\n",
            "=============================================\n",
            "URL: https://www.news24.com/channel/gossip/royal-news/princess-anne-not-everyones-idea-of-a-fairy-tale-princess-20220913-2\n",
            "Sentiment Score: -0.393844\n",
            "=============================================\n",
            "URL: https://www.sbs.com.au/news/article/show-some-ambition-lidia-thorpe-calls-for-first-nations-treaty-in-wake-of-queens-death/5zesiai1w\n",
            "Sentiment Score: 0.364538\n",
            "=============================================\n",
            "URL: https://www.skynews.com.au/world-news/united-kingdom/queens-guard-collapses-in-front-of-her-coffin/video/aec6340ccaad1f488dd855e7136d65c4\n",
            "Sentiment Score: 0.676169\n",
            "=============================================\n",
            "URL: https://www.smh.com.au/national/albanese-s-decision-to-suspend-parliament-to-mourn-the-queen-was-a-clever-strategy-20220913-p5bhre.html\n",
            "Sentiment Score: 0.283377\n",
            "=============================================\n",
            "URL: https://www.smh.com.au/national/we-did-a-poll-and-here-is-who-you-want-on-the-5-note-20220914-p5bhzg.html\n",
            "Sentiment Score: 0.448037\n",
            "=============================================\n",
            "URL: https://www.theglobeandmail.com/world/article-queues-begin-in-london-to-view-queen-elizabeths-coffin/\n",
            "Sentiment Score: 0.447654\n",
            "=============================================\n",
            "URL: https://www.theguardian.com/uk-news/gallery/2022/sep/14/queen-elizabeth-iis-coffin-procession-in-pictures\n",
            "Sentiment Score: 0.0\n",
            "=============================================\n",
            "URL: https://www.thestar.com.my/aseanplus/aseanplus-news/2022/09/13/king-sihamoni-queen-mother-send-letter-to-king-charles-iii\n",
            "Sentiment Score: 0.627214\n",
            "=============================================\n",
            "URL: https://www.thestar.com.my/news/world/2022/09/15/thousands-pass-queen-elizabeth039s-coffin-as-she-lies-in-state-in-london\n",
            "Sentiment Score: -0.371001\n",
            "=============================================\n",
            "URL: https://www.youtube.com/watch?v=AQe8HdJjFMU\n",
            "Sentiment Score: 0.0\n",
            "=============================================\n"
          ]
        }
      ]
    }
  ]
}