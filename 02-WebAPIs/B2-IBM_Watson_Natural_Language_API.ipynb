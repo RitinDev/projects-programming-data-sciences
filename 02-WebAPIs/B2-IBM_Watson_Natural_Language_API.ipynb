{
  "nbformat": 4,
  "nbformat_minor": 0,
  "metadata": {
    "kernelspec": {
      "display_name": "Python 3",
      "language": "python",
      "name": "python3"
    },
    "language_info": {
      "codemirror_mode": {
        "name": "ipython",
        "version": 3
      },
      "file_extension": ".py",
      "mimetype": "text/x-python",
      "name": "python",
      "nbconvert_exporter": "python",
      "pygments_lexer": "ipython3",
      "version": "3.6.7"
    },
    "colab": {
      "name": "B2-IBM_Watson_Natural_Language_API.ipynb",
      "provenance": [],
      "include_colab_link": true
    }
  },
  "cells": [
    {
      "cell_type": "markdown",
      "metadata": {
        "id": "view-in-github",
        "colab_type": "text"
      },
      "source": [
        "<a href=\"https://colab.research.google.com/github/RitinDev/projects-programming-data-sciences/blob/main/02-WebAPIs/B2-IBM_Watson_Natural_Language_API.ipynb\" target=\"_parent\"><img src=\"https://colab.research.google.com/assets/colab-badge.svg\" alt=\"Open In Colab\"/></a>"
      ]
    },
    {
      "cell_type": "markdown",
      "metadata": {
        "id": "YpOyKprkg78J"
      },
      "source": [
        "# Interacting with the IBM Watson Natural Language Understanding API\n",
        "\n",
        "Another useful API, especially when dealing with text, is the [IBM Watson  Natural Language Understanding API](https://console.bluemix.net/catalog/services/natural-language-understanding), which offers a variety of text analysis functionalities, such as sentiment analysis, entity extraction, keyword extraction, etc.\n",
        "\n",
        "We will give a couple of examples below, to understand how we can take an unstructured piece of text (either the text alone, or a URL with text), and perform some analysis.\n",
        "\n"
      ]
    },
    {
      "cell_type": "markdown",
      "source": [
        "\n",
        "\n",
        "## Sentiment ana emotion analysis\n",
        "\n",
        "We will first start with the `/analyze` API call ([documentation](https://cloud.ibm.com/apidocs/natural-language-understanding#analyzeget)), which takes as input a piece of text, and returns an analysis across various dimensions. \n",
        "\n",
        "The API supports the following analyses:\n",
        "\n",
        "`categories,classifications,concepts,emotion,entities,keywords,metadata,relations,semantic_roles,sentiment,summarization (experimental),syntax`\n",
        "\n",
        "The API supports not only English, but also a [variety of non-English languages](https://cloud.ibm.com/docs/natural-language-understanding?topic=natural-language-understanding-detectable-languages).\n",
        "\n",
        "In our introductory attempt, we will use the `sentiment` and `emotion` and focus on English texts. \n",
        "\n"
      ],
      "metadata": {
        "id": "w5AdsJAa5iIQ"
      }
    },
    {
      "cell_type": "code",
      "metadata": {
        "id": "Scpvaji2MigH"
      },
      "source": [
        "import requests"
      ],
      "execution_count": 4,
      "outputs": []
    },
    {
      "cell_type": "code",
      "metadata": {
        "id": "6o4aBLeBg78M"
      },
      "source": [
        "URL = 'https://api.us-south.natural-language-understanding.watson.cloud.ibm.com/instances/9e683088-0d12-4399-8118-518f3e60e8c4'\n",
        "\n",
        "# My own API key. It may run out of quota\n",
        "# You can register and get your own credentials\n",
        "# The ones below have a quota of 1000 calls per day \n",
        "# and can run out quickly if multiple people use these\n",
        "API_KEY = 'yx39wyiwPNGm7DoDUPCSJB4SzFkr0qurARfbGYyEdaoC'\n",
        "\n",
        "def analyzeText(text=None, url=None):\n",
        "\n",
        "    endpoint = f\"{URL}/v1/analyze\"\n",
        "    username = \"apikey\"\n",
        "    password = API_KEY\n",
        "    \n",
        "    parameters = {\n",
        "        'features': 'emotion,sentiment',\n",
        "        'version' : '2022-04-07',\n",
        "        'text': text,\n",
        "        'language' : 'en',\n",
        "        'url' : url # this is an alternative to sending the text\n",
        "    }\n",
        "\n",
        "    resp = requests.get(endpoint, params=parameters, auth=(username, password))\n",
        "    \n",
        "    return resp.json()"
      ],
      "execution_count": 1,
      "outputs": []
    },
    {
      "cell_type": "code",
      "metadata": {
        "id": "HCGGi4Sug78U"
      },
      "source": [
        "# We will analyze the text below using the IBM Watson API\n",
        "\n",
        "review = '''\n",
        "I got their Egg & Cheese sandwich on a Whole Wheat Everything Bagel. \n",
        "First off, I loved loved loved the texture of the bagel itself. \n",
        "It was very chewy yet soft, which is a top feature for a NY style bagel. \n",
        "However, I thought there could've been more seasoning on top of \n",
        "the bagel as I found the bagel itself to be a bit bland. \n",
        "\n",
        "Speaking of bland, I thought the egg and cheese filling were also quite bland. \n",
        "This was definitely lacking salt and pepper in the eggs and the cheese didn't\n",
        "really add too much flavor either, which was really disappointing! \n",
        "My mom also had the same complaint with her bagel sandwich \n",
        "(she had the egg sandwich on a blueberry bagel) so I definitely wasn't \n",
        "the only one.\n",
        "\n",
        "'''"
      ],
      "execution_count": 2,
      "outputs": []
    },
    {
      "cell_type": "code",
      "metadata": {
        "id": "RRYAW9WHg78Y",
        "outputId": "64a9a898-4db8-4c92-d2ef-56e2da100e6d",
        "colab": {
          "base_uri": "https://localhost:8080/"
        }
      },
      "source": [
        "data = analyzeText(text=review)\n",
        "data"
      ],
      "execution_count": 5,
      "outputs": [
        {
          "output_type": "execute_result",
          "data": {
            "text/plain": [
              "{'usage': {'text_units': 1, 'text_characters': 707, 'features': 2},\n",
              " 'sentiment': {'document': {'score': -0.600662, 'label': 'negative'}},\n",
              " 'language': 'en',\n",
              " 'emotion': {'document': {'emotion': {'sadness': 0.167794,\n",
              "    'joy': 0.370866,\n",
              "    'fear': 0.039799,\n",
              "    'disgust': 0.164856,\n",
              "    'anger': 0.196751}}}}"
            ]
          },
          "metadata": {},
          "execution_count": 5
        }
      ]
    },
    {
      "cell_type": "markdown",
      "metadata": {
        "id": "HofZ85yFg78c"
      },
      "source": [
        "Now, let's try to understand the structure of the answer. First, we check the high-level keys."
      ]
    },
    {
      "cell_type": "code",
      "metadata": {
        "id": "nD3qoCmMg78d",
        "outputId": "cf58a348-e01c-4368-9a86-7edbf899e677",
        "colab": {
          "base_uri": "https://localhost:8080/"
        }
      },
      "source": [
        "data.keys()"
      ],
      "execution_count": 6,
      "outputs": [
        {
          "output_type": "execute_result",
          "data": {
            "text/plain": [
              "dict_keys(['usage', 'sentiment', 'language', 'emotion'])"
            ]
          },
          "metadata": {},
          "execution_count": 6
        }
      ]
    },
    {
      "cell_type": "markdown",
      "metadata": {
        "id": "itoPJcaNg78h"
      },
      "source": [
        "Now, let's check the content of these keys:"
      ]
    },
    {
      "cell_type": "code",
      "metadata": {
        "id": "0ewzjsNHg78i",
        "outputId": "8600e3d0-dfd7-4586-8e50-5fbf3dc64a22",
        "colab": {
          "base_uri": "https://localhost:8080/",
          "height": 35
        }
      },
      "source": [
        "data['language']"
      ],
      "execution_count": 7,
      "outputs": [
        {
          "output_type": "execute_result",
          "data": {
            "text/plain": [
              "'en'"
            ],
            "application/vnd.google.colaboratory.intrinsic+json": {
              "type": "string"
            }
          },
          "metadata": {},
          "execution_count": 7
        }
      ]
    },
    {
      "cell_type": "code",
      "metadata": {
        "id": "wEMFHA_mg78n",
        "outputId": "d1b6785a-a7f8-412f-a793-f3702a17631e",
        "colab": {
          "base_uri": "https://localhost:8080/"
        }
      },
      "source": [
        "data['sentiment']"
      ],
      "execution_count": 8,
      "outputs": [
        {
          "output_type": "execute_result",
          "data": {
            "text/plain": [
              "{'document': {'score': -0.600662, 'label': 'negative'}}"
            ]
          },
          "metadata": {},
          "execution_count": 8
        }
      ]
    },
    {
      "cell_type": "code",
      "metadata": {
        "id": "_UO7k-scg78r",
        "outputId": "b7f88a6d-6d3d-4c31-e089-de090f947d27",
        "colab": {
          "base_uri": "https://localhost:8080/"
        }
      },
      "source": [
        "data['emotion']"
      ],
      "execution_count": 9,
      "outputs": [
        {
          "output_type": "execute_result",
          "data": {
            "text/plain": [
              "{'document': {'emotion': {'sadness': 0.167794,\n",
              "   'joy': 0.370866,\n",
              "   'fear': 0.039799,\n",
              "   'disgust': 0.164856,\n",
              "   'anger': 0.196751}}}"
            ]
          },
          "metadata": {},
          "execution_count": 9
        }
      ]
    },
    {
      "cell_type": "code",
      "metadata": {
        "id": "sdBxICpHg78w",
        "outputId": "fa5eb811-cca3-4fe2-9d49-77bd0ca424b6",
        "colab": {
          "base_uri": "https://localhost:8080/"
        }
      },
      "source": [
        "# Let's go deeper into the 'emotion' dictionary\n",
        "data['emotion']['document']"
      ],
      "execution_count": 10,
      "outputs": [
        {
          "output_type": "execute_result",
          "data": {
            "text/plain": [
              "{'emotion': {'sadness': 0.167794,\n",
              "  'joy': 0.370866,\n",
              "  'fear': 0.039799,\n",
              "  'disgust': 0.164856,\n",
              "  'anger': 0.196751}}"
            ]
          },
          "metadata": {},
          "execution_count": 10
        }
      ]
    },
    {
      "cell_type": "code",
      "metadata": {
        "id": "T-A1ZJFyg780",
        "outputId": "b15893c8-0bdb-4181-b1cc-65d914816475",
        "colab": {
          "base_uri": "https://localhost:8080/"
        }
      },
      "source": [
        "# And a bit more\n",
        "data['emotion']['document']['emotion']"
      ],
      "execution_count": 11,
      "outputs": [
        {
          "output_type": "execute_result",
          "data": {
            "text/plain": [
              "{'sadness': 0.167794,\n",
              " 'joy': 0.370866,\n",
              " 'fear': 0.039799,\n",
              " 'disgust': 0.164856,\n",
              " 'anger': 0.196751}"
            ]
          },
          "metadata": {},
          "execution_count": 11
        }
      ]
    },
    {
      "cell_type": "markdown",
      "metadata": {
        "id": "19-vgKPag785"
      },
      "source": [
        "### Exercise 1\n",
        "\n",
        "Type your own piece of text, and analyze it to extract sentiment and emotions. Discuss your findings"
      ]
    },
    {
      "cell_type": "code",
      "metadata": {
        "id": "AO2SHOE7g786",
        "outputId": "6c006556-e61b-47a0-b597-3d8695a4029d",
        "colab": {
          "base_uri": "https://localhost:8080/"
        }
      },
      "source": [
        "my_own_text = '''\n",
        "The FitnessGram™ Pacer Test is a multistage aerobic capacity test that progressively gets more difficult as it continues. The 20 meter pacer test will begin in 30 seconds. Line up at the start. The running speed starts slowly, but gets faster each minute after you hear this signal. [beep] A single lap should be completed each time you hear this sound. [ding] Remember to run in a straight line, and run as long as possible. The second time you fail to complete a lap before the sound, your test is over. The test will begin on the word start. On your mark, get ready, start.\n",
        "'''\n",
        "\n",
        "data = analyzeText( text = my_own_text )\n",
        "print(f\"Language: {data['language']}\")\n",
        "print(f\"Sentiment: {data['sentiment']['document']}\")\n",
        "print(f\"Emotion: {data['emotion']['document']}\")"
      ],
      "execution_count": 14,
      "outputs": [
        {
          "output_type": "stream",
          "name": "stdout",
          "text": [
            "Language: en\n",
            "Sentiment: {'score': 0.267975, 'label': 'positive'}\n",
            "Emotion: {'emotion': {'sadness': 0.186833, 'joy': 0.425755, 'fear': 0.225033, 'disgust': 0.016703, 'anger': 0.059469}}\n"
          ]
        }
      ]
    },
    {
      "cell_type": "markdown",
      "metadata": {
        "id": "vxKeCado_5EU"
      },
      "source": [
        "### Exercise 2\n",
        "\n",
        "Below is slightly different call, which takes as input a URL to analyze, instead of a piece of text. Use it to analyze a URL of your choice"
      ]
    },
    {
      "cell_type": "code",
      "metadata": {
        "id": "tSiHLtpWADP-",
        "outputId": "f3ba2a9a-d6c2-4d56-af9e-00b2a9dd0851",
        "colab": {
          "base_uri": "https://localhost:8080/"
        }
      },
      "source": [
        "news_url = 'https://xarangi.github.io/'\n",
        "analyzeText(url = news_url)"
      ],
      "execution_count": 18,
      "outputs": [
        {
          "output_type": "execute_result",
          "data": {
            "text/plain": [
              "{'usage': {'text_units': 3, 'text_characters': 20223, 'features': 2},\n",
              " 'sentiment': {'document': {'score': -0.375663, 'label': 'negative'}},\n",
              " 'retrieved_url': 'https://xarangi.github.io/',\n",
              " 'language': 'en',\n",
              " 'emotion': {'document': {'emotion': {'sadness': 0.340438,\n",
              "    'joy': 0.296978,\n",
              "    'fear': 0.093135,\n",
              "    'disgust': 0.036156,\n",
              "    'anger': 0.072841}}}}"
            ]
          },
          "metadata": {},
          "execution_count": 18
        }
      ]
    },
    {
      "cell_type": "markdown",
      "metadata": {
        "id": "oFIwBAw9g789"
      },
      "source": [
        "## Entities call\n",
        "\n",
        "The code below changes slightly the way that we way that we call the API. Instead of asking for sentiment and emotion, we instead ask to extract entities from the text, and also the sentiment and emotion for each of these entities.\n",
        "\n",
        "In terms of natural language processing, we will examine a couple of capabilities of the API. First, you will see that there is the capability of \"normalizing\" each entity, so that two different ways of saying the same thing get mapped to the same entity. So for example, \"President Trump\" and \"Donald Trump\" get mapped to the same Knowledge Graph entity."
      ]
    },
    {
      "cell_type": "code",
      "source": [
        "URL = 'https://api.us-south.natural-language-understanding.watson.cloud.ibm.com/instances/9e683088-0d12-4399-8118-518f3e60e8c4'\n",
        "\n",
        "API_KEY = 'yx39wyiwPNGm7DoDUPCSJB4SzFkr0qurARfbGYyEdaoC'\n",
        "\n",
        "def extractEntities(text=None, url=None):\n",
        "\n",
        "    endpoint = f\"{URL}/v1/analyze\"\n",
        "    username = \"apikey\"\n",
        "    password = API_KEY\n",
        "    \n",
        "    parameters = {\n",
        "        'features': 'entities',\n",
        "        'version' : '2022-04-07',\n",
        "        'entities.limit' : 10,\n",
        "        'entities.sentiment' : True,\n",
        "        'entities.emotion' : True,\n",
        "        'text': text,\n",
        "        'language' : 'en',\n",
        "        'url' : url # this is an alternative to sending the text\n",
        "    }\n",
        "\n",
        "    resp = requests.get(endpoint, params=parameters, auth=(username, password))\n",
        "    \n",
        "    return resp.json()"
      ],
      "metadata": {
        "id": "OHqTURmF8pFL"
      },
      "execution_count": 19,
      "outputs": []
    },
    {
      "cell_type": "code",
      "metadata": {
        "id": "cCfu7Mp8g79F"
      },
      "source": [
        "news_url = 'https://xarangi.github.io/'\n",
        "\n",
        "data = extractEntities(url=news_url)"
      ],
      "execution_count": 23,
      "outputs": []
    },
    {
      "cell_type": "code",
      "metadata": {
        "id": "4m1uBsl4M6WL",
        "outputId": "b74df4bf-7f62-4123-8205-6c84e0f7a98f",
        "colab": {
          "base_uri": "https://localhost:8080/"
        }
      },
      "source": [
        "data"
      ],
      "execution_count": 24,
      "outputs": [
        {
          "output_type": "execute_result",
          "data": {
            "text/plain": [
              "{'usage': {'text_units': 3, 'text_characters': 20223, 'features': 1},\n",
              " 'retrieved_url': 'https://xarangi.github.io/',\n",
              " 'language': 'en',\n",
              " 'entities': [{'type': 'Organization',\n",
              "   'text': 'NYUAD',\n",
              "   'sentiment': {'score': 0.65601, 'label': 'positive'},\n",
              "   'relevance': 0.949965,\n",
              "   'emotion': {'sadness': 0.131668,\n",
              "    'joy': 0.63642,\n",
              "    'fear': 0.048552,\n",
              "    'disgust': 0.04511,\n",
              "    'anger': 0.07095},\n",
              "   'count': 2,\n",
              "   'confidence': 0.897769},\n",
              "  {'type': 'Facility',\n",
              "   'text': 'echo chambers',\n",
              "   'sentiment': {'score': -0.835959, 'label': 'negative'},\n",
              "   'relevance': 0.373493,\n",
              "   'emotion': {'sadness': 0.739389,\n",
              "    'joy': 0.044319,\n",
              "    'fear': 0.105493,\n",
              "    'disgust': 0.025149,\n",
              "    'anger': 0.017458},\n",
              "   'count': 1,\n",
              "   'confidence': 0.155708},\n",
              "  {'type': 'JobTitle',\n",
              "   'text': 'independent researchers',\n",
              "   'sentiment': {'score': -0.671545, 'label': 'negative'},\n",
              "   'relevance': 0.367642,\n",
              "   'emotion': {'sadness': 0.506375,\n",
              "    'joy': 0.355752,\n",
              "    'fear': 0.039037,\n",
              "    'disgust': 0.043384,\n",
              "    'anger': 0.016998},\n",
              "   'count': 1,\n",
              "   'confidence': 0.539512},\n",
              "  {'type': 'Organization',\n",
              "   'text': 'Association for the Advancement of Artificial Intelligence (AAAI',\n",
              "   'sentiment': {'score': -0.741511, 'label': 'negative'},\n",
              "   'relevance': 0.366279,\n",
              "   'emotion': {'sadness': 0.506375,\n",
              "    'joy': 0.355752,\n",
              "    'fear': 0.039037,\n",
              "    'disgust': 0.043384,\n",
              "    'anger': 0.016998},\n",
              "   'count': 1,\n",
              "   'confidence': 0.41565},\n",
              "  {'type': 'Organization',\n",
              "   'text': 'Princeton’s ESOC COVID',\n",
              "   'sentiment': {'score': -0.733947, 'label': 'negative'},\n",
              "   'relevance': 0.361858,\n",
              "   'emotion': {'sadness': 0.16272,\n",
              "    'joy': 0.098013,\n",
              "    'fear': 0.034453,\n",
              "    'disgust': 0.043754,\n",
              "    'anger': 0.046537},\n",
              "   'count': 1,\n",
              "   'confidence': 0.294647},\n",
              "  {'type': 'Location',\n",
              "   'text': 'Abu Dhabi',\n",
              "   'sentiment': {'score': 0.65601, 'label': 'positive'},\n",
              "   'relevance': 0.28451,\n",
              "   'emotion': {'sadness': 0.120466,\n",
              "    'joy': 0.795878,\n",
              "    'fear': 0.042534,\n",
              "    'disgust': 0.014642,\n",
              "    'anger': 0.049226},\n",
              "   'count': 1,\n",
              "   'confidence': 0.53532},\n",
              "  {'type': 'Organization',\n",
              "   'text': 'Twitter',\n",
              "   'sentiment': {'score': -0.786611, 'label': 'negative'},\n",
              "   'relevance': 0.237108,\n",
              "   'emotion': {'sadness': 0.143802,\n",
              "    'joy': 0.122481,\n",
              "    'fear': 0.055955,\n",
              "    'disgust': 0.031158,\n",
              "    'anger': 0.075986},\n",
              "   'disambiguation': {'subtype': ['Website',\n",
              "     'Company',\n",
              "     'VentureFundedCompany'],\n",
              "    'name': 'Twitter',\n",
              "    'dbpedia_resource': 'http://dbpedia.org/resource/Twitter'},\n",
              "   'count': 2,\n",
              "   'confidence': 0.991189},\n",
              "  {'type': 'Organization',\n",
              "   'text': 'LIX',\n",
              "   'sentiment': {'score': -0.46423, 'label': 'negative'},\n",
              "   'relevance': 0.212657,\n",
              "   'emotion': {'sadness': 0.291288,\n",
              "    'joy': 0.165589,\n",
              "    'fear': 0.084342,\n",
              "    'disgust': 0.026022,\n",
              "    'anger': 0.019003},\n",
              "   'count': 1,\n",
              "   'confidence': 0.6716},\n",
              "  {'type': 'JobTitle',\n",
              "   'text': 'specialists',\n",
              "   'sentiment': {'score': -0.439049, 'label': 'negative'},\n",
              "   'relevance': 0.19276,\n",
              "   'emotion': {'sadness': 0.217601,\n",
              "    'joy': 0.052692,\n",
              "    'fear': 0.053525,\n",
              "    'disgust': 0.020772,\n",
              "    'anger': 0.082558},\n",
              "   'count': 1,\n",
              "   'confidence': 0.598181},\n",
              "  {'type': 'JobTitle',\n",
              "   'text': 'U.S. president',\n",
              "   'sentiment': {'score': 0.690893, 'label': 'positive'},\n",
              "   'relevance': 0.177453,\n",
              "   'emotion': {'sadness': 0.349607,\n",
              "    'joy': 0.191414,\n",
              "    'fear': 0.013034,\n",
              "    'disgust': 0.220007,\n",
              "    'anger': 0.016376},\n",
              "   'count': 1,\n",
              "   'confidence': 0.305451}]}"
            ]
          },
          "metadata": {},
          "execution_count": 24
        }
      ]
    },
    {
      "cell_type": "code",
      "metadata": {
        "id": "TXcFMzpSg79L",
        "outputId": "1ede7804-5a72-40bb-9db9-e043aa6c70d6",
        "colab": {
          "base_uri": "https://localhost:8080/"
        }
      },
      "source": [
        "# Let's see what we get back as top-level attributes\n",
        "data.keys()"
      ],
      "execution_count": 25,
      "outputs": [
        {
          "output_type": "execute_result",
          "data": {
            "text/plain": [
              "dict_keys(['usage', 'retrieved_url', 'language', 'entities'])"
            ]
          },
          "metadata": {},
          "execution_count": 25
        }
      ]
    },
    {
      "cell_type": "code",
      "metadata": {
        "scrolled": true,
        "id": "V0VyAAtSg79T",
        "outputId": "14730f90-9364-4c28-84a9-a610998bd11a",
        "colab": {
          "base_uri": "https://localhost:8080/"
        }
      },
      "source": [
        "# Let' see the entities list\n",
        "data[\"entities\"]"
      ],
      "execution_count": 26,
      "outputs": [
        {
          "output_type": "execute_result",
          "data": {
            "text/plain": [
              "[{'type': 'Organization',\n",
              "  'text': 'NYUAD',\n",
              "  'sentiment': {'score': 0.65601, 'label': 'positive'},\n",
              "  'relevance': 0.949965,\n",
              "  'emotion': {'sadness': 0.131668,\n",
              "   'joy': 0.63642,\n",
              "   'fear': 0.048552,\n",
              "   'disgust': 0.04511,\n",
              "   'anger': 0.07095},\n",
              "  'count': 2,\n",
              "  'confidence': 0.897769},\n",
              " {'type': 'Facility',\n",
              "  'text': 'echo chambers',\n",
              "  'sentiment': {'score': -0.835959, 'label': 'negative'},\n",
              "  'relevance': 0.373493,\n",
              "  'emotion': {'sadness': 0.739389,\n",
              "   'joy': 0.044319,\n",
              "   'fear': 0.105493,\n",
              "   'disgust': 0.025149,\n",
              "   'anger': 0.017458},\n",
              "  'count': 1,\n",
              "  'confidence': 0.155708},\n",
              " {'type': 'JobTitle',\n",
              "  'text': 'independent researchers',\n",
              "  'sentiment': {'score': -0.671545, 'label': 'negative'},\n",
              "  'relevance': 0.367642,\n",
              "  'emotion': {'sadness': 0.506375,\n",
              "   'joy': 0.355752,\n",
              "   'fear': 0.039037,\n",
              "   'disgust': 0.043384,\n",
              "   'anger': 0.016998},\n",
              "  'count': 1,\n",
              "  'confidence': 0.539512},\n",
              " {'type': 'Organization',\n",
              "  'text': 'Association for the Advancement of Artificial Intelligence (AAAI',\n",
              "  'sentiment': {'score': -0.741511, 'label': 'negative'},\n",
              "  'relevance': 0.366279,\n",
              "  'emotion': {'sadness': 0.506375,\n",
              "   'joy': 0.355752,\n",
              "   'fear': 0.039037,\n",
              "   'disgust': 0.043384,\n",
              "   'anger': 0.016998},\n",
              "  'count': 1,\n",
              "  'confidence': 0.41565},\n",
              " {'type': 'Organization',\n",
              "  'text': 'Princeton’s ESOC COVID',\n",
              "  'sentiment': {'score': -0.733947, 'label': 'negative'},\n",
              "  'relevance': 0.361858,\n",
              "  'emotion': {'sadness': 0.16272,\n",
              "   'joy': 0.098013,\n",
              "   'fear': 0.034453,\n",
              "   'disgust': 0.043754,\n",
              "   'anger': 0.046537},\n",
              "  'count': 1,\n",
              "  'confidence': 0.294647},\n",
              " {'type': 'Location',\n",
              "  'text': 'Abu Dhabi',\n",
              "  'sentiment': {'score': 0.65601, 'label': 'positive'},\n",
              "  'relevance': 0.28451,\n",
              "  'emotion': {'sadness': 0.120466,\n",
              "   'joy': 0.795878,\n",
              "   'fear': 0.042534,\n",
              "   'disgust': 0.014642,\n",
              "   'anger': 0.049226},\n",
              "  'count': 1,\n",
              "  'confidence': 0.53532},\n",
              " {'type': 'Organization',\n",
              "  'text': 'Twitter',\n",
              "  'sentiment': {'score': -0.786611, 'label': 'negative'},\n",
              "  'relevance': 0.237108,\n",
              "  'emotion': {'sadness': 0.143802,\n",
              "   'joy': 0.122481,\n",
              "   'fear': 0.055955,\n",
              "   'disgust': 0.031158,\n",
              "   'anger': 0.075986},\n",
              "  'disambiguation': {'subtype': ['Website', 'Company', 'VentureFundedCompany'],\n",
              "   'name': 'Twitter',\n",
              "   'dbpedia_resource': 'http://dbpedia.org/resource/Twitter'},\n",
              "  'count': 2,\n",
              "  'confidence': 0.991189},\n",
              " {'type': 'Organization',\n",
              "  'text': 'LIX',\n",
              "  'sentiment': {'score': -0.46423, 'label': 'negative'},\n",
              "  'relevance': 0.212657,\n",
              "  'emotion': {'sadness': 0.291288,\n",
              "   'joy': 0.165589,\n",
              "   'fear': 0.084342,\n",
              "   'disgust': 0.026022,\n",
              "   'anger': 0.019003},\n",
              "  'count': 1,\n",
              "  'confidence': 0.6716},\n",
              " {'type': 'JobTitle',\n",
              "  'text': 'specialists',\n",
              "  'sentiment': {'score': -0.439049, 'label': 'negative'},\n",
              "  'relevance': 0.19276,\n",
              "  'emotion': {'sadness': 0.217601,\n",
              "   'joy': 0.052692,\n",
              "   'fear': 0.053525,\n",
              "   'disgust': 0.020772,\n",
              "   'anger': 0.082558},\n",
              "  'count': 1,\n",
              "  'confidence': 0.598181},\n",
              " {'type': 'JobTitle',\n",
              "  'text': 'U.S. president',\n",
              "  'sentiment': {'score': 0.690893, 'label': 'positive'},\n",
              "  'relevance': 0.177453,\n",
              "  'emotion': {'sadness': 0.349607,\n",
              "   'joy': 0.191414,\n",
              "   'fear': 0.013034,\n",
              "   'disgust': 0.220007,\n",
              "   'anger': 0.016376},\n",
              "  'count': 1,\n",
              "  'confidence': 0.305451}]"
            ]
          },
          "metadata": {},
          "execution_count": 26
        }
      ]
    },
    {
      "cell_type": "code",
      "metadata": {
        "id": "8X5VaaqCg79X",
        "outputId": "39b684ae-8cc0-4c40-b5d7-e7a6f25ac480",
        "colab": {
          "base_uri": "https://localhost:8080/"
        }
      },
      "source": [
        "# Let' see the 7th entity. Notice the \"disambiguated\" attribute that\n",
        "# points to \"canonical\" versions of the entity, in DBPedia\n",
        "# Notice that \"Patriarch Kirill\"\" is the actual term used in the text\n",
        "data[\"entities\"][6]"
      ],
      "execution_count": 29,
      "outputs": [
        {
          "output_type": "execute_result",
          "data": {
            "text/plain": [
              "{'type': 'Organization',\n",
              " 'text': 'Twitter',\n",
              " 'sentiment': {'score': -0.786611, 'label': 'negative'},\n",
              " 'relevance': 0.237108,\n",
              " 'emotion': {'sadness': 0.143802,\n",
              "  'joy': 0.122481,\n",
              "  'fear': 0.055955,\n",
              "  'disgust': 0.031158,\n",
              "  'anger': 0.075986},\n",
              " 'disambiguation': {'subtype': ['Website', 'Company', 'VentureFundedCompany'],\n",
              "  'name': 'Twitter',\n",
              "  'dbpedia_resource': 'http://dbpedia.org/resource/Twitter'},\n",
              " 'count': 2,\n",
              " 'confidence': 0.991189}"
            ]
          },
          "metadata": {},
          "execution_count": 29
        }
      ]
    },
    {
      "cell_type": "code",
      "source": [
        "# Let's put the results in a dataframe, so that we can browse easier\n",
        "import pandas as pd\n",
        "\n",
        "pd.json_normalize(data['entities'])"
      ],
      "metadata": {
        "id": "R3wxxcJe_j_n",
        "outputId": "56bc4b73-a323-4c1e-b131-a3c944b35a95",
        "colab": {
          "base_uri": "https://localhost:8080/",
          "height": 583
        }
      },
      "execution_count": 30,
      "outputs": [
        {
          "output_type": "execute_result",
          "data": {
            "text/plain": [
              "           type                                               text  relevance  \\\n",
              "0  Organization                                              NYUAD   0.949965   \n",
              "1      Facility                                      echo chambers   0.373493   \n",
              "2      JobTitle                            independent researchers   0.367642   \n",
              "3  Organization  Association for the Advancement of Artificial ...   0.366279   \n",
              "4  Organization                             Princeton’s ESOC COVID   0.361858   \n",
              "5      Location                                          Abu Dhabi   0.284510   \n",
              "6  Organization                                            Twitter   0.237108   \n",
              "7  Organization                                                LIX   0.212657   \n",
              "8      JobTitle                                        specialists   0.192760   \n",
              "9      JobTitle                                     U.S. president   0.177453   \n",
              "\n",
              "   count  confidence  sentiment.score sentiment.label  emotion.sadness  \\\n",
              "0      2    0.897769         0.656010        positive         0.131668   \n",
              "1      1    0.155708        -0.835959        negative         0.739389   \n",
              "2      1    0.539512        -0.671545        negative         0.506375   \n",
              "3      1    0.415650        -0.741511        negative         0.506375   \n",
              "4      1    0.294647        -0.733947        negative         0.162720   \n",
              "5      1    0.535320         0.656010        positive         0.120466   \n",
              "6      2    0.991189        -0.786611        negative         0.143802   \n",
              "7      1    0.671600        -0.464230        negative         0.291288   \n",
              "8      1    0.598181        -0.439049        negative         0.217601   \n",
              "9      1    0.305451         0.690893        positive         0.349607   \n",
              "\n",
              "   emotion.joy  emotion.fear  emotion.disgust  emotion.anger  \\\n",
              "0     0.636420      0.048552         0.045110       0.070950   \n",
              "1     0.044319      0.105493         0.025149       0.017458   \n",
              "2     0.355752      0.039037         0.043384       0.016998   \n",
              "3     0.355752      0.039037         0.043384       0.016998   \n",
              "4     0.098013      0.034453         0.043754       0.046537   \n",
              "5     0.795878      0.042534         0.014642       0.049226   \n",
              "6     0.122481      0.055955         0.031158       0.075986   \n",
              "7     0.165589      0.084342         0.026022       0.019003   \n",
              "8     0.052692      0.053525         0.020772       0.082558   \n",
              "9     0.191414      0.013034         0.220007       0.016376   \n",
              "\n",
              "                     disambiguation.subtype disambiguation.name  \\\n",
              "0                                       NaN                 NaN   \n",
              "1                                       NaN                 NaN   \n",
              "2                                       NaN                 NaN   \n",
              "3                                       NaN                 NaN   \n",
              "4                                       NaN                 NaN   \n",
              "5                                       NaN                 NaN   \n",
              "6  [Website, Company, VentureFundedCompany]             Twitter   \n",
              "7                                       NaN                 NaN   \n",
              "8                                       NaN                 NaN   \n",
              "9                                       NaN                 NaN   \n",
              "\n",
              "       disambiguation.dbpedia_resource  \n",
              "0                                  NaN  \n",
              "1                                  NaN  \n",
              "2                                  NaN  \n",
              "3                                  NaN  \n",
              "4                                  NaN  \n",
              "5                                  NaN  \n",
              "6  http://dbpedia.org/resource/Twitter  \n",
              "7                                  NaN  \n",
              "8                                  NaN  \n",
              "9                                  NaN  "
            ],
            "text/html": [
              "\n",
              "  <div id=\"df-22ef374f-8134-48b2-8657-c94df0beba38\">\n",
              "    <div class=\"colab-df-container\">\n",
              "      <div>\n",
              "<style scoped>\n",
              "    .dataframe tbody tr th:only-of-type {\n",
              "        vertical-align: middle;\n",
              "    }\n",
              "\n",
              "    .dataframe tbody tr th {\n",
              "        vertical-align: top;\n",
              "    }\n",
              "\n",
              "    .dataframe thead th {\n",
              "        text-align: right;\n",
              "    }\n",
              "</style>\n",
              "<table border=\"1\" class=\"dataframe\">\n",
              "  <thead>\n",
              "    <tr style=\"text-align: right;\">\n",
              "      <th></th>\n",
              "      <th>type</th>\n",
              "      <th>text</th>\n",
              "      <th>relevance</th>\n",
              "      <th>count</th>\n",
              "      <th>confidence</th>\n",
              "      <th>sentiment.score</th>\n",
              "      <th>sentiment.label</th>\n",
              "      <th>emotion.sadness</th>\n",
              "      <th>emotion.joy</th>\n",
              "      <th>emotion.fear</th>\n",
              "      <th>emotion.disgust</th>\n",
              "      <th>emotion.anger</th>\n",
              "      <th>disambiguation.subtype</th>\n",
              "      <th>disambiguation.name</th>\n",
              "      <th>disambiguation.dbpedia_resource</th>\n",
              "    </tr>\n",
              "  </thead>\n",
              "  <tbody>\n",
              "    <tr>\n",
              "      <th>0</th>\n",
              "      <td>Organization</td>\n",
              "      <td>NYUAD</td>\n",
              "      <td>0.949965</td>\n",
              "      <td>2</td>\n",
              "      <td>0.897769</td>\n",
              "      <td>0.656010</td>\n",
              "      <td>positive</td>\n",
              "      <td>0.131668</td>\n",
              "      <td>0.636420</td>\n",
              "      <td>0.048552</td>\n",
              "      <td>0.045110</td>\n",
              "      <td>0.070950</td>\n",
              "      <td>NaN</td>\n",
              "      <td>NaN</td>\n",
              "      <td>NaN</td>\n",
              "    </tr>\n",
              "    <tr>\n",
              "      <th>1</th>\n",
              "      <td>Facility</td>\n",
              "      <td>echo chambers</td>\n",
              "      <td>0.373493</td>\n",
              "      <td>1</td>\n",
              "      <td>0.155708</td>\n",
              "      <td>-0.835959</td>\n",
              "      <td>negative</td>\n",
              "      <td>0.739389</td>\n",
              "      <td>0.044319</td>\n",
              "      <td>0.105493</td>\n",
              "      <td>0.025149</td>\n",
              "      <td>0.017458</td>\n",
              "      <td>NaN</td>\n",
              "      <td>NaN</td>\n",
              "      <td>NaN</td>\n",
              "    </tr>\n",
              "    <tr>\n",
              "      <th>2</th>\n",
              "      <td>JobTitle</td>\n",
              "      <td>independent researchers</td>\n",
              "      <td>0.367642</td>\n",
              "      <td>1</td>\n",
              "      <td>0.539512</td>\n",
              "      <td>-0.671545</td>\n",
              "      <td>negative</td>\n",
              "      <td>0.506375</td>\n",
              "      <td>0.355752</td>\n",
              "      <td>0.039037</td>\n",
              "      <td>0.043384</td>\n",
              "      <td>0.016998</td>\n",
              "      <td>NaN</td>\n",
              "      <td>NaN</td>\n",
              "      <td>NaN</td>\n",
              "    </tr>\n",
              "    <tr>\n",
              "      <th>3</th>\n",
              "      <td>Organization</td>\n",
              "      <td>Association for the Advancement of Artificial ...</td>\n",
              "      <td>0.366279</td>\n",
              "      <td>1</td>\n",
              "      <td>0.415650</td>\n",
              "      <td>-0.741511</td>\n",
              "      <td>negative</td>\n",
              "      <td>0.506375</td>\n",
              "      <td>0.355752</td>\n",
              "      <td>0.039037</td>\n",
              "      <td>0.043384</td>\n",
              "      <td>0.016998</td>\n",
              "      <td>NaN</td>\n",
              "      <td>NaN</td>\n",
              "      <td>NaN</td>\n",
              "    </tr>\n",
              "    <tr>\n",
              "      <th>4</th>\n",
              "      <td>Organization</td>\n",
              "      <td>Princeton’s ESOC COVID</td>\n",
              "      <td>0.361858</td>\n",
              "      <td>1</td>\n",
              "      <td>0.294647</td>\n",
              "      <td>-0.733947</td>\n",
              "      <td>negative</td>\n",
              "      <td>0.162720</td>\n",
              "      <td>0.098013</td>\n",
              "      <td>0.034453</td>\n",
              "      <td>0.043754</td>\n",
              "      <td>0.046537</td>\n",
              "      <td>NaN</td>\n",
              "      <td>NaN</td>\n",
              "      <td>NaN</td>\n",
              "    </tr>\n",
              "    <tr>\n",
              "      <th>5</th>\n",
              "      <td>Location</td>\n",
              "      <td>Abu Dhabi</td>\n",
              "      <td>0.284510</td>\n",
              "      <td>1</td>\n",
              "      <td>0.535320</td>\n",
              "      <td>0.656010</td>\n",
              "      <td>positive</td>\n",
              "      <td>0.120466</td>\n",
              "      <td>0.795878</td>\n",
              "      <td>0.042534</td>\n",
              "      <td>0.014642</td>\n",
              "      <td>0.049226</td>\n",
              "      <td>NaN</td>\n",
              "      <td>NaN</td>\n",
              "      <td>NaN</td>\n",
              "    </tr>\n",
              "    <tr>\n",
              "      <th>6</th>\n",
              "      <td>Organization</td>\n",
              "      <td>Twitter</td>\n",
              "      <td>0.237108</td>\n",
              "      <td>2</td>\n",
              "      <td>0.991189</td>\n",
              "      <td>-0.786611</td>\n",
              "      <td>negative</td>\n",
              "      <td>0.143802</td>\n",
              "      <td>0.122481</td>\n",
              "      <td>0.055955</td>\n",
              "      <td>0.031158</td>\n",
              "      <td>0.075986</td>\n",
              "      <td>[Website, Company, VentureFundedCompany]</td>\n",
              "      <td>Twitter</td>\n",
              "      <td>http://dbpedia.org/resource/Twitter</td>\n",
              "    </tr>\n",
              "    <tr>\n",
              "      <th>7</th>\n",
              "      <td>Organization</td>\n",
              "      <td>LIX</td>\n",
              "      <td>0.212657</td>\n",
              "      <td>1</td>\n",
              "      <td>0.671600</td>\n",
              "      <td>-0.464230</td>\n",
              "      <td>negative</td>\n",
              "      <td>0.291288</td>\n",
              "      <td>0.165589</td>\n",
              "      <td>0.084342</td>\n",
              "      <td>0.026022</td>\n",
              "      <td>0.019003</td>\n",
              "      <td>NaN</td>\n",
              "      <td>NaN</td>\n",
              "      <td>NaN</td>\n",
              "    </tr>\n",
              "    <tr>\n",
              "      <th>8</th>\n",
              "      <td>JobTitle</td>\n",
              "      <td>specialists</td>\n",
              "      <td>0.192760</td>\n",
              "      <td>1</td>\n",
              "      <td>0.598181</td>\n",
              "      <td>-0.439049</td>\n",
              "      <td>negative</td>\n",
              "      <td>0.217601</td>\n",
              "      <td>0.052692</td>\n",
              "      <td>0.053525</td>\n",
              "      <td>0.020772</td>\n",
              "      <td>0.082558</td>\n",
              "      <td>NaN</td>\n",
              "      <td>NaN</td>\n",
              "      <td>NaN</td>\n",
              "    </tr>\n",
              "    <tr>\n",
              "      <th>9</th>\n",
              "      <td>JobTitle</td>\n",
              "      <td>U.S. president</td>\n",
              "      <td>0.177453</td>\n",
              "      <td>1</td>\n",
              "      <td>0.305451</td>\n",
              "      <td>0.690893</td>\n",
              "      <td>positive</td>\n",
              "      <td>0.349607</td>\n",
              "      <td>0.191414</td>\n",
              "      <td>0.013034</td>\n",
              "      <td>0.220007</td>\n",
              "      <td>0.016376</td>\n",
              "      <td>NaN</td>\n",
              "      <td>NaN</td>\n",
              "      <td>NaN</td>\n",
              "    </tr>\n",
              "  </tbody>\n",
              "</table>\n",
              "</div>\n",
              "      <button class=\"colab-df-convert\" onclick=\"convertToInteractive('df-22ef374f-8134-48b2-8657-c94df0beba38')\"\n",
              "              title=\"Convert this dataframe to an interactive table.\"\n",
              "              style=\"display:none;\">\n",
              "        \n",
              "  <svg xmlns=\"http://www.w3.org/2000/svg\" height=\"24px\"viewBox=\"0 0 24 24\"\n",
              "       width=\"24px\">\n",
              "    <path d=\"M0 0h24v24H0V0z\" fill=\"none\"/>\n",
              "    <path d=\"M18.56 5.44l.94 2.06.94-2.06 2.06-.94-2.06-.94-.94-2.06-.94 2.06-2.06.94zm-11 1L8.5 8.5l.94-2.06 2.06-.94-2.06-.94L8.5 2.5l-.94 2.06-2.06.94zm10 10l.94 2.06.94-2.06 2.06-.94-2.06-.94-.94-2.06-.94 2.06-2.06.94z\"/><path d=\"M17.41 7.96l-1.37-1.37c-.4-.4-.92-.59-1.43-.59-.52 0-1.04.2-1.43.59L10.3 9.45l-7.72 7.72c-.78.78-.78 2.05 0 2.83L4 21.41c.39.39.9.59 1.41.59.51 0 1.02-.2 1.41-.59l7.78-7.78 2.81-2.81c.8-.78.8-2.07 0-2.86zM5.41 20L4 18.59l7.72-7.72 1.47 1.35L5.41 20z\"/>\n",
              "  </svg>\n",
              "      </button>\n",
              "      \n",
              "  <style>\n",
              "    .colab-df-container {\n",
              "      display:flex;\n",
              "      flex-wrap:wrap;\n",
              "      gap: 12px;\n",
              "    }\n",
              "\n",
              "    .colab-df-convert {\n",
              "      background-color: #E8F0FE;\n",
              "      border: none;\n",
              "      border-radius: 50%;\n",
              "      cursor: pointer;\n",
              "      display: none;\n",
              "      fill: #1967D2;\n",
              "      height: 32px;\n",
              "      padding: 0 0 0 0;\n",
              "      width: 32px;\n",
              "    }\n",
              "\n",
              "    .colab-df-convert:hover {\n",
              "      background-color: #E2EBFA;\n",
              "      box-shadow: 0px 1px 2px rgba(60, 64, 67, 0.3), 0px 1px 3px 1px rgba(60, 64, 67, 0.15);\n",
              "      fill: #174EA6;\n",
              "    }\n",
              "\n",
              "    [theme=dark] .colab-df-convert {\n",
              "      background-color: #3B4455;\n",
              "      fill: #D2E3FC;\n",
              "    }\n",
              "\n",
              "    [theme=dark] .colab-df-convert:hover {\n",
              "      background-color: #434B5C;\n",
              "      box-shadow: 0px 1px 3px 1px rgba(0, 0, 0, 0.15);\n",
              "      filter: drop-shadow(0px 1px 2px rgba(0, 0, 0, 0.3));\n",
              "      fill: #FFFFFF;\n",
              "    }\n",
              "  </style>\n",
              "\n",
              "      <script>\n",
              "        const buttonEl =\n",
              "          document.querySelector('#df-22ef374f-8134-48b2-8657-c94df0beba38 button.colab-df-convert');\n",
              "        buttonEl.style.display =\n",
              "          google.colab.kernel.accessAllowed ? 'block' : 'none';\n",
              "\n",
              "        async function convertToInteractive(key) {\n",
              "          const element = document.querySelector('#df-22ef374f-8134-48b2-8657-c94df0beba38');\n",
              "          const dataTable =\n",
              "            await google.colab.kernel.invokeFunction('convertToInteractive',\n",
              "                                                     [key], {});\n",
              "          if (!dataTable) return;\n",
              "\n",
              "          const docLinkHtml = 'Like what you see? Visit the ' +\n",
              "            '<a target=\"_blank\" href=https://colab.research.google.com/notebooks/data_table.ipynb>data table notebook</a>'\n",
              "            + ' to learn more about interactive tables.';\n",
              "          element.innerHTML = '';\n",
              "          dataTable['output_type'] = 'display_data';\n",
              "          await google.colab.output.renderOutput(dataTable, element);\n",
              "          const docLink = document.createElement('div');\n",
              "          docLink.innerHTML = docLinkHtml;\n",
              "          element.appendChild(docLink);\n",
              "        }\n",
              "      </script>\n",
              "    </div>\n",
              "  </div>\n",
              "  "
            ]
          },
          "metadata": {},
          "execution_count": 30
        }
      ]
    },
    {
      "cell_type": "markdown",
      "metadata": {
        "collapsed": true,
        "id": "PVct5ns8g79m"
      },
      "source": [
        "### Exercise\n",
        "\n",
        "* First of all, **get your own credentials for the IBM Watson API**. The demo key that we use above has a limited quota.\n",
        "* Use an API to get news articles. \n",
        "    * Option 1: Use the API at https://newsapi.org to fetch the news from various sources. Print the entities that are currently being discussed in the news, together with their relevance value and the associated sentiment.\n",
        "    * Option 2: Use the NY Times API to fetch the Top Stories News. You can register and get an API key at https://developer.nytimes.com/. The `Top Stories V2 API` provides the details of the news of the day: (The API call documentation is at https://developer.nytimes.com/docs/top-stories-product/1/overview and the API Call is  https://api.nytimes.com/svc/topstories/v2/home.json?api-key=PUTYOURKEYHERE). Repeat the entity extraction process from above.\n",
        "    * Option 3: Use the Guardian API at https://open-platform.theguardian.com/documentation/ to fetch news from The Guardian.\n"
      ]
    },
    {
      "cell_type": "code",
      "source": [
        "# !sudo -H pip3 install newsapi-python\n",
        "!pip install newsapi-python"
      ],
      "metadata": {
        "id": "kQ8QXsWpVNVv",
        "outputId": "57c1d8d8-5085-4677-e5f9-b1c6cab11a33",
        "colab": {
          "base_uri": "https://localhost:8080/"
        }
      },
      "execution_count": 35,
      "outputs": [
        {
          "output_type": "stream",
          "name": "stdout",
          "text": [
            "Looking in indexes: https://pypi.org/simple, https://us-python.pkg.dev/colab-wheels/public/simple/\n",
            "Collecting newsapi-python\n",
            "  Downloading newsapi_python-0.2.6-py2.py3-none-any.whl (7.9 kB)\n",
            "Requirement already satisfied: requests<3.0.0 in /usr/local/lib/python3.7/dist-packages (from newsapi-python) (2.23.0)\n",
            "Requirement already satisfied: urllib3!=1.25.0,!=1.25.1,<1.26,>=1.21.1 in /usr/local/lib/python3.7/dist-packages (from requests<3.0.0->newsapi-python) (1.24.3)\n",
            "Requirement already satisfied: certifi>=2017.4.17 in /usr/local/lib/python3.7/dist-packages (from requests<3.0.0->newsapi-python) (2022.6.15)\n",
            "Requirement already satisfied: chardet<4,>=3.0.2 in /usr/local/lib/python3.7/dist-packages (from requests<3.0.0->newsapi-python) (3.0.4)\n",
            "Requirement already satisfied: idna<3,>=2.5 in /usr/local/lib/python3.7/dist-packages (from requests<3.0.0->newsapi-python) (2.10)\n",
            "Installing collected packages: newsapi-python\n",
            "Successfully installed newsapi-python-0.2.6\n"
          ]
        }
      ]
    },
    {
      "cell_type": "code",
      "source": [
        "from newsapi import NewsApiClient\n",
        "\n",
        "# Init\n",
        "newsapi = NewsApiClient(api_key='a7eab21c34e545dba418c4344d59a54f')\n",
        "\n",
        "# /v2/top-headlines\n",
        "top_headlines = newsapi.get_top_headlines(q='cricket')\n",
        "\n",
        "# top_headlines.keys()\n",
        "articles = top_headlines['articles']\n",
        "for article in articles:\n",
        "    article_url = article['url']\n",
        "    data = analyzeText(url=article_url)\n",
        "    print(data['sentiment']['document'])\n",
        "    print(data['emotion']['document'])\n",
        "    print()"
      ],
      "metadata": {
        "id": "ZIMEtC6TVYSQ",
        "outputId": "9d3f2c12-d64c-4e53-8b10-a2a92e983167",
        "colab": {
          "base_uri": "https://localhost:8080/"
        }
      },
      "execution_count": 69,
      "outputs": [
        {
          "output_type": "stream",
          "name": "stdout",
          "text": [
            "{'score': -0.70189, 'label': 'negative'}\n",
            "{'emotion': {'sadness': 0.349559, 'joy': 0.552414, 'fear': 0.043578, 'disgust': 0.020817, 'anger': 0.027951}}\n",
            "\n",
            "{'score': 0.34513, 'label': 'positive'}\n",
            "{'emotion': {'sadness': 0.167893, 'joy': 0.403298, 'fear': 0.070387, 'disgust': 0.042444, 'anger': 0.102672}}\n",
            "\n"
          ]
        }
      ]
    },
    {
      "cell_type": "code",
      "source": [],
      "metadata": {
        "id": "1l56lZ-DV7oM"
      },
      "execution_count": null,
      "outputs": []
    }
  ]
}