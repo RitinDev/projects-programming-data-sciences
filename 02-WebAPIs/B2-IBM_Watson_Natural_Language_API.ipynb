{
  "nbformat": 4,
  "nbformat_minor": 0,
  "metadata": {
    "kernelspec": {
      "display_name": "Python 3",
      "language": "python",
      "name": "python3"
    },
    "language_info": {
      "codemirror_mode": {
        "name": "ipython",
        "version": 3
      },
      "file_extension": ".py",
      "mimetype": "text/x-python",
      "name": "python",
      "nbconvert_exporter": "python",
      "pygments_lexer": "ipython3",
      "version": "3.6.7"
    },
    "colab": {
      "name": "B2-IBM_Watson_Natural_Language_API.ipynb",
      "provenance": [],
      "include_colab_link": true
    }
  },
  "cells": [
    {
      "cell_type": "markdown",
      "metadata": {
        "id": "view-in-github",
        "colab_type": "text"
      },
      "source": [
        "<a href=\"https://colab.research.google.com/github/RitinDev/projects-programming-data-sciences/blob/main/02-WebAPIs/B2-IBM_Watson_Natural_Language_API.ipynb\" target=\"_parent\"><img src=\"https://colab.research.google.com/assets/colab-badge.svg\" alt=\"Open In Colab\"/></a>"
      ]
    },
    {
      "cell_type": "markdown",
      "metadata": {
        "id": "YpOyKprkg78J"
      },
      "source": [
        "# Interacting with the IBM Watson Natural Language Understanding API\n",
        "\n",
        "Another useful API, especially when dealing with text, is the [IBM Watson  Natural Language Understanding API](https://console.bluemix.net/catalog/services/natural-language-understanding), which offers a variety of text analysis functionalities, such as sentiment analysis, entity extraction, keyword extraction, etc.\n",
        "\n",
        "We will give a couple of examples below, to understand how we can take an unstructured piece of text (either the text alone, or a URL with text), and perform some analysis.\n",
        "\n"
      ]
    },
    {
      "cell_type": "markdown",
      "source": [
        "\n",
        "\n",
        "## Sentiment ana emotion analysis\n",
        "\n",
        "We will first start with the `/analyze` API call ([documentation](https://cloud.ibm.com/apidocs/natural-language-understanding#analyzeget)), which takes as input a piece of text, and returns an analysis across various dimensions. \n",
        "\n",
        "The API supports the following analyses:\n",
        "\n",
        "`categories,classifications,concepts,emotion,entities,keywords,metadata,relations,semantic_roles,sentiment,summarization (experimental),syntax`\n",
        "\n",
        "The API supports not only English, but also a [variety of non-English languages](https://cloud.ibm.com/docs/natural-language-understanding?topic=natural-language-understanding-detectable-languages).\n",
        "\n",
        "In our introductory attempt, we will use the `sentiment` and `emotion` and focus on English texts. \n",
        "\n"
      ],
      "metadata": {
        "id": "w5AdsJAa5iIQ"
      }
    },
    {
      "cell_type": "code",
      "metadata": {
        "id": "Scpvaji2MigH"
      },
      "source": [
        "import requests"
      ],
      "execution_count": 3,
      "outputs": []
    },
    {
      "cell_type": "code",
      "metadata": {
        "id": "6o4aBLeBg78M"
      },
      "source": [
        "URL = 'https://api.us-south.natural-language-understanding.watson.cloud.ibm.com/instances/9e683088-0d12-4399-8118-518f3e60e8c4'\n",
        "\n",
        "# My own API key. It may run out of quota\n",
        "# You can register and get your own credentials\n",
        "# The ones below have a quota of 1000 calls per day \n",
        "# and can run out quickly if multiple people use these\n",
        "API_KEY = 'yx39wyiwPNGm7DoDUPCSJB4SzFkr0qurARfbGYyEdaoC'\n",
        "\n",
        "def analyzeText(text=None, url=None):\n",
        "\n",
        "    endpoint = f\"{URL}/v1/analyze\"\n",
        "    username = \"apikey\"\n",
        "    password = API_KEY\n",
        "    \n",
        "    parameters = {\n",
        "        'features': 'emotion,sentiment',\n",
        "        'version' : '2022-04-07',\n",
        "        'text': text,\n",
        "        'language' : 'en',\n",
        "        'url' : url # this is an alternative to sending the text\n",
        "    }\n",
        "\n",
        "    resp = requests.get(endpoint, params=parameters, auth=(username, password))\n",
        "    \n",
        "    return resp.json()"
      ],
      "execution_count": 4,
      "outputs": []
    },
    {
      "cell_type": "code",
      "metadata": {
        "id": "HCGGi4Sug78U"
      },
      "source": [
        "# We will analyze the text below using the IBM Watson API\n",
        "\n",
        "review = '''\n",
        "I got their Egg & Cheese sandwich on a Whole Wheat Everything Bagel. \n",
        "First off, I loved loved loved the texture of the bagel itself. \n",
        "It was very chewy yet soft, which is a top feature for a NY style bagel. \n",
        "However, I thought there could've been more seasoning on top of \n",
        "the bagel as I found the bagel itself to be a bit bland. \n",
        "\n",
        "Speaking of bland, I thought the egg and cheese filling were also quite bland. \n",
        "This was definitely lacking salt and pepper in the eggs and the cheese didn't\n",
        "really add too much flavor either, which was really disappointing! \n",
        "My mom also had the same complaint with her bagel sandwich \n",
        "(she had the egg sandwich on a blueberry bagel) so I definitely wasn't \n",
        "the only one.\n",
        "\n",
        "'''"
      ],
      "execution_count": null,
      "outputs": []
    },
    {
      "cell_type": "code",
      "metadata": {
        "id": "RRYAW9WHg78Y",
        "outputId": "64a9a898-4db8-4c92-d2ef-56e2da100e6d",
        "colab": {
          "base_uri": "https://localhost:8080/"
        }
      },
      "source": [
        "data = analyzeText(text=review)\n",
        "data"
      ],
      "execution_count": null,
      "outputs": [
        {
          "output_type": "execute_result",
          "data": {
            "text/plain": [
              "{'usage': {'text_units': 1, 'text_characters': 707, 'features': 2},\n",
              " 'sentiment': {'document': {'score': -0.600662, 'label': 'negative'}},\n",
              " 'language': 'en',\n",
              " 'emotion': {'document': {'emotion': {'sadness': 0.167794,\n",
              "    'joy': 0.370866,\n",
              "    'fear': 0.039799,\n",
              "    'disgust': 0.164856,\n",
              "    'anger': 0.196751}}}}"
            ]
          },
          "metadata": {},
          "execution_count": 5
        }
      ]
    },
    {
      "cell_type": "markdown",
      "metadata": {
        "id": "HofZ85yFg78c"
      },
      "source": [
        "Now, let's try to understand the structure of the answer. First, we check the high-level keys."
      ]
    },
    {
      "cell_type": "code",
      "metadata": {
        "id": "nD3qoCmMg78d",
        "outputId": "cf58a348-e01c-4368-9a86-7edbf899e677",
        "colab": {
          "base_uri": "https://localhost:8080/"
        }
      },
      "source": [
        "data.keys()"
      ],
      "execution_count": null,
      "outputs": [
        {
          "output_type": "execute_result",
          "data": {
            "text/plain": [
              "dict_keys(['usage', 'sentiment', 'language', 'emotion'])"
            ]
          },
          "metadata": {},
          "execution_count": 6
        }
      ]
    },
    {
      "cell_type": "markdown",
      "metadata": {
        "id": "itoPJcaNg78h"
      },
      "source": [
        "Now, let's check the content of these keys:"
      ]
    },
    {
      "cell_type": "code",
      "metadata": {
        "id": "0ewzjsNHg78i",
        "outputId": "8600e3d0-dfd7-4586-8e50-5fbf3dc64a22",
        "colab": {
          "base_uri": "https://localhost:8080/",
          "height": 35
        }
      },
      "source": [
        "data['language']"
      ],
      "execution_count": null,
      "outputs": [
        {
          "output_type": "execute_result",
          "data": {
            "text/plain": [
              "'en'"
            ],
            "application/vnd.google.colaboratory.intrinsic+json": {
              "type": "string"
            }
          },
          "metadata": {},
          "execution_count": 7
        }
      ]
    },
    {
      "cell_type": "code",
      "metadata": {
        "id": "wEMFHA_mg78n",
        "outputId": "d1b6785a-a7f8-412f-a793-f3702a17631e",
        "colab": {
          "base_uri": "https://localhost:8080/"
        }
      },
      "source": [
        "data['sentiment']"
      ],
      "execution_count": null,
      "outputs": [
        {
          "output_type": "execute_result",
          "data": {
            "text/plain": [
              "{'document': {'score': -0.600662, 'label': 'negative'}}"
            ]
          },
          "metadata": {},
          "execution_count": 8
        }
      ]
    },
    {
      "cell_type": "code",
      "metadata": {
        "id": "_UO7k-scg78r",
        "outputId": "b7f88a6d-6d3d-4c31-e089-de090f947d27",
        "colab": {
          "base_uri": "https://localhost:8080/"
        }
      },
      "source": [
        "data['emotion']"
      ],
      "execution_count": null,
      "outputs": [
        {
          "output_type": "execute_result",
          "data": {
            "text/plain": [
              "{'document': {'emotion': {'sadness': 0.167794,\n",
              "   'joy': 0.370866,\n",
              "   'fear': 0.039799,\n",
              "   'disgust': 0.164856,\n",
              "   'anger': 0.196751}}}"
            ]
          },
          "metadata": {},
          "execution_count": 9
        }
      ]
    },
    {
      "cell_type": "code",
      "metadata": {
        "id": "sdBxICpHg78w",
        "outputId": "fa5eb811-cca3-4fe2-9d49-77bd0ca424b6",
        "colab": {
          "base_uri": "https://localhost:8080/"
        }
      },
      "source": [
        "# Let's go deeper into the 'emotion' dictionary\n",
        "data['emotion']['document']"
      ],
      "execution_count": null,
      "outputs": [
        {
          "output_type": "execute_result",
          "data": {
            "text/plain": [
              "{'emotion': {'sadness': 0.167794,\n",
              "  'joy': 0.370866,\n",
              "  'fear': 0.039799,\n",
              "  'disgust': 0.164856,\n",
              "  'anger': 0.196751}}"
            ]
          },
          "metadata": {},
          "execution_count": 10
        }
      ]
    },
    {
      "cell_type": "code",
      "metadata": {
        "id": "T-A1ZJFyg780",
        "outputId": "b15893c8-0bdb-4181-b1cc-65d914816475",
        "colab": {
          "base_uri": "https://localhost:8080/"
        }
      },
      "source": [
        "# And a bit more\n",
        "data['emotion']['document']['emotion']"
      ],
      "execution_count": null,
      "outputs": [
        {
          "output_type": "execute_result",
          "data": {
            "text/plain": [
              "{'sadness': 0.167794,\n",
              " 'joy': 0.370866,\n",
              " 'fear': 0.039799,\n",
              " 'disgust': 0.164856,\n",
              " 'anger': 0.196751}"
            ]
          },
          "metadata": {},
          "execution_count": 11
        }
      ]
    },
    {
      "cell_type": "markdown",
      "metadata": {
        "id": "19-vgKPag785"
      },
      "source": [
        "### Exercise 1\n",
        "\n",
        "Type your own piece of text, and analyze it to extract sentiment and emotions. Discuss your findings"
      ]
    },
    {
      "cell_type": "code",
      "metadata": {
        "id": "AO2SHOE7g786",
        "outputId": "813aac2a-06df-4f6b-d08b-fb94e6a20633",
        "colab": {
          "base_uri": "https://localhost:8080/"
        }
      },
      "source": [
        "my_own_text = '''\n",
        "The FitnessGram™ Pacer Test is a multistage aerobic capacity test that progressively gets more difficult as it continues. The 20 meter pacer test will begin in 30 seconds. Line up at the start. The running speed starts slowly, but gets faster each minute after you hear this signal. [beep] A single lap should be completed each time you hear this sound. [ding] Remember to run in a straight line, and run as long as possible. The second time you fail to complete a lap before the sound, your test is over. The test will begin on the word start. On your mark, get ready, start.\n",
        "'''\n",
        "\n",
        "data = analyzeText( text = my_own_text )\n",
        "print(f\"Language: {data['language']}\")\n",
        "print(f\"Sentiment: {data['sentiment']['document']}\")\n",
        "print(f\"Emotion: {data['emotion']['document']}\")"
      ],
      "execution_count": 5,
      "outputs": [
        {
          "output_type": "stream",
          "name": "stdout",
          "text": [
            "Language: en\n",
            "Sentiment: {'score': 0.267975, 'label': 'positive'}\n",
            "Emotion: {'emotion': {'sadness': 0.186833, 'joy': 0.425755, 'fear': 0.225033, 'disgust': 0.016703, 'anger': 0.059469}}\n"
          ]
        }
      ]
    },
    {
      "cell_type": "markdown",
      "metadata": {
        "id": "vxKeCado_5EU"
      },
      "source": [
        "### Exercise 2\n",
        "\n",
        "Below is slightly different call, which takes as input a URL to analyze, instead of a piece of text. Use it to analyze a URL of your choice"
      ]
    },
    {
      "cell_type": "code",
      "metadata": {
        "id": "tSiHLtpWADP-",
        "outputId": "f3ba2a9a-d6c2-4d56-af9e-00b2a9dd0851",
        "colab": {
          "base_uri": "https://localhost:8080/"
        }
      },
      "source": [
        "news_url = 'https://xarangi.github.io/'\n",
        "analyzeText(url = news_url)"
      ],
      "execution_count": null,
      "outputs": [
        {
          "output_type": "execute_result",
          "data": {
            "text/plain": [
              "{'usage': {'text_units': 3, 'text_characters': 20223, 'features': 2},\n",
              " 'sentiment': {'document': {'score': -0.375663, 'label': 'negative'}},\n",
              " 'retrieved_url': 'https://xarangi.github.io/',\n",
              " 'language': 'en',\n",
              " 'emotion': {'document': {'emotion': {'sadness': 0.340438,\n",
              "    'joy': 0.296978,\n",
              "    'fear': 0.093135,\n",
              "    'disgust': 0.036156,\n",
              "    'anger': 0.072841}}}}"
            ]
          },
          "metadata": {},
          "execution_count": 18
        }
      ]
    },
    {
      "cell_type": "markdown",
      "metadata": {
        "id": "oFIwBAw9g789"
      },
      "source": [
        "## Entities call\n",
        "\n",
        "The code below changes slightly the way that we way that we call the API. Instead of asking for sentiment and emotion, we instead ask to extract entities from the text, and also the sentiment and emotion for each of these entities.\n",
        "\n",
        "In terms of natural language processing, we will examine a couple of capabilities of the API. First, you will see that there is the capability of \"normalizing\" each entity, so that two different ways of saying the same thing get mapped to the same entity. So for example, \"President Trump\" and \"Donald Trump\" get mapped to the same Knowledge Graph entity."
      ]
    },
    {
      "cell_type": "code",
      "source": [
        "URL = 'https://api.us-south.natural-language-understanding.watson.cloud.ibm.com/instances/9e683088-0d12-4399-8118-518f3e60e8c4'\n",
        "\n",
        "API_KEY = 'yx39wyiwPNGm7DoDUPCSJB4SzFkr0qurARfbGYyEdaoC'\n",
        "\n",
        "def extractEntities(text=None, url=None):\n",
        "\n",
        "    endpoint = f\"{URL}/v1/analyze\"\n",
        "    username = \"apikey\"\n",
        "    password = API_KEY\n",
        "    \n",
        "    parameters = {\n",
        "        'features': 'entities',\n",
        "        'version' : '2022-04-07',\n",
        "        'entities.limit' : 10,\n",
        "        'entities.sentiment' : True,\n",
        "        'entities.emotion' : True,\n",
        "        'text': text,\n",
        "        'language' : 'en',\n",
        "        'url' : url # this is an alternative to sending the text\n",
        "    }\n",
        "\n",
        "    resp = requests.get(endpoint, params=parameters, auth=(username, password))\n",
        "    \n",
        "    return resp.json()"
      ],
      "metadata": {
        "id": "OHqTURmF8pFL"
      },
      "execution_count": 6,
      "outputs": []
    },
    {
      "cell_type": "code",
      "metadata": {
        "id": "cCfu7Mp8g79F"
      },
      "source": [
        "news_url = 'https://xarangi.github.io/'\n",
        "\n",
        "data = extractEntities(url=news_url)"
      ],
      "execution_count": 7,
      "outputs": []
    },
    {
      "cell_type": "code",
      "metadata": {
        "id": "4m1uBsl4M6WL",
        "outputId": "17f36bed-3903-475e-9fcc-7bde5d06a938",
        "colab": {
          "base_uri": "https://localhost:8080/"
        }
      },
      "source": [
        "data"
      ],
      "execution_count": 8,
      "outputs": [
        {
          "output_type": "execute_result",
          "data": {
            "text/plain": [
              "{'usage': {'text_units': 3, 'text_characters': 20223, 'features': 1},\n",
              " 'retrieved_url': 'https://xarangi.github.io/',\n",
              " 'language': 'en',\n",
              " 'entities': [{'type': 'Organization',\n",
              "   'text': 'NYUAD',\n",
              "   'sentiment': {'score': 0.65601, 'label': 'positive'},\n",
              "   'relevance': 0.949965,\n",
              "   'emotion': {'sadness': 0.131668,\n",
              "    'joy': 0.63642,\n",
              "    'fear': 0.048552,\n",
              "    'disgust': 0.04511,\n",
              "    'anger': 0.07095},\n",
              "   'count': 2,\n",
              "   'confidence': 0.897769},\n",
              "  {'type': 'Facility',\n",
              "   'text': 'echo chambers',\n",
              "   'sentiment': {'score': -0.835959, 'label': 'negative'},\n",
              "   'relevance': 0.373493,\n",
              "   'emotion': {'sadness': 0.739389,\n",
              "    'joy': 0.044319,\n",
              "    'fear': 0.105493,\n",
              "    'disgust': 0.025149,\n",
              "    'anger': 0.017458},\n",
              "   'count': 1,\n",
              "   'confidence': 0.155708},\n",
              "  {'type': 'JobTitle',\n",
              "   'text': 'independent researchers',\n",
              "   'sentiment': {'score': -0.671545, 'label': 'negative'},\n",
              "   'relevance': 0.367642,\n",
              "   'emotion': {'sadness': 0.506375,\n",
              "    'joy': 0.355752,\n",
              "    'fear': 0.039037,\n",
              "    'disgust': 0.043384,\n",
              "    'anger': 0.016998},\n",
              "   'count': 1,\n",
              "   'confidence': 0.539512},\n",
              "  {'type': 'Organization',\n",
              "   'text': 'Association for the Advancement of Artificial Intelligence (AAAI',\n",
              "   'sentiment': {'score': -0.741511, 'label': 'negative'},\n",
              "   'relevance': 0.366279,\n",
              "   'emotion': {'sadness': 0.506375,\n",
              "    'joy': 0.355752,\n",
              "    'fear': 0.039037,\n",
              "    'disgust': 0.043384,\n",
              "    'anger': 0.016998},\n",
              "   'count': 1,\n",
              "   'confidence': 0.41565},\n",
              "  {'type': 'Organization',\n",
              "   'text': 'Princeton’s ESOC COVID',\n",
              "   'sentiment': {'score': -0.733947, 'label': 'negative'},\n",
              "   'relevance': 0.361858,\n",
              "   'emotion': {'sadness': 0.16272,\n",
              "    'joy': 0.098013,\n",
              "    'fear': 0.034453,\n",
              "    'disgust': 0.043754,\n",
              "    'anger': 0.046537},\n",
              "   'count': 1,\n",
              "   'confidence': 0.294647},\n",
              "  {'type': 'Location',\n",
              "   'text': 'Abu Dhabi',\n",
              "   'sentiment': {'score': 0.65601, 'label': 'positive'},\n",
              "   'relevance': 0.28451,\n",
              "   'emotion': {'sadness': 0.120466,\n",
              "    'joy': 0.795878,\n",
              "    'fear': 0.042534,\n",
              "    'disgust': 0.014642,\n",
              "    'anger': 0.049226},\n",
              "   'count': 1,\n",
              "   'confidence': 0.53532},\n",
              "  {'type': 'Organization',\n",
              "   'text': 'Twitter',\n",
              "   'sentiment': {'score': -0.786611, 'label': 'negative'},\n",
              "   'relevance': 0.237108,\n",
              "   'emotion': {'sadness': 0.143802,\n",
              "    'joy': 0.122481,\n",
              "    'fear': 0.055955,\n",
              "    'disgust': 0.031158,\n",
              "    'anger': 0.075986},\n",
              "   'disambiguation': {'subtype': ['Website',\n",
              "     'Company',\n",
              "     'VentureFundedCompany'],\n",
              "    'name': 'Twitter',\n",
              "    'dbpedia_resource': 'http://dbpedia.org/resource/Twitter'},\n",
              "   'count': 2,\n",
              "   'confidence': 0.991189},\n",
              "  {'type': 'Organization',\n",
              "   'text': 'LIX',\n",
              "   'sentiment': {'score': -0.46423, 'label': 'negative'},\n",
              "   'relevance': 0.212657,\n",
              "   'emotion': {'sadness': 0.291288,\n",
              "    'joy': 0.165589,\n",
              "    'fear': 0.084342,\n",
              "    'disgust': 0.026022,\n",
              "    'anger': 0.019003},\n",
              "   'count': 1,\n",
              "   'confidence': 0.6716},\n",
              "  {'type': 'JobTitle',\n",
              "   'text': 'specialists',\n",
              "   'sentiment': {'score': -0.439049, 'label': 'negative'},\n",
              "   'relevance': 0.19276,\n",
              "   'emotion': {'sadness': 0.217601,\n",
              "    'joy': 0.052692,\n",
              "    'fear': 0.053525,\n",
              "    'disgust': 0.020772,\n",
              "    'anger': 0.082558},\n",
              "   'count': 1,\n",
              "   'confidence': 0.598181},\n",
              "  {'type': 'JobTitle',\n",
              "   'text': 'U.S. president',\n",
              "   'sentiment': {'score': 0.690893, 'label': 'positive'},\n",
              "   'relevance': 0.177453,\n",
              "   'emotion': {'sadness': 0.349607,\n",
              "    'joy': 0.191414,\n",
              "    'fear': 0.013034,\n",
              "    'disgust': 0.220007,\n",
              "    'anger': 0.016376},\n",
              "   'count': 1,\n",
              "   'confidence': 0.305451}]}"
            ]
          },
          "metadata": {},
          "execution_count": 8
        }
      ]
    },
    {
      "cell_type": "code",
      "metadata": {
        "id": "TXcFMzpSg79L",
        "outputId": "1ede7804-5a72-40bb-9db9-e043aa6c70d6",
        "colab": {
          "base_uri": "https://localhost:8080/"
        }
      },
      "source": [
        "# Let's see what we get back as top-level attributes\n",
        "data.keys()"
      ],
      "execution_count": null,
      "outputs": [
        {
          "output_type": "execute_result",
          "data": {
            "text/plain": [
              "dict_keys(['usage', 'retrieved_url', 'language', 'entities'])"
            ]
          },
          "metadata": {},
          "execution_count": 25
        }
      ]
    },
    {
      "cell_type": "code",
      "metadata": {
        "scrolled": true,
        "id": "V0VyAAtSg79T",
        "outputId": "14730f90-9364-4c28-84a9-a610998bd11a",
        "colab": {
          "base_uri": "https://localhost:8080/"
        }
      },
      "source": [
        "# Let' see the entities list\n",
        "data[\"entities\"]"
      ],
      "execution_count": null,
      "outputs": [
        {
          "output_type": "execute_result",
          "data": {
            "text/plain": [
              "[{'type': 'Organization',\n",
              "  'text': 'NYUAD',\n",
              "  'sentiment': {'score': 0.65601, 'label': 'positive'},\n",
              "  'relevance': 0.949965,\n",
              "  'emotion': {'sadness': 0.131668,\n",
              "   'joy': 0.63642,\n",
              "   'fear': 0.048552,\n",
              "   'disgust': 0.04511,\n",
              "   'anger': 0.07095},\n",
              "  'count': 2,\n",
              "  'confidence': 0.897769},\n",
              " {'type': 'Facility',\n",
              "  'text': 'echo chambers',\n",
              "  'sentiment': {'score': -0.835959, 'label': 'negative'},\n",
              "  'relevance': 0.373493,\n",
              "  'emotion': {'sadness': 0.739389,\n",
              "   'joy': 0.044319,\n",
              "   'fear': 0.105493,\n",
              "   'disgust': 0.025149,\n",
              "   'anger': 0.017458},\n",
              "  'count': 1,\n",
              "  'confidence': 0.155708},\n",
              " {'type': 'JobTitle',\n",
              "  'text': 'independent researchers',\n",
              "  'sentiment': {'score': -0.671545, 'label': 'negative'},\n",
              "  'relevance': 0.367642,\n",
              "  'emotion': {'sadness': 0.506375,\n",
              "   'joy': 0.355752,\n",
              "   'fear': 0.039037,\n",
              "   'disgust': 0.043384,\n",
              "   'anger': 0.016998},\n",
              "  'count': 1,\n",
              "  'confidence': 0.539512},\n",
              " {'type': 'Organization',\n",
              "  'text': 'Association for the Advancement of Artificial Intelligence (AAAI',\n",
              "  'sentiment': {'score': -0.741511, 'label': 'negative'},\n",
              "  'relevance': 0.366279,\n",
              "  'emotion': {'sadness': 0.506375,\n",
              "   'joy': 0.355752,\n",
              "   'fear': 0.039037,\n",
              "   'disgust': 0.043384,\n",
              "   'anger': 0.016998},\n",
              "  'count': 1,\n",
              "  'confidence': 0.41565},\n",
              " {'type': 'Organization',\n",
              "  'text': 'Princeton’s ESOC COVID',\n",
              "  'sentiment': {'score': -0.733947, 'label': 'negative'},\n",
              "  'relevance': 0.361858,\n",
              "  'emotion': {'sadness': 0.16272,\n",
              "   'joy': 0.098013,\n",
              "   'fear': 0.034453,\n",
              "   'disgust': 0.043754,\n",
              "   'anger': 0.046537},\n",
              "  'count': 1,\n",
              "  'confidence': 0.294647},\n",
              " {'type': 'Location',\n",
              "  'text': 'Abu Dhabi',\n",
              "  'sentiment': {'score': 0.65601, 'label': 'positive'},\n",
              "  'relevance': 0.28451,\n",
              "  'emotion': {'sadness': 0.120466,\n",
              "   'joy': 0.795878,\n",
              "   'fear': 0.042534,\n",
              "   'disgust': 0.014642,\n",
              "   'anger': 0.049226},\n",
              "  'count': 1,\n",
              "  'confidence': 0.53532},\n",
              " {'type': 'Organization',\n",
              "  'text': 'Twitter',\n",
              "  'sentiment': {'score': -0.786611, 'label': 'negative'},\n",
              "  'relevance': 0.237108,\n",
              "  'emotion': {'sadness': 0.143802,\n",
              "   'joy': 0.122481,\n",
              "   'fear': 0.055955,\n",
              "   'disgust': 0.031158,\n",
              "   'anger': 0.075986},\n",
              "  'disambiguation': {'subtype': ['Website', 'Company', 'VentureFundedCompany'],\n",
              "   'name': 'Twitter',\n",
              "   'dbpedia_resource': 'http://dbpedia.org/resource/Twitter'},\n",
              "  'count': 2,\n",
              "  'confidence': 0.991189},\n",
              " {'type': 'Organization',\n",
              "  'text': 'LIX',\n",
              "  'sentiment': {'score': -0.46423, 'label': 'negative'},\n",
              "  'relevance': 0.212657,\n",
              "  'emotion': {'sadness': 0.291288,\n",
              "   'joy': 0.165589,\n",
              "   'fear': 0.084342,\n",
              "   'disgust': 0.026022,\n",
              "   'anger': 0.019003},\n",
              "  'count': 1,\n",
              "  'confidence': 0.6716},\n",
              " {'type': 'JobTitle',\n",
              "  'text': 'specialists',\n",
              "  'sentiment': {'score': -0.439049, 'label': 'negative'},\n",
              "  'relevance': 0.19276,\n",
              "  'emotion': {'sadness': 0.217601,\n",
              "   'joy': 0.052692,\n",
              "   'fear': 0.053525,\n",
              "   'disgust': 0.020772,\n",
              "   'anger': 0.082558},\n",
              "  'count': 1,\n",
              "  'confidence': 0.598181},\n",
              " {'type': 'JobTitle',\n",
              "  'text': 'U.S. president',\n",
              "  'sentiment': {'score': 0.690893, 'label': 'positive'},\n",
              "  'relevance': 0.177453,\n",
              "  'emotion': {'sadness': 0.349607,\n",
              "   'joy': 0.191414,\n",
              "   'fear': 0.013034,\n",
              "   'disgust': 0.220007,\n",
              "   'anger': 0.016376},\n",
              "  'count': 1,\n",
              "  'confidence': 0.305451}]"
            ]
          },
          "metadata": {},
          "execution_count": 26
        }
      ]
    },
    {
      "cell_type": "code",
      "metadata": {
        "id": "8X5VaaqCg79X",
        "outputId": "39b684ae-8cc0-4c40-b5d7-e7a6f25ac480",
        "colab": {
          "base_uri": "https://localhost:8080/"
        }
      },
      "source": [
        "# Let' see the 7th entity. Notice the \"disambiguated\" attribute that\n",
        "# points to \"canonical\" versions of the entity, in DBPedia\n",
        "# Notice that \"Patriarch Kirill\"\" is the actual term used in the text\n",
        "data[\"entities\"][6]"
      ],
      "execution_count": null,
      "outputs": [
        {
          "output_type": "execute_result",
          "data": {
            "text/plain": [
              "{'type': 'Organization',\n",
              " 'text': 'Twitter',\n",
              " 'sentiment': {'score': -0.786611, 'label': 'negative'},\n",
              " 'relevance': 0.237108,\n",
              " 'emotion': {'sadness': 0.143802,\n",
              "  'joy': 0.122481,\n",
              "  'fear': 0.055955,\n",
              "  'disgust': 0.031158,\n",
              "  'anger': 0.075986},\n",
              " 'disambiguation': {'subtype': ['Website', 'Company', 'VentureFundedCompany'],\n",
              "  'name': 'Twitter',\n",
              "  'dbpedia_resource': 'http://dbpedia.org/resource/Twitter'},\n",
              " 'count': 2,\n",
              " 'confidence': 0.991189}"
            ]
          },
          "metadata": {},
          "execution_count": 29
        }
      ]
    },
    {
      "cell_type": "code",
      "source": [
        "# Let's put the results in a dataframe, so that we can browse easier\n",
        "import pandas as pd\n",
        "\n",
        "pd.json_normalize(data['entities'])"
      ],
      "metadata": {
        "id": "R3wxxcJe_j_n"
      },
      "execution_count": null,
      "outputs": []
    },
    {
      "cell_type": "markdown",
      "metadata": {
        "collapsed": true,
        "id": "PVct5ns8g79m"
      },
      "source": [
        "### Exercise\n",
        "\n",
        "* First of all, **get your own credentials for the IBM Watson API**. The demo key that we use above has a limited quota.\n",
        "* Use an API to get news articles. \n",
        "    * Option 1: Use the API at https://newsapi.org to fetch the news from various sources. Print the entities that are currently being discussed in the news, together with their relevance value and the associated sentiment.\n",
        "    * Option 2: Use the NY Times API to fetch the Top Stories News. You can register and get an API key at https://developer.nytimes.com/. The `Top Stories V2 API` provides the details of the news of the day: (The API call documentation is at https://developer.nytimes.com/docs/top-stories-product/1/overview and the API Call is  https://api.nytimes.com/svc/topstories/v2/home.json?api-key=PUTYOURKEYHERE). Repeat the entity extraction process from above.\n",
        "    * Option 3: Use the Guardian API at https://open-platform.theguardian.com/documentation/ to fetch news from The Guardian.\n"
      ]
    },
    {
      "cell_type": "code",
      "source": [
        "# !sudo -H pip3 install newsapi-python\n",
        "!pip install newsapi-python"
      ],
      "metadata": {
        "id": "kQ8QXsWpVNVv",
        "outputId": "eb1165d9-dacc-48b2-c35d-dee707d650bb",
        "colab": {
          "base_uri": "https://localhost:8080/"
        }
      },
      "execution_count": 2,
      "outputs": [
        {
          "output_type": "stream",
          "name": "stdout",
          "text": [
            "Looking in indexes: https://pypi.org/simple, https://us-python.pkg.dev/colab-wheels/public/simple/\n",
            "Collecting newsapi-python\n",
            "  Downloading newsapi_python-0.2.6-py2.py3-none-any.whl (7.9 kB)\n",
            "Requirement already satisfied: requests<3.0.0 in /usr/local/lib/python3.7/dist-packages (from newsapi-python) (2.23.0)\n",
            "Requirement already satisfied: urllib3!=1.25.0,!=1.25.1,<1.26,>=1.21.1 in /usr/local/lib/python3.7/dist-packages (from requests<3.0.0->newsapi-python) (1.24.3)\n",
            "Requirement already satisfied: idna<3,>=2.5 in /usr/local/lib/python3.7/dist-packages (from requests<3.0.0->newsapi-python) (2.10)\n",
            "Requirement already satisfied: certifi>=2017.4.17 in /usr/local/lib/python3.7/dist-packages (from requests<3.0.0->newsapi-python) (2022.6.15)\n",
            "Requirement already satisfied: chardet<4,>=3.0.2 in /usr/local/lib/python3.7/dist-packages (from requests<3.0.0->newsapi-python) (3.0.4)\n",
            "Installing collected packages: newsapi-python\n",
            "Successfully installed newsapi-python-0.2.6\n"
          ]
        }
      ]
    },
    {
      "cell_type": "code",
      "source": [
        "from newsapi import NewsApiClient\n",
        "\n",
        "# Init\n",
        "newsapi = NewsApiClient(api_key='a7eab21c34e545dba418c4344d59a54f')\n",
        "\n",
        "# /v2/top-headlines\n",
        "top_headlines = newsapi.get_top_headlines(q='cricket')\n",
        "\n",
        "# top_headlines.keys()\n",
        "articles = top_headlines['articles']\n",
        "for article in articles:\n",
        "    article_url = article['url']\n",
        "    data = extractEntities(url=article_url)\n",
        "    # print(data['entities'])\n",
        "    # data = analyzeText(url=article_url)\n",
        "    # print(data['sentiment']['document'])\n",
        "    # print(data['emotion']['document'])\n",
        "    # print()\n",
        "\n",
        "pd.json_normalize(data['entities'])"
      ],
      "metadata": {
        "id": "ZIMEtC6TVYSQ",
        "outputId": "47798e86-3e39-4d7b-accd-120e5f95af60",
        "colab": {
          "base_uri": "https://localhost:8080/",
          "height": 531
        }
      },
      "execution_count": 19,
      "outputs": [
        {
          "output_type": "execute_result",
          "data": {
            "text/plain": [
              "           type              text  relevance  count  confidence  \\\n",
              "0        Person        Suryakumar   0.950862      4    1.000000   \n",
              "1  Organization        Team India   0.646198      2    0.843276   \n",
              "2  Organization        Super Four   0.553380      2    0.750407   \n",
              "3        Person  Suryakumar Yadav   0.511154      1    0.986417   \n",
              "4        Person     Haroon Arshad   0.419785      1    0.953244   \n",
              "5        Person             Kohli   0.396048      4    1.000000   \n",
              "6      Location         Hong Kong   0.394277      2    0.813439   \n",
              "7  Organization     T20 World Cup   0.334104      1    0.336666   \n",
              "8        Person            Yuvraj   0.308178      2    0.990628   \n",
              "9        Person      Yuvraj Singh   0.256692      1    0.937622   \n",
              "\n",
              "   sentiment.score sentiment.label  emotion.sadness  emotion.joy  \\\n",
              "0        -0.583236        negative         0.147709     0.398459   \n",
              "1         0.600793        positive         0.295428     0.862374   \n",
              "2         0.000000         neutral         0.291901     0.787580   \n",
              "3         0.000000         neutral         0.205925     0.798720   \n",
              "4         0.000000         neutral         0.118391     0.093113   \n",
              "5         0.495585        positive         0.138841     0.644110   \n",
              "6         0.000000         neutral         0.318965     0.768373   \n",
              "7         0.000000         neutral         0.227674     0.287623   \n",
              "8         0.845460        positive         0.259871     0.467031   \n",
              "9         0.000000         neutral         0.227674     0.287623   \n",
              "\n",
              "   emotion.fear  emotion.disgust  emotion.anger  \\\n",
              "0      0.088394         0.017241       0.056118   \n",
              "1      0.014909         0.013560       0.018173   \n",
              "2      0.025842         0.010480       0.029264   \n",
              "3      0.023670         0.006061       0.039628   \n",
              "4      0.082052         0.013459       0.111549   \n",
              "5      0.033553         0.033493       0.030632   \n",
              "6      0.035474         0.010104       0.029145   \n",
              "7      0.016254         0.035623       0.054597   \n",
              "8      0.015525         0.032500       0.039992   \n",
              "9      0.016254         0.035623       0.054597   \n",
              "\n",
              "                              disambiguation.subtype  \\\n",
              "0                                                NaN   \n",
              "1                          [SportsTeam, CricketTeam]   \n",
              "2                                                NaN   \n",
              "3                                                NaN   \n",
              "4                                                NaN   \n",
              "5                                                NaN   \n",
              "6  [HumanLanguage, AdministrativeDivision, Countr...   \n",
              "7                                                NaN   \n",
              "8                                                NaN   \n",
              "9            [Athlete, CricketBowler, CricketPlayer]   \n",
              "\n",
              "           disambiguation.name  \\\n",
              "0                          NaN   \n",
              "1  India_national_cricket_team   \n",
              "2                          NaN   \n",
              "3             Suryakumar_Yadav   \n",
              "4                          NaN   \n",
              "5                          NaN   \n",
              "6                    Hong_Kong   \n",
              "7                          NaN   \n",
              "8                          NaN   \n",
              "9                 Yuvraj_Singh   \n",
              "\n",
              "                     disambiguation.dbpedia_resource sentiment.mixed  \n",
              "0                                                NaN             NaN  \n",
              "1  http://dbpedia.org/resource/India_national_cri...             NaN  \n",
              "2                                                NaN             NaN  \n",
              "3       http://dbpedia.org/resource/Suryakumar_Yadav             NaN  \n",
              "4                                                NaN             NaN  \n",
              "5                                                NaN               1  \n",
              "6              http://dbpedia.org/resource/Hong_Kong             NaN  \n",
              "7                                                NaN             NaN  \n",
              "8                                                NaN             NaN  \n",
              "9           http://dbpedia.org/resource/Yuvraj_Singh             NaN  "
            ],
            "text/html": [
              "\n",
              "  <div id=\"df-16e68265-9fa7-4653-8d19-028e22a4a1b1\">\n",
              "    <div class=\"colab-df-container\">\n",
              "      <div>\n",
              "<style scoped>\n",
              "    .dataframe tbody tr th:only-of-type {\n",
              "        vertical-align: middle;\n",
              "    }\n",
              "\n",
              "    .dataframe tbody tr th {\n",
              "        vertical-align: top;\n",
              "    }\n",
              "\n",
              "    .dataframe thead th {\n",
              "        text-align: right;\n",
              "    }\n",
              "</style>\n",
              "<table border=\"1\" class=\"dataframe\">\n",
              "  <thead>\n",
              "    <tr style=\"text-align: right;\">\n",
              "      <th></th>\n",
              "      <th>type</th>\n",
              "      <th>text</th>\n",
              "      <th>relevance</th>\n",
              "      <th>count</th>\n",
              "      <th>confidence</th>\n",
              "      <th>sentiment.score</th>\n",
              "      <th>sentiment.label</th>\n",
              "      <th>emotion.sadness</th>\n",
              "      <th>emotion.joy</th>\n",
              "      <th>emotion.fear</th>\n",
              "      <th>emotion.disgust</th>\n",
              "      <th>emotion.anger</th>\n",
              "      <th>disambiguation.subtype</th>\n",
              "      <th>disambiguation.name</th>\n",
              "      <th>disambiguation.dbpedia_resource</th>\n",
              "      <th>sentiment.mixed</th>\n",
              "    </tr>\n",
              "  </thead>\n",
              "  <tbody>\n",
              "    <tr>\n",
              "      <th>0</th>\n",
              "      <td>Person</td>\n",
              "      <td>Suryakumar</td>\n",
              "      <td>0.950862</td>\n",
              "      <td>4</td>\n",
              "      <td>1.000000</td>\n",
              "      <td>-0.583236</td>\n",
              "      <td>negative</td>\n",
              "      <td>0.147709</td>\n",
              "      <td>0.398459</td>\n",
              "      <td>0.088394</td>\n",
              "      <td>0.017241</td>\n",
              "      <td>0.056118</td>\n",
              "      <td>NaN</td>\n",
              "      <td>NaN</td>\n",
              "      <td>NaN</td>\n",
              "      <td>NaN</td>\n",
              "    </tr>\n",
              "    <tr>\n",
              "      <th>1</th>\n",
              "      <td>Organization</td>\n",
              "      <td>Team India</td>\n",
              "      <td>0.646198</td>\n",
              "      <td>2</td>\n",
              "      <td>0.843276</td>\n",
              "      <td>0.600793</td>\n",
              "      <td>positive</td>\n",
              "      <td>0.295428</td>\n",
              "      <td>0.862374</td>\n",
              "      <td>0.014909</td>\n",
              "      <td>0.013560</td>\n",
              "      <td>0.018173</td>\n",
              "      <td>[SportsTeam, CricketTeam]</td>\n",
              "      <td>India_national_cricket_team</td>\n",
              "      <td>http://dbpedia.org/resource/India_national_cri...</td>\n",
              "      <td>NaN</td>\n",
              "    </tr>\n",
              "    <tr>\n",
              "      <th>2</th>\n",
              "      <td>Organization</td>\n",
              "      <td>Super Four</td>\n",
              "      <td>0.553380</td>\n",
              "      <td>2</td>\n",
              "      <td>0.750407</td>\n",
              "      <td>0.000000</td>\n",
              "      <td>neutral</td>\n",
              "      <td>0.291901</td>\n",
              "      <td>0.787580</td>\n",
              "      <td>0.025842</td>\n",
              "      <td>0.010480</td>\n",
              "      <td>0.029264</td>\n",
              "      <td>NaN</td>\n",
              "      <td>NaN</td>\n",
              "      <td>NaN</td>\n",
              "      <td>NaN</td>\n",
              "    </tr>\n",
              "    <tr>\n",
              "      <th>3</th>\n",
              "      <td>Person</td>\n",
              "      <td>Suryakumar Yadav</td>\n",
              "      <td>0.511154</td>\n",
              "      <td>1</td>\n",
              "      <td>0.986417</td>\n",
              "      <td>0.000000</td>\n",
              "      <td>neutral</td>\n",
              "      <td>0.205925</td>\n",
              "      <td>0.798720</td>\n",
              "      <td>0.023670</td>\n",
              "      <td>0.006061</td>\n",
              "      <td>0.039628</td>\n",
              "      <td>NaN</td>\n",
              "      <td>Suryakumar_Yadav</td>\n",
              "      <td>http://dbpedia.org/resource/Suryakumar_Yadav</td>\n",
              "      <td>NaN</td>\n",
              "    </tr>\n",
              "    <tr>\n",
              "      <th>4</th>\n",
              "      <td>Person</td>\n",
              "      <td>Haroon Arshad</td>\n",
              "      <td>0.419785</td>\n",
              "      <td>1</td>\n",
              "      <td>0.953244</td>\n",
              "      <td>0.000000</td>\n",
              "      <td>neutral</td>\n",
              "      <td>0.118391</td>\n",
              "      <td>0.093113</td>\n",
              "      <td>0.082052</td>\n",
              "      <td>0.013459</td>\n",
              "      <td>0.111549</td>\n",
              "      <td>NaN</td>\n",
              "      <td>NaN</td>\n",
              "      <td>NaN</td>\n",
              "      <td>NaN</td>\n",
              "    </tr>\n",
              "    <tr>\n",
              "      <th>5</th>\n",
              "      <td>Person</td>\n",
              "      <td>Kohli</td>\n",
              "      <td>0.396048</td>\n",
              "      <td>4</td>\n",
              "      <td>1.000000</td>\n",
              "      <td>0.495585</td>\n",
              "      <td>positive</td>\n",
              "      <td>0.138841</td>\n",
              "      <td>0.644110</td>\n",
              "      <td>0.033553</td>\n",
              "      <td>0.033493</td>\n",
              "      <td>0.030632</td>\n",
              "      <td>NaN</td>\n",
              "      <td>NaN</td>\n",
              "      <td>NaN</td>\n",
              "      <td>1</td>\n",
              "    </tr>\n",
              "    <tr>\n",
              "      <th>6</th>\n",
              "      <td>Location</td>\n",
              "      <td>Hong Kong</td>\n",
              "      <td>0.394277</td>\n",
              "      <td>2</td>\n",
              "      <td>0.813439</td>\n",
              "      <td>0.000000</td>\n",
              "      <td>neutral</td>\n",
              "      <td>0.318965</td>\n",
              "      <td>0.768373</td>\n",
              "      <td>0.035474</td>\n",
              "      <td>0.010104</td>\n",
              "      <td>0.029145</td>\n",
              "      <td>[HumanLanguage, AdministrativeDivision, Countr...</td>\n",
              "      <td>Hong_Kong</td>\n",
              "      <td>http://dbpedia.org/resource/Hong_Kong</td>\n",
              "      <td>NaN</td>\n",
              "    </tr>\n",
              "    <tr>\n",
              "      <th>7</th>\n",
              "      <td>Organization</td>\n",
              "      <td>T20 World Cup</td>\n",
              "      <td>0.334104</td>\n",
              "      <td>1</td>\n",
              "      <td>0.336666</td>\n",
              "      <td>0.000000</td>\n",
              "      <td>neutral</td>\n",
              "      <td>0.227674</td>\n",
              "      <td>0.287623</td>\n",
              "      <td>0.016254</td>\n",
              "      <td>0.035623</td>\n",
              "      <td>0.054597</td>\n",
              "      <td>NaN</td>\n",
              "      <td>NaN</td>\n",
              "      <td>NaN</td>\n",
              "      <td>NaN</td>\n",
              "    </tr>\n",
              "    <tr>\n",
              "      <th>8</th>\n",
              "      <td>Person</td>\n",
              "      <td>Yuvraj</td>\n",
              "      <td>0.308178</td>\n",
              "      <td>2</td>\n",
              "      <td>0.990628</td>\n",
              "      <td>0.845460</td>\n",
              "      <td>positive</td>\n",
              "      <td>0.259871</td>\n",
              "      <td>0.467031</td>\n",
              "      <td>0.015525</td>\n",
              "      <td>0.032500</td>\n",
              "      <td>0.039992</td>\n",
              "      <td>NaN</td>\n",
              "      <td>NaN</td>\n",
              "      <td>NaN</td>\n",
              "      <td>NaN</td>\n",
              "    </tr>\n",
              "    <tr>\n",
              "      <th>9</th>\n",
              "      <td>Person</td>\n",
              "      <td>Yuvraj Singh</td>\n",
              "      <td>0.256692</td>\n",
              "      <td>1</td>\n",
              "      <td>0.937622</td>\n",
              "      <td>0.000000</td>\n",
              "      <td>neutral</td>\n",
              "      <td>0.227674</td>\n",
              "      <td>0.287623</td>\n",
              "      <td>0.016254</td>\n",
              "      <td>0.035623</td>\n",
              "      <td>0.054597</td>\n",
              "      <td>[Athlete, CricketBowler, CricketPlayer]</td>\n",
              "      <td>Yuvraj_Singh</td>\n",
              "      <td>http://dbpedia.org/resource/Yuvraj_Singh</td>\n",
              "      <td>NaN</td>\n",
              "    </tr>\n",
              "  </tbody>\n",
              "</table>\n",
              "</div>\n",
              "      <button class=\"colab-df-convert\" onclick=\"convertToInteractive('df-16e68265-9fa7-4653-8d19-028e22a4a1b1')\"\n",
              "              title=\"Convert this dataframe to an interactive table.\"\n",
              "              style=\"display:none;\">\n",
              "        \n",
              "  <svg xmlns=\"http://www.w3.org/2000/svg\" height=\"24px\"viewBox=\"0 0 24 24\"\n",
              "       width=\"24px\">\n",
              "    <path d=\"M0 0h24v24H0V0z\" fill=\"none\"/>\n",
              "    <path d=\"M18.56 5.44l.94 2.06.94-2.06 2.06-.94-2.06-.94-.94-2.06-.94 2.06-2.06.94zm-11 1L8.5 8.5l.94-2.06 2.06-.94-2.06-.94L8.5 2.5l-.94 2.06-2.06.94zm10 10l.94 2.06.94-2.06 2.06-.94-2.06-.94-.94-2.06-.94 2.06-2.06.94z\"/><path d=\"M17.41 7.96l-1.37-1.37c-.4-.4-.92-.59-1.43-.59-.52 0-1.04.2-1.43.59L10.3 9.45l-7.72 7.72c-.78.78-.78 2.05 0 2.83L4 21.41c.39.39.9.59 1.41.59.51 0 1.02-.2 1.41-.59l7.78-7.78 2.81-2.81c.8-.78.8-2.07 0-2.86zM5.41 20L4 18.59l7.72-7.72 1.47 1.35L5.41 20z\"/>\n",
              "  </svg>\n",
              "      </button>\n",
              "      \n",
              "  <style>\n",
              "    .colab-df-container {\n",
              "      display:flex;\n",
              "      flex-wrap:wrap;\n",
              "      gap: 12px;\n",
              "    }\n",
              "\n",
              "    .colab-df-convert {\n",
              "      background-color: #E8F0FE;\n",
              "      border: none;\n",
              "      border-radius: 50%;\n",
              "      cursor: pointer;\n",
              "      display: none;\n",
              "      fill: #1967D2;\n",
              "      height: 32px;\n",
              "      padding: 0 0 0 0;\n",
              "      width: 32px;\n",
              "    }\n",
              "\n",
              "    .colab-df-convert:hover {\n",
              "      background-color: #E2EBFA;\n",
              "      box-shadow: 0px 1px 2px rgba(60, 64, 67, 0.3), 0px 1px 3px 1px rgba(60, 64, 67, 0.15);\n",
              "      fill: #174EA6;\n",
              "    }\n",
              "\n",
              "    [theme=dark] .colab-df-convert {\n",
              "      background-color: #3B4455;\n",
              "      fill: #D2E3FC;\n",
              "    }\n",
              "\n",
              "    [theme=dark] .colab-df-convert:hover {\n",
              "      background-color: #434B5C;\n",
              "      box-shadow: 0px 1px 3px 1px rgba(0, 0, 0, 0.15);\n",
              "      filter: drop-shadow(0px 1px 2px rgba(0, 0, 0, 0.3));\n",
              "      fill: #FFFFFF;\n",
              "    }\n",
              "  </style>\n",
              "\n",
              "      <script>\n",
              "        const buttonEl =\n",
              "          document.querySelector('#df-16e68265-9fa7-4653-8d19-028e22a4a1b1 button.colab-df-convert');\n",
              "        buttonEl.style.display =\n",
              "          google.colab.kernel.accessAllowed ? 'block' : 'none';\n",
              "\n",
              "        async function convertToInteractive(key) {\n",
              "          const element = document.querySelector('#df-16e68265-9fa7-4653-8d19-028e22a4a1b1');\n",
              "          const dataTable =\n",
              "            await google.colab.kernel.invokeFunction('convertToInteractive',\n",
              "                                                     [key], {});\n",
              "          if (!dataTable) return;\n",
              "\n",
              "          const docLinkHtml = 'Like what you see? Visit the ' +\n",
              "            '<a target=\"_blank\" href=https://colab.research.google.com/notebooks/data_table.ipynb>data table notebook</a>'\n",
              "            + ' to learn more about interactive tables.';\n",
              "          element.innerHTML = '';\n",
              "          dataTable['output_type'] = 'display_data';\n",
              "          await google.colab.output.renderOutput(dataTable, element);\n",
              "          const docLink = document.createElement('div');\n",
              "          docLink.innerHTML = docLinkHtml;\n",
              "          element.appendChild(docLink);\n",
              "        }\n",
              "      </script>\n",
              "    </div>\n",
              "  </div>\n",
              "  "
            ]
          },
          "metadata": {},
          "execution_count": 19
        }
      ]
    }
  ]
}