{
  "nbformat": 4,
  "nbformat_minor": 0,
  "metadata": {
    "kernelspec": {
      "display_name": "Python 3",
      "language": "python",
      "name": "python3"
    },
    "language_info": {
      "codemirror_mode": {
        "name": "ipython",
        "version": 3
      },
      "file_extension": ".py",
      "mimetype": "text/x-python",
      "name": "python",
      "nbconvert_exporter": "python",
      "pygments_lexer": "ipython3",
      "version": "3.6.7"
    },
    "colab": {
      "name": "A-Accessing_Web_APIs_using_Python.ipynb",
      "provenance": [],
      "include_colab_link": true
    }
  },
  "cells": [
    {
      "cell_type": "markdown",
      "metadata": {
        "id": "view-in-github",
        "colab_type": "text"
      },
      "source": [
        "<a href=\"https://colab.research.google.com/github/RitinDev/projects-programming-data-sciences/blob/main/02-WebAPIs/A-Accessing_Web_APIs_using_Python.ipynb\" target=\"_parent\"><img src=\"https://colab.research.google.com/assets/colab-badge.svg\" alt=\"Open In Colab\"/></a>"
      ]
    },
    {
      "cell_type": "markdown",
      "metadata": {
        "id": "cAFZ6CAr7bG4"
      },
      "source": [
        "# Interacting with Web APIs\n",
        "\n"
      ]
    },
    {
      "cell_type": "markdown",
      "metadata": {
        "id": "ixwqMWMx7bG6"
      },
      "source": [
        "We are going to examine now the concept of a Web API. A web API is similar to a function call, but the \"function\" that we call is located in another machine, and we submit the parameters of the function through the web.\n",
        "\n"
      ]
    },
    {
      "cell_type": "markdown",
      "metadata": {
        "id": "c539Rnwl7bG7"
      },
      "source": [
        "## First Example: GeoIP resolution"
      ]
    },
    {
      "cell_type": "markdown",
      "metadata": {
        "id": "DSfrhGnZ7bG7"
      },
      "source": [
        "We will start with an example that is doing a \"geoIP\" resolution: it takes the IP of a computer and returns back its location."
      ]
    },
    {
      "cell_type": "code",
      "metadata": {
        "id": "IT5l_Q6y7bG8"
      },
      "source": [
        "# !sudo -H pip3 install -U requests\n",
        "# import requests\n",
        "# requests.__version__"
      ],
      "execution_count": null,
      "outputs": []
    },
    {
      "cell_type": "code",
      "metadata": {
        "id": "L3qbzyE67bG8"
      },
      "source": [
        "# We first import the requests library\n",
        "import requests\n",
        "url = 'http://api.ipstack.com/check?access_key=dd4cbbbe9d6b9f2709e5f0533644e547'\n",
        "resp = requests.get(url)"
      ],
      "execution_count": 32,
      "outputs": []
    },
    {
      "cell_type": "code",
      "metadata": {
        "id": "98uKCdwz7bG8",
        "outputId": "d8f5a427-7d5f-4350-fee7-456f759baff1",
        "colab": {
          "base_uri": "https://localhost:8080/"
        }
      },
      "source": [
        "# The resp object encapsulates the \"response\" of the server\n",
        "# Notice the status code that is displayed. \n",
        "# Code 200 means that things went fine\n",
        "# Code 404 means that the URL was not found\n",
        "# Codes 5xx mean that something went wrong\n",
        "resp"
      ],
      "execution_count": 33,
      "outputs": [
        {
          "output_type": "execute_result",
          "data": {
            "text/plain": [
              "<Response [200]>"
            ]
          },
          "metadata": {},
          "execution_count": 33
        }
      ]
    },
    {
      "cell_type": "code",
      "metadata": {
        "id": "ZZUNi_NZ7bG9",
        "outputId": "8df18e81-4e5e-407a-8894-0b0d78ca11c7",
        "colab": {
          "base_uri": "https://localhost:8080/"
        }
      },
      "source": [
        "if (resp.status_code == 200):\n",
        "    print(\"Everything was ok:\", resp.status_code)\n",
        "else:\n",
        "    print(\"There was a problem:\", resp.status_code)"
      ],
      "execution_count": 34,
      "outputs": [
        {
          "output_type": "stream",
          "name": "stdout",
          "text": [
            "Everything was ok: 200\n"
          ]
        }
      ]
    },
    {
      "cell_type": "code",
      "metadata": {
        "id": "ttnV7yHn7bG9",
        "outputId": "3a7c5d55-390a-41ab-e488-efde4c1c8e92",
        "colab": {
          "base_uri": "https://localhost:8080/",
          "height": 143
        }
      },
      "source": [
        "# Let's see the content of the response\n",
        "# As you can see, it contain the JSON response\n",
        "data = resp.text\n",
        "data"
      ],
      "execution_count": 35,
      "outputs": [
        {
          "output_type": "execute_result",
          "data": {
            "text/plain": [
              "'{\"ip\": \"34.73.158.154\", \"type\": \"ipv4\", \"continent_code\": \"NA\", \"continent_name\": \"North America\", \"country_code\": \"US\", \"country_name\": \"United States\", \"region_code\": \"SC\", \"region_name\": \"South Carolina\", \"city\": \"North Charleston\", \"zip\": \"29418\", \"latitude\": 32.890079498291016, \"longitude\": -80.0589370727539, \"location\": {\"geoname_id\": 4589387, \"capital\": \"Washington D.C.\", \"languages\": [{\"code\": \"en\", \"name\": \"English\", \"native\": \"English\"}], \"country_flag\": \"https://assets.ipstack.com/flags/us.svg\", \"country_flag_emoji\": \"\\\\ud83c\\\\uddfa\\\\ud83c\\\\uddf8\", \"country_flag_emoji_unicode\": \"U+1F1FA U+1F1F8\", \"calling_code\": \"1\", \"is_eu\": false}, \"time_zone\": {\"id\": \"America/New_York\", \"current_time\": \"2022-09-01T18:14:57-04:00\", \"gmt_offset\": -14400, \"code\": \"EDT\", \"is_daylight_saving\": true}, \"currency\": {\"code\": \"USD\", \"name\": \"US Dollar\", \"plural\": \"US dollars\", \"symbol\": \"$\", \"symbol_native\": \"$\"}, \"connection\": {\"asn\": 396982, \"isp\": \"Google\"}}'"
            ],
            "application/vnd.google.colaboratory.intrinsic+json": {
              "type": "string"
            }
          },
          "metadata": {},
          "execution_count": 35
        }
      ]
    },
    {
      "cell_type": "code",
      "metadata": {
        "id": "otOu9AjI7bG9"
      },
      "source": [
        "# We want to transform the JSON file into a Python dictionary object\n",
        "# We use the response.json() command to get back a dictionary\n",
        "data = resp.json()"
      ],
      "execution_count": 36,
      "outputs": []
    },
    {
      "cell_type": "code",
      "metadata": {
        "id": "MXzdpKCY7bG-",
        "outputId": "e8cb7afb-3094-48f2-b4c5-778c2e8ee84f",
        "colab": {
          "base_uri": "https://localhost:8080/"
        }
      },
      "source": [
        "# Now data is a Python dictionary\n",
        "data"
      ],
      "execution_count": 37,
      "outputs": [
        {
          "output_type": "execute_result",
          "data": {
            "text/plain": [
              "{'ip': '34.73.158.154',\n",
              " 'type': 'ipv4',\n",
              " 'continent_code': 'NA',\n",
              " 'continent_name': 'North America',\n",
              " 'country_code': 'US',\n",
              " 'country_name': 'United States',\n",
              " 'region_code': 'SC',\n",
              " 'region_name': 'South Carolina',\n",
              " 'city': 'North Charleston',\n",
              " 'zip': '29418',\n",
              " 'latitude': 32.890079498291016,\n",
              " 'longitude': -80.0589370727539,\n",
              " 'location': {'geoname_id': 4589387,\n",
              "  'capital': 'Washington D.C.',\n",
              "  'languages': [{'code': 'en', 'name': 'English', 'native': 'English'}],\n",
              "  'country_flag': 'https://assets.ipstack.com/flags/us.svg',\n",
              "  'country_flag_emoji': '🇺🇸',\n",
              "  'country_flag_emoji_unicode': 'U+1F1FA U+1F1F8',\n",
              "  'calling_code': '1',\n",
              "  'is_eu': False},\n",
              " 'time_zone': {'id': 'America/New_York',\n",
              "  'current_time': '2022-09-01T18:14:57-04:00',\n",
              "  'gmt_offset': -14400,\n",
              "  'code': 'EDT',\n",
              "  'is_daylight_saving': True},\n",
              " 'currency': {'code': 'USD',\n",
              "  'name': 'US Dollar',\n",
              "  'plural': 'US dollars',\n",
              "  'symbol': '$',\n",
              "  'symbol_native': '$'},\n",
              " 'connection': {'asn': 396982, 'isp': 'Google'}}"
            ]
          },
          "metadata": {},
          "execution_count": 37
        }
      ]
    },
    {
      "cell_type": "code",
      "metadata": {
        "id": "HA3fz9LU7bG-",
        "outputId": "b0bbea59-d2c0-4fd1-dfcf-59fa6a6ece19",
        "colab": {
          "base_uri": "https://localhost:8080/"
        }
      },
      "source": [
        "# And we can access the fields of the JSON as we normally access Python dictionary entries\n",
        "print(\"Lon:\", data[\"longitude\"], \"Lat:\", data[\"latitude\"])"
      ],
      "execution_count": 38,
      "outputs": [
        {
          "output_type": "stream",
          "name": "stdout",
          "text": [
            "Lon: -80.0589370727539 Lat: 32.890079498291016\n"
          ]
        }
      ]
    },
    {
      "cell_type": "markdown",
      "metadata": {
        "id": "RmbcMvh27bG-"
      },
      "source": [
        "And in one piece:"
      ]
    },
    {
      "cell_type": "code",
      "metadata": {
        "id": "3OBLSVuS7bG-",
        "outputId": "29946ea3-0de5-4ad1-f3eb-921cab49693a",
        "colab": {
          "base_uri": "https://localhost:8080/"
        }
      },
      "source": [
        "import requests\n",
        "url = 'http://api.ipstack.com/check?access_key=dd4cbbbe9d6b9f2709e5f0533644e547'\n",
        "resp = requests.get(url)\n",
        "data = resp.json()\n",
        "print(\"Lon:\", data[\"longitude\"], \"Lat:\", data[\"latitude\"])"
      ],
      "execution_count": 8,
      "outputs": [
        {
          "output_type": "stream",
          "name": "stdout",
          "text": [
            "Lon: -80.0589370727539 Lat: 32.890079498291016\n"
          ]
        }
      ]
    },
    {
      "cell_type": "markdown",
      "metadata": {
        "id": "bQnz1L6Y7bG-"
      },
      "source": [
        "## Using Parameters with API Calls\n"
      ]
    },
    {
      "cell_type": "markdown",
      "metadata": {
        "id": "t27OU8Pd7bG_"
      },
      "source": [
        "\n",
        "The first API call that we tried was very simple. We just fetched a URL. Now let's see a URL that accepts as input a set of **parameters**. We have already seen this concept with functions; the parameters of the API calls are the exact equivalent but for Web APIs, which are, at their core, functions that we call over the web. "
      ]
    },
    {
      "cell_type": "markdown",
      "metadata": {
        "id": "n9ZA3ekO7bG_"
      },
      "source": [
        "### Example: OpenWeatherMap"
      ]
    },
    {
      "cell_type": "markdown",
      "metadata": {
        "id": "7IlNOVgI7bG_"
      },
      "source": [
        "Let's try to query OpenWeatherMap now, to get data about the weather. [Documentation](http://openweathermap.org/current#geo). Below you can find the URL that you can copy and paste in your browser, to get the weather for New York. You will notice that it contains parameters as part of the URL, including an `appid` which is a key that is used to limit the number of calls that can be issued by a single application. \n",
        "\n",
        "Try the URL in your browser. Also try to change the query parameter `q` and change it from `New%20York,NY` to something different. (Note: The `%20` is a transformation for the space (` `) character in URLs.)"
      ]
    },
    {
      "cell_type": "raw",
      "metadata": {
        "id": "AN6vrZFm7bG_"
      },
      "source": [
        "http://api.openweathermap.org/data/2.5/weather?q=New%20York,NY,USA&units=imperial&mode=json&appid=ffb7b9808e07c9135bdcc7d1e867253d"
      ]
    },
    {
      "cell_type": "markdown",
      "metadata": {
        "id": "nf8LSCiW7bG_"
      },
      "source": [
        "Below you can find the same code, but now we have a Python dictionary to organize and list the parameters."
      ]
    },
    {
      "cell_type": "code",
      "metadata": {
        "id": "BZeUya-Y7bHA",
        "outputId": "9215b778-e922-494d-d202-2e2eecbe8eea",
        "colab": {
          "base_uri": "https://localhost:8080/"
        }
      },
      "source": [
        "import requests\n",
        "\n",
        "openweathermap_url = \"http://api.openweathermap.org/data/2.5/weather\"\n",
        "parameters = {\n",
        "    'q'     : 'New York, NY, USA',\n",
        "    'units' : 'imperial',\n",
        "    'mode'  : 'json',\n",
        "    'appid' : 'ffb7b9808e07c9135bdcc7d1e867253d'\n",
        "}\n",
        "resp = requests.get(openweathermap_url, params=parameters)\n",
        "data = resp.json()\n",
        "data"
      ],
      "execution_count": 11,
      "outputs": [
        {
          "output_type": "execute_result",
          "data": {
            "text/plain": [
              "{'coord': {'lon': -73.9866, 'lat': 40.7306},\n",
              " 'weather': [{'id': 800,\n",
              "   'main': 'Clear',\n",
              "   'description': 'clear sky',\n",
              "   'icon': '01d'}],\n",
              " 'base': 'stations',\n",
              " 'main': {'temp': 84.42,\n",
              "  'feels_like': 82.35,\n",
              "  'temp_min': 79.83,\n",
              "  'temp_max': 87.94,\n",
              "  'pressure': 1013,\n",
              "  'humidity': 30},\n",
              " 'visibility': 10000,\n",
              " 'wind': {'speed': 11.01, 'deg': 317, 'gust': 24},\n",
              " 'clouds': {'all': 0},\n",
              " 'dt': 1662069261,\n",
              " 'sys': {'type': 2,\n",
              "  'id': 2039034,\n",
              "  'country': 'US',\n",
              "  'sunrise': 1662027786,\n",
              "  'sunset': 1662074954},\n",
              " 'timezone': -14400,\n",
              " 'id': 5128581,\n",
              " 'name': 'New York',\n",
              " 'cod': 200}"
            ]
          },
          "metadata": {},
          "execution_count": 11
        }
      ]
    },
    {
      "cell_type": "markdown",
      "metadata": {
        "id": "ui0Az-Wk7bHA"
      },
      "source": [
        "## Exercise 1"
      ]
    },
    {
      "cell_type": "markdown",
      "metadata": {
        "id": "-I8Ngs9c7bHA"
      },
      "source": [
        "\n",
        "a. Extract the current temperature from the returned JSON response.\n"
      ]
    },
    {
      "cell_type": "code",
      "metadata": {
        "id": "EU9frQ_l7bHA",
        "outputId": "b40f7427-9eba-4e3a-ec4d-2e6611451ef4",
        "colab": {
          "base_uri": "https://localhost:8080/"
        }
      },
      "source": [
        "# your code here\n",
        "data['main']['temp']"
      ],
      "execution_count": 12,
      "outputs": [
        {
          "output_type": "execute_result",
          "data": {
            "text/plain": [
              "84.42"
            ]
          },
          "metadata": {},
          "execution_count": 12
        }
      ]
    },
    {
      "cell_type": "markdown",
      "metadata": {
        "id": "bEnlymfz7bHA"
      },
      "source": [
        "b. Extract the description of the current weather"
      ]
    },
    {
      "cell_type": "code",
      "metadata": {
        "id": "gjMZ7AzJ7bHB",
        "outputId": "fcd289c5-8932-405b-8357-2a7d1a0ca9cc",
        "colab": {
          "base_uri": "https://localhost:8080/",
          "height": 35
        }
      },
      "source": [
        "# your code here\n",
        "data['weather'][0]['description']"
      ],
      "execution_count": 20,
      "outputs": [
        {
          "output_type": "execute_result",
          "data": {
            "text/plain": [
              "'clear sky'"
            ],
            "application/vnd.google.colaboratory.intrinsic+json": {
              "type": "string"
            }
          },
          "metadata": {},
          "execution_count": 20
        }
      ]
    },
    {
      "cell_type": "markdown",
      "metadata": {
        "id": "hAAZKBa27bHB"
      },
      "source": [
        "c. Try to change the units to `metric` and repeat\n"
      ]
    },
    {
      "cell_type": "code",
      "metadata": {
        "id": "bm5UXxZV7bHB",
        "outputId": "172adb12-e91d-4728-a1ff-aeaf7cc817e3",
        "colab": {
          "base_uri": "https://localhost:8080/"
        }
      },
      "source": [
        "# your code here\n",
        "openweathermap_url = \"http://api.openweathermap.org/data/2.5/weather\"\n",
        "parameters = {\n",
        "    'q'     : 'New York, NY, USA',\n",
        "    'units' : 'metric',\n",
        "    'mode'  : 'json',\n",
        "    'appid' : 'ffb7b9808e07c9135bdcc7d1e867253d'\n",
        "}\n",
        "resp = requests.get(openweathermap_url, params=parameters)\n",
        "data = resp.json()\n",
        "# data\n",
        "\n",
        "print(data['main']['temp'])\n",
        "print(data['weather'][0]['description'])"
      ],
      "execution_count": 25,
      "outputs": [
        {
          "output_type": "stream",
          "name": "stdout",
          "text": [
            "29.05\n",
            "clear sky\n"
          ]
        }
      ]
    },
    {
      "cell_type": "markdown",
      "metadata": {
        "id": "F8kKd67I7bHB"
      },
      "source": [
        "d. Get the weather for San Francisco, CA\n",
        "\n"
      ]
    },
    {
      "cell_type": "code",
      "metadata": {
        "id": "zPyztumb7bHB",
        "outputId": "0f553cb4-bb35-425a-b847-bc16e8a1c275",
        "colab": {
          "base_uri": "https://localhost:8080/"
        }
      },
      "source": [
        "# your code here\n",
        "parameters['q'] = 'San Francisco, CA, USA';\n",
        "resp = requests.get(openweathermap_url, params=parameters)\n",
        "data = resp.json()\n",
        "# data\n",
        "\n",
        "print(data['main']['temp'])\n",
        "print(data['weather'][0]['description'])"
      ],
      "execution_count": 27,
      "outputs": [
        {
          "output_type": "stream",
          "name": "stdout",
          "text": [
            "15.39\n",
            "broken clouds\n"
          ]
        }
      ]
    },
    {
      "cell_type": "markdown",
      "metadata": {
        "solution2": "hidden",
        "solution2_first": true,
        "id": "HQaxxR8S7bHB"
      },
      "source": [
        "### Solution for Exercise 1"
      ]
    },
    {
      "cell_type": "code",
      "metadata": {
        "solution2": "hidden",
        "id": "pr9rdq1i7bHB"
      },
      "source": [
        "print(f\"Temperature: {data['main']['temp']}F\")"
      ],
      "execution_count": null,
      "outputs": []
    },
    {
      "cell_type": "code",
      "metadata": {
        "solution2": "hidden",
        "id": "OvuCUqoa7bHC"
      },
      "source": [
        "print(f\"Description: {data['weather'][0]['description']}\")"
      ],
      "execution_count": null,
      "outputs": []
    },
    {
      "cell_type": "code",
      "metadata": {
        "solution2": "hidden",
        "id": "rlwCD-5E7bHC"
      },
      "source": [
        "openweathermap_url = \"http://api.openweathermap.org/data/2.5/weather\"\n",
        "parameters = {\n",
        "    'q'     : 'New York, NY, USA',\n",
        "    'units' : 'metric',\n",
        "    'mode'  : 'json',\n",
        "    'appid' : 'ffb7b9808e07c9135bdcc7d1e867253d'\n",
        "}\n",
        "resp = requests.get(openweathermap_url, params=parameters)\n",
        "data = resp.json()\n",
        "print(f\"Temperature in {data['name']}: {data['main']['temp']}C\")\n",
        "print(f\"Description: {data['weather'][0]['description']}\")     "
      ],
      "execution_count": null,
      "outputs": []
    },
    {
      "cell_type": "code",
      "metadata": {
        "solution2": "hidden",
        "id": "BRd8GiuN7bHC"
      },
      "source": [
        "openweathermap_url = \"http://api.openweathermap.org/data/2.5/weather\"\n",
        "parameters = {\n",
        "    'q'     : 'San Francisco, CA, USA',\n",
        "    'units' : 'imperial',\n",
        "    'mode'  : 'json',\n",
        "    'appid' : 'ffb7b9808e07c9135bdcc7d1e867253d'\n",
        "}\n",
        "resp = requests.get(openweathermap_url, params=parameters)\n",
        "data = resp.json()\n",
        "print(f\"Temperature in {data['name']}: {data['main']['temp']}C\")\n",
        "print(f\"Description: {data['weather'][0]['description']}\")     "
      ],
      "execution_count": null,
      "outputs": []
    },
    {
      "cell_type": "markdown",
      "metadata": {
        "id": "5IsOWg7J7bHD"
      },
      "source": [
        "## Exercise 2\n",
        "\n"
      ]
    },
    {
      "cell_type": "markdown",
      "metadata": {
        "id": "ahu9RAjc7bHD"
      },
      "source": [
        "* Study the documentation of the API ([Documentation](http://openweathermap.org/current#geo)). Change the API call to use the longitute and latitude."
      ]
    },
    {
      "cell_type": "markdown",
      "metadata": {
        "solution2": "hidden",
        "solution2_first": true,
        "id": "Ld_i8uLp7bHD"
      },
      "source": [
        "### Solution for Exercise 2"
      ]
    },
    {
      "cell_type": "code",
      "metadata": {
        "solution2": "hidden",
        "id": "YWsQVaOx7bHD",
        "outputId": "bbd0c40c-d33b-4f04-f861-b83906082dce",
        "colab": {
          "base_uri": "https://localhost:8080/"
        }
      },
      "source": [
        "openweathermap_url = \"http://api.openweathermap.org/data/2.5/weather\"\n",
        "parameters = {\n",
        "    'lat'   : 40.7288962,\n",
        "    'lon'   : -73.9966509,\n",
        "    'units' : 'imperial',\n",
        "    'mode'  : 'json',\n",
        "    'appid' : 'ffb7b9808e07c9135bdcc7d1e867253d'\n",
        "}\n",
        "resp = requests.get(openweathermap_url, params=parameters)\n",
        "data = resp.json()\n",
        "data"
      ],
      "execution_count": 29,
      "outputs": [
        {
          "output_type": "execute_result",
          "data": {
            "text/plain": [
              "{'coord': {'lon': -73.9967, 'lat': 40.7289},\n",
              " 'weather': [{'id': 800,\n",
              "   'main': 'Clear',\n",
              "   'description': 'clear sky',\n",
              "   'icon': '01d'}],\n",
              " 'base': 'stations',\n",
              " 'main': {'temp': 84.11,\n",
              "  'feels_like': 82,\n",
              "  'temp_min': 79.2,\n",
              "  'temp_max': 87.69,\n",
              "  'pressure': 1014,\n",
              "  'humidity': 29},\n",
              " 'visibility': 10000,\n",
              " 'wind': {'speed': 14, 'deg': 20, 'gust': 21},\n",
              " 'clouds': {'all': 0},\n",
              " 'dt': 1662070152,\n",
              " 'sys': {'type': 2,\n",
              "  'id': 2039034,\n",
              "  'country': 'US',\n",
              "  'sunrise': 1662027789,\n",
              "  'sunset': 1662074957},\n",
              " 'timezone': -14400,\n",
              " 'id': 5128581,\n",
              " 'name': 'New York',\n",
              " 'cod': 200}"
            ]
          },
          "metadata": {},
          "execution_count": 29
        }
      ]
    },
    {
      "cell_type": "markdown",
      "metadata": {
        "id": "fMwAteBp7bHE"
      },
      "source": [
        "## Exercise 3\n",
        "\n"
      ]
    },
    {
      "cell_type": "markdown",
      "metadata": {
        "id": "u3R7jQpC7bHE"
      },
      "source": [
        "Read the location of your computer using the GeoIP API. Then use the OpenWeatherMap to query the API and fetch the temperature for the location returned by the GeoIP API. For this exercise, you will need to learn to read variables from a Web API (geoip) and use them as input in another (openweathermap)"
      ]
    },
    {
      "cell_type": "code",
      "metadata": {
        "id": "LDbtOK5d7bHE"
      },
      "source": [
        "#your code here"
      ],
      "execution_count": 43,
      "outputs": []
    },
    {
      "cell_type": "markdown",
      "metadata": {
        "solution2": "hidden",
        "solution2_first": true,
        "id": "J2o3pEuA7bHE"
      },
      "source": [
        "### Solution for Exercise 3"
      ]
    },
    {
      "cell_type": "code",
      "metadata": {
        "scrolled": true,
        "solution2": "hidden",
        "id": "608bIRh37bHE",
        "outputId": "661ac4a5-5191-411f-ef26-41b5f2c1bed2",
        "colab": {
          "base_uri": "https://localhost:8080/"
        }
      },
      "source": [
        "import requests\n",
        "geoip_url = 'http://api.ipstack.com/check?access_key=dd4cbbbe9d6b9f2709e5f0533644e547'\n",
        "resp = requests.get(geoip_url)\n",
        "data = resp.json()\n",
        "lon = data[\"longitude\"]\n",
        "lat = data[\"latitude\"]\n",
        "\n",
        "openweathermap_url = \"http://api.openweathermap.org/data/2.5/weather\"\n",
        "parameters = {\n",
        "    'lat'   : str(lat),\n",
        "    'lon'   : str(lon),\n",
        "    'units' : 'imperial',\n",
        "    'mode'  : 'json',\n",
        "    'appid' : 'ffb7b9808e07c9135bdcc7d1e867253d'\n",
        "}\n",
        "resp = requests.get(openweathermap_url, params=parameters)\n",
        "data = resp.json()\n",
        "print(\"Location:\", data['name'])\n",
        "print(\"Weather:\", data['weather'][0]['description'])\n",
        "print(\"Temperature:\", data['main']['temp'])"
      ],
      "execution_count": 42,
      "outputs": [
        {
          "output_type": "stream",
          "name": "stdout",
          "text": [
            "Location: Wildwood\n",
            "Weather: broken clouds\n",
            "Temperature: 71.71\n"
          ]
        }
      ]
    }
  ]
}