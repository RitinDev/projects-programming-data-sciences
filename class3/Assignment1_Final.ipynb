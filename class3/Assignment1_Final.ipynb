{
  "nbformat": 4,
  "nbformat_minor": 0,
  "metadata": {
    "kernelspec": {
      "display_name": "Python 3",
      "language": "python",
      "name": "python3"
    },
    "language_info": {
      "codemirror_mode": {
        "name": "ipython",
        "version": 3
      },
      "file_extension": ".py",
      "mimetype": "text/x-python",
      "name": "python",
      "nbconvert_exporter": "python",
      "pygments_lexer": "ipython3",
      "version": "3.6.7"
    },
    "colab": {
      "provenance": [],
      "collapsed_sections": [],
      "include_colab_link": true
    }
  },
  "cells": [
    {
      "cell_type": "markdown",
      "metadata": {
        "id": "view-in-github",
        "colab_type": "text"
      },
      "source": [
        "<a href=\"https://colab.research.google.com/github/RitinDev/projects-programming-data-sciences/blob/main/class3/Assignment1_Final.ipynb\" target=\"_parent\"><img src=\"https://colab.research.google.com/assets/colab-badge.svg\" alt=\"Open In Colab\"/></a>"
      ]
    },
    {
      "cell_type": "markdown",
      "metadata": {
        "id": "YpOyKprkg78J"
      },
      "source": [
        "# Interacting with the IBM Watson Natural Language Understanding API\n",
        "\n",
        "Another useful API, especially when dealing with text, is the [IBM Watson  Natural Language Understanding API](https://console.bluemix.net/catalog/services/natural-language-understanding), which offers a variety of text analysis functionalities, such as sentiment analysis, entity extraction, keyword extraction, etc.\n",
        "\n",
        "We will give a couple of examples below, to understand how we can take an unstructured piece of text (either the text alone, or a URL with text), and perform some analysis.\n",
        "\n"
      ]
    },
    {
      "cell_type": "markdown",
      "source": [
        "\n",
        "\n",
        "## Sentiment ana emotion analysis\n",
        "\n",
        "We will first start with the `/analyze` API call ([documentation](https://cloud.ibm.com/apidocs/natural-language-understanding#analyzeget)), which takes as input a piece of text, and returns an analysis across various dimensions. \n",
        "\n",
        "The API supports the following analyses:\n",
        "\n",
        "`categories,classifications,concepts,emotion,entities,keywords,metadata,relations,semantic_roles,sentiment,summarization (experimental),syntax`\n",
        "\n",
        "The API supports not only English, but also a [variety of non-English languages](https://cloud.ibm.com/docs/natural-language-understanding?topic=natural-language-understanding-detectable-languages).\n",
        "\n",
        "In our introductory attempt, we will use the `sentiment` and `emotion` and focus on English texts. \n",
        "\n"
      ],
      "metadata": {
        "id": "w5AdsJAa5iIQ"
      }
    },
    {
      "cell_type": "code",
      "metadata": {
        "id": "Scpvaji2MigH"
      },
      "source": [
        "import requests"
      ],
      "execution_count": 94,
      "outputs": []
    },
    {
      "cell_type": "code",
      "metadata": {
        "id": "6o4aBLeBg78M"
      },
      "source": [
        "'''URL = 'https://api.us-south.natural-language-understanding.watson.cloud.ibm.com/instances/9e683088-0d12-4399-8118-518f3e60e8c4'\n",
        "\n",
        "# My own API key. It may run out of quota\n",
        "# You can register and get your own credentials\n",
        "# The ones below have a quota of 1000 calls per day \n",
        "# and can run out quickly if multiple people use these\n",
        "API_KEY = 'yx39wyiwPNGm7DoDUPCSJB4SzFkr0qurARfbGYyEdaoC'''\n",
        "\n",
        "URL = 'https://api.eu-gb.natural-language-understanding.watson.cloud.ibm.com/instances/d56bc7f9-88a8-4b7a-aa86-0557ca745925'\n",
        "API_KEY = 'xUQrt-jdAvneYY4cC7oAhLzCkS-RrDldfPfarjn9kBwl'\n",
        "\n",
        "def analyzeText(text=None, url=None):\n",
        "\n",
        "    endpoint = f\"{URL}/v1/analyze\"\n",
        "    username = \"apikey\"\n",
        "    password = API_KEY\n",
        "    \n",
        "    parameters = {\n",
        "        'features': 'emotion,sentiment',\n",
        "        'version' : '2022-04-07',\n",
        "        'text': text,\n",
        "        'language' : 'en',\n",
        "        'url' : url # this is an alternative to sending the text\n",
        "    }\n",
        "\n",
        "    resp = requests.get(endpoint, params=parameters, auth=(username, password))\n",
        "    \n",
        "    return resp.json()"
      ],
      "execution_count": 95,
      "outputs": []
    },
    {
      "cell_type": "markdown",
      "metadata": {
        "collapsed": true,
        "id": "PVct5ns8g79m"
      },
      "source": [
        "### Exercise\n",
        "\n",
        "* First of all, **get your own credentials for the IBM Watson API**. The demo key that we use above has a limited quota.\n",
        "* Use an API to get news articles. \n",
        "    * Option 1: Use the API at https://newsapi.org to fetch the news from various sources. Print the entities that are currently being discussed in the news, together with their relevance value and the associated sentiment.\n",
        "    * Option 2: Use the NY Times API to fetch the Top Stories News. You can register and get an API key at https://developer.nytimes.com/. The `Top Stories V2 API` provides the details of the news of the day: (The API call documentation is at https://developer.nytimes.com/docs/top-stories-product/1/overview and the API Call is  https://api.nytimes.com/svc/topstories/v2/home.json?api-key=PUTYOURKEYHERE). Repeat the entity extraction process from above.\n",
        "    * Option 3: Use the Guardian API at https://open-platform.theguardian.com/documentation/ to fetch news from The Guardian.\n"
      ]
    },
    {
      "cell_type": "code",
      "source": [
        "# !sudo -H pip3 install newsapi-python\n",
        "!pip install newsapi-python"
      ],
      "metadata": {
        "id": "kQ8QXsWpVNVv",
        "outputId": "4d5f9e93-cc42-478f-8a78-bf0112bf03c2",
        "colab": {
          "base_uri": "https://localhost:8080/"
        }
      },
      "execution_count": 96,
      "outputs": [
        {
          "output_type": "stream",
          "name": "stdout",
          "text": [
            "Looking in indexes: https://pypi.org/simple, https://us-python.pkg.dev/colab-wheels/public/simple/\n",
            "Requirement already satisfied: newsapi-python in /usr/local/lib/python3.7/dist-packages (0.2.6)\n",
            "Requirement already satisfied: requests<3.0.0 in /usr/local/lib/python3.7/dist-packages (from newsapi-python) (2.23.0)\n",
            "Requirement already satisfied: idna<3,>=2.5 in /usr/local/lib/python3.7/dist-packages (from requests<3.0.0->newsapi-python) (2.10)\n",
            "Requirement already satisfied: certifi>=2017.4.17 in /usr/local/lib/python3.7/dist-packages (from requests<3.0.0->newsapi-python) (2022.6.15)\n",
            "Requirement already satisfied: urllib3!=1.25.0,!=1.25.1,<1.26,>=1.21.1 in /usr/local/lib/python3.7/dist-packages (from requests<3.0.0->newsapi-python) (1.24.3)\n",
            "Requirement already satisfied: chardet<4,>=3.0.2 in /usr/local/lib/python3.7/dist-packages (from requests<3.0.0->newsapi-python) (3.0.4)\n"
          ]
        }
      ]
    },
    {
      "cell_type": "code",
      "source": [
        "from newsapi import NewsApiClient\n",
        "\n",
        "# Init\n",
        "newsapi = NewsApiClient(api_key='a7eab21c34e545dba418c4344d59a54f')\n",
        "\n",
        "# /v2/top-headlines\n",
        "top_headlines = newsapi.get_top_headlines(q = 'queen',\n",
        "                                          language='en',\n",
        "                                          page_size=100)\n",
        "\n",
        "# top_headlines.keys()\n",
        "articles = top_headlines['articles']\n",
        "\n",
        "'''for article in articles:\n",
        "    article_url = article['url']\n",
        "    # print(article)\n",
        "    print(article['content'])\n",
        "    print(article['url'])\n",
        "    data = analyzeText(url=article_url)\n",
        "    print(data['sentiment']['document'])\n",
        "    print(data['emotion']['document'])'''"
      ],
      "metadata": {
        "id": "ZIMEtC6TVYSQ",
        "outputId": "47ab4a42-c6da-4d9e-b0b9-e8c11d7f89d7",
        "colab": {
          "base_uri": "https://localhost:8080/",
          "height": 53
        }
      },
      "execution_count": 97,
      "outputs": [
        {
          "output_type": "execute_result",
          "data": {
            "text/plain": [
              "\"for article in articles:\\n    article_url = article['url']\\n    # print(article)\\n    print(article['content'])\\n    print(article['url'])\\n    data = analyzeText(url=article_url)\\n    print(data['sentiment']['document'])\\n    print(data['emotion']['document'])\""
            ],
            "application/vnd.google.colaboratory.intrinsic+json": {
              "type": "string"
            }
          },
          "metadata": {},
          "execution_count": 97
        }
      ]
    },
    {
      "cell_type": "code",
      "source": [
        "!sudo pip3 install -U -q PyMySQL sqlalchemy sql_magic"
      ],
      "metadata": {
        "id": "N2Qic5CFOuN9"
      },
      "execution_count": 98,
      "outputs": []
    },
    {
      "cell_type": "code",
      "source": [
        "from sqlalchemy import create_engine\n",
        "\n",
        "conn_string = \"mysql+pymysql://{user}:{password}@{host}/\".format(\n",
        "    host=\"db.ipeirotis.org\", user=\"student\", password=\"dwdstudent2015\"\n",
        ")\n",
        "\n",
        "engine = create_engine(conn_string)"
      ],
      "metadata": {
        "id": "bHWM80IgO_Yt"
      },
      "execution_count": 99,
      "outputs": []
    },
    {
      "cell_type": "code",
      "source": [
        "# Query to create a database\n",
        "db_name = \"public\"\n",
        "create_db_query = (\n",
        "    f\"CREATE DATABASE IF NOT EXISTS {db_name} DEFAULT CHARACTER SET 'utf8'\"\n",
        ")\n",
        "\n",
        "# Create a database\n",
        "engine.execute(create_db_query)"
      ],
      "metadata": {
        "colab": {
          "base_uri": "https://localhost:8080/"
        },
        "id": "-S8uDEwIQqsf",
        "outputId": "31c88535-786d-4652-8a94-bd4fca87e70a"
      },
      "execution_count": 100,
      "outputs": [
        {
          "output_type": "execute_result",
          "data": {
            "text/plain": [
              "<sqlalchemy.engine.cursor.LegacyCursorResult at 0x7fdf0bc76e10>"
            ]
          },
          "metadata": {},
          "execution_count": 100
        }
      ]
    },
    {
      "cell_type": "code",
      "source": [
        "suffix = \"rm5486\"\n",
        "table_name = f\"{suffix}_news\"\n",
        "# Create a table\n",
        "create_table_query = f\"\"\"CREATE TABLE IF NOT EXISTS {db_name}.{table_name} \n",
        "                                (content varchar(1000), \n",
        "                                url varchar(500), \n",
        "                                PRIMARY KEY(url)\n",
        "                                )\"\"\"\n",
        "engine.execute(create_table_query)"
      ],
      "metadata": {
        "colab": {
          "base_uri": "https://localhost:8080/"
        },
        "id": "lNbpMEixRIgM",
        "outputId": "3f17e5a4-b389-4c03-d8a6-c206d7413d81"
      },
      "execution_count": 101,
      "outputs": [
        {
          "output_type": "execute_result",
          "data": {
            "text/plain": [
              "<sqlalchemy.engine.cursor.LegacyCursorResult at 0x7fdf0be5dd50>"
            ]
          },
          "metadata": {},
          "execution_count": 101
        }
      ]
    },
    {
      "cell_type": "code",
      "source": [
        "query_template = f\"\"\"\n",
        "                    INSERT IGNORE INTO \n",
        "                    {db_name}.{table_name}(content,  url) \n",
        "                    VALUES (%s, %s)\n",
        "                  \"\"\"\n",
        "for article in articles:\n",
        "    content = article['content']\n",
        "    url = article['url']\n",
        "\n",
        "    # print(\"Inserting article\", content, \"with\", url, \"as URL\")\n",
        "    query_parameters = (content, url)\n",
        "    engine.execute(query_template, query_parameters)"
      ],
      "metadata": {
        "id": "a5NG20l3U_LO"
      },
      "execution_count": 102,
      "outputs": []
    },
    {
      "cell_type": "code",
      "source": [
        "results = engine.execute(f\"SELECT * FROM {db_name}.{table_name}\")\n",
        "rows = results.fetchall()\n",
        "results.close()"
      ],
      "metadata": {
        "id": "iU2aKBqQXhCI"
      },
      "execution_count": 103,
      "outputs": []
    },
    {
      "cell_type": "code",
      "source": [
        "for row in rows:\n",
        "    print(\"Content:\", row[\"content\"])\n",
        "    print(\"URL:\", row[\"url\"])\n",
        "    print(\"=============================================\")"
      ],
      "metadata": {
        "colab": {
          "base_uri": "https://localhost:8080/"
        },
        "id": "oRbhdEceXop5",
        "outputId": "6e3afd60-a55d-4dac-9272-b85b9cd77ec0"
      },
      "execution_count": 104,
      "outputs": [
        {
          "output_type": "stream",
          "name": "stdout",
          "text": [
            "Content: The Chinese vice-president, Wang Qishan, is to attend the Queens funeral in a move that has prompted complaints from a group of British Conservative MPs that have been banned from travelling to China… [+3987 chars]\n",
            "URL: https://amp.theguardian.com/uk-news/2022/sep/15/anger-among-mps-as-chinese-vice-president-to-attend-queens-funeral\n",
            "=============================================\n",
            "Content: Workers are scrambling to find last-minute child care in several provinces after governments announced the sudden closure of schools to mourn Queen Elizabeth.\r\n",
            "The four Atlantic provinces, British Co… [+3083 chars]\n",
            "URL: https://globalnews.ca/news/9130909/canada-school-closures-sept-19-queen-funeral/\n",
            "=============================================\n",
            "Content: The passing of the Queen, a unifying figure more beloved than her son, King Charles III, comes as several Commonwealth realms are reassessing their relationships with the crown \r\n",
            "Author of the articl… [+11403 chars]\n",
            "URL: https://nationalpost.com/news/as-elizabeth-gives-way-to-charles-realms-consider-severing-ties\n",
            "=============================================\n",
            "Content: The new Prince of Wales has spoken about the ordeal of taking part in yesterday's procession, in which he walked behind the Queen's coffin, telling a member of the public that it \"brought back a few … [+2073 chars]\n",
            "URL: https://news.sky.com/story/prince-and-princess-of-wales-view-tributes-to-queen-at-sandringham-12697938\n",
            "=============================================\n",
            "Content: A photo of Kate Middleton at the Queen's coffin procession has revealed her subtle tribute to Princess Diana as she mourns the monarch's death.\r\n",
            "Kate was snapped alongside her husband Prince William … [+2128 chars]\n",
            "URL: https://nz.news.yahoo.com/hidden-detail-in-photo-of-kate-at-queens-coffin-procession-225141994.html\n",
            "=============================================\n",
            "Content: Some users on Twitter &amp; TikTok, including Logan Smith, like to play a game of predictions, with, in some cases, one or two of them getting it almost right.\r\n",
            "Smith predicted the Queen will die in … [+1229 chars]\n",
            "URL: https://theindependent.sg/he-predicted-queen-elizabeth-iis-death-and-now-he-predicts-king-charless-death/\n",
            "=============================================\n",
            "Content: Renowned American horse trainer Monty Roberts has shared the story of how the Queen went into bat for him against a legion of doubters dismissing his gentler horse raising technique.\r\n",
            "He speaks of ho… [+907 chars]\n",
            "URL: https://www.9news.com.au/national/australia-breaking-news-today-live-queen-elizabeth-ii-king-charles-iii-updates-latest-headlines/92e62e8a-fd45-4cea-b00a-91b8eeaeee0c\n",
            "=============================================\n",
            "Content: Prime Minister Anthony Albanese is en route to the United Kingdom to attend Queen Elizabeth II's funeral.\r\n",
            "<ul><li>Prime Minister Anthony Albanese has left Sydney to attend the Queen's funeral on Mon… [+2025 chars]\n",
            "URL: https://www.abc.net.au/news/2022-09-15/albanese-leaves-for-queens-funeral/101446104\n",
            "=============================================\n",
            "Content: Prince William has told well-wishers walking behind Queen Elizabeth II's coffin was challenging and brought back memories, alluding when he followed his mother's coffin.\r\n",
            "Key points:\r\n",
            "<ul><li>Prince … [+2460 chars]\n",
            "URL: https://www.abc.net.au/news/2022-09-16/william-says-walking-behind-cofin-brought-back-memories/101446410\n",
            "=============================================\n",
            "Content: London [UK], September 15 (ANI): People of the UK will relive the glorious life and legacy of Queen Elizabeth II at her state funeral on Monday. The Queen breathed her last on September 9 and ever si… [+1193 chars]\n",
            "URL: https://www.aninews.in/news/entertainment/out-of-box/these-countries-have-not-been-invited-to-the-queens-funeral20220915153319\n",
            "=============================================\n",
            "Content: Former Hong Kong actress Theresa Lee may have been missing from our screens for quite some time but she's evidently not been forgotten.\r\n",
            "Known for her sweet looks and candid personality, the former b… [+1805 chars]\n",
            "URL: https://www.asiaone.com/entertainment/ex-hong-kong-actress-theresa-lee-ageing-gracefully-shows-wrinkles-and-pigmentation\n",
            "=============================================\n",
            "Content: By George Bowden &amp; Sean Coughlan, royal correspondentBBC News\r\n",
            "Queen Elizabeth II made personal additions to plans for her funeral day, Buckingham Palace has said.\r\n",
            "Among the touches requested by… [+4161 chars]\n",
            "URL: https://www.bbc.co.uk/news/uk-62913337\n",
            "=============================================\n",
            "Content: None\n",
            "URL: https://www.cbc.ca/news/world/queen-elizabeth-leaves-buckingham-palace-for-the-last-time-1.6582375\n",
            "=============================================\n",
            "Content: LONDON: King Charles, his sons Princes William and Harry, and other senior royals joined a solemn procession accompanying Queen Elizabeth's coffin as the late monarch made her final journey from Buck… [+2155 chars]\n",
            "URL: https://www.channelnewsasia.com/world/king-charles-william-and-harry-reunited-grief-escort-queens-coffin-2937566\n",
            "=============================================\n",
            "Content: London (CNN)It is a moment for which Britain has been in solemn preparation for years. Multiple official agencies were brought together. Meticulous plans were secretly drawn up. Intricate logistical … [+5404 chars]\n",
            "URL: https://www.cnn.com/2022/09/15/uk/the-queen-queue-lie-in-state-gbr-cmd-uk/index.html\n",
            "=============================================\n",
            "Content: TORONTO - Queen Elizabeth served as a constant presence through turbulent times and will be remembered for the comfort she brought people, as well as her exemplary public service, Ontario Premier Dou… [+2656 chars]\n",
            "URL: https://www.cp24.com/news/in-tribute-to-queen-elizabeth-ii-premier-doug-ford-says-he-will-miss-her-dearly-1.6067705\n",
            "=============================================\n",
            "Content: The Queen's state funeral will end with a two-minute national silence in a 'fitting tribute to an extraordinary reign' before she is laid to rest beside her late husband, Buckingham Palace revealed t… [+76954 chars]\n",
            "URL: https://www.dailymail.co.uk/news/article-11215425/What-time-Queens-funeral-Bank-Holiday-Monday.html\n",
            "=============================================\n",
            "Content: JD Wetherspoon has revealed its opening plans for the Queen's funeral.\r\n",
            "Her Majesty's funeral will take place on Monday, September 19, and a number of retail and hospitality businesses have announced… [+928 chars]\n",
            "URL: https://www.edp24.co.uk/news/business/wetherspoon-pubs-opening-for-queens-funeral-norfolk-9274930\n",
            "=============================================\n",
            "Content: The Prince and Princess of Wales have paid an emotional visit to Norfolk to view tributes left at Sandringham in memory of the late Queen.\r\n",
            "Mourners have been leaving flowers, cards and gifts at the … [+5559 chars]\n",
            "URL: https://www.edp24.co.uk/news/william-and-kate-view-sandringham-tributes-to-queen-9274552\n",
            "=============================================\n",
            "Content: Prince Harry and Prince Andrew were not allowed to perform a symbolic gesture while escorting Queen Elizabeth's coffin from Buckingham Palace to Westminster Hall on Wednesday.\r\n",
            "The duo was not permit… [+1147 chars]\n",
            "URL: https://www.geo.tv/latest/440432-why-prince-harry-and-prince-andrew-didnt-salute-queen-elizabeth-iis-coffin-details-inside\n",
            "=============================================\n",
            "Content: Queen Elizabeth II, who breathed her last on September 8 in Scotland, will be buried next to her late husband Prince Philip on Monday.\r\n",
            "Following a state funeral for the late Queen at Westminster Abb… [+1310 chars]\n",
            "URL: https://www.geo.tv/latest/440494-queen-elizabeth-to-be-buried-next-to-her-husband-prince-philip\n",
            "=============================================\n",
            "Content: Prince Harry and Meghan Markle held hands during a memorial service for the Queen on Wednesday, and a public display of affection from the couple has resulted in a surprising debate.\r\n",
            "Some have laude… [+1957 chars]\n",
            "URL: https://www.geo.tv/latest/440515-meghan-and-harrys-public-display-of-affection-on-queens-memorial-service-sparks-reactions\n",
            "=============================================\n",
            "Content: Queen Elizabeth II’s state funeral will cost British taxpayers millions of dollars.\r\n",
            "While the government has not disclosed the cost, the funeral at Westminster Abbey in London is likely to cost more… [+4775 chars]\n",
            "URL: https://www.news.com.au/entertainment/celebrity-life/royals/queen-elizabeth-iis-funeral-to-cost-over-9m-and-will-be-funded-by-uk-taxpayers/news-story/62fa7731389ff92c65a29187409cb4cc\n",
            "=============================================\n",
            "Content: A royal guard collapsed next to Queen Elizabeth II's coffin on Wednesday.\r\n",
            "The queen is currently lying-in-state with members of the public able to pay their respects before she's moved hours before … [+846 chars]\n",
            "URL: https://www.news24.com/channel/gossip/royal-news/royal-guard-collapses-as-queens-coffin-lies-in-state-20220915\n",
            "=============================================\n",
            "Content: In a rare moment, London, one of the world's busiest cities, stood entirely still on Thursday morning (NZ time) as Queen Elizabeth's coffin was carried in procession from Buckingham Palace to Westmin… [+189 chars]\n",
            "URL: https://www.newshub.co.nz/home/world/2022/09/watch-samantha-hayes-patrick-gower-share-hug-after-emotional-procession-of-queen-elizabeth-s-coffin.html\n",
            "=============================================\n",
            "Content: \"I can't bear this bloody thing!\" King Charles' at signing ceremony at Northern Ireland's Hillsborough Castle over frustration of an inadequate pen. Video / AP\r\n",
            "King Charles lost his temper with a fa… [+2786 chars]\n",
            "URL: https://www.nzherald.co.nz/lifestyle/queen-elizabeth-death-king-charles-fumes-at-faulty-pen-during-signing-ceremony-in-northern-ireland/RBGUJGUMQS2DR4QZSXBEXO6DYA/\n",
            "=============================================\n",
            "Content: The Queen left Buckingham Palace for the last time early today, to make her final journey along crowd-lined streets of London to Westminster Hall. There Britain's longest-serving monarch is lying in … [+4033 chars]\n",
            "URL: https://www.nzherald.co.nz/lifestyle/queen-elizabeth-death-prince-william-says-queens-procession-reminded-him-of-dianas/YTKON46KURSXHKZZOVYDLG7N6U/\n",
            "=============================================\n",
            "Content: Former editor of The Sunday Express and OK! magazine Martin Townsend says the Queen’s coffin procession to Westminster Hall was astonishing. \r\n",
            "“It was basically the family sort of obviously marching … [+282 chars]\n",
            "URL: https://www.skynews.com.au/world-news/united-kingdom/hugely-moving-queens-coffin-procession-to-westminster-hall-was-astonishing/video/2d6723eb43a2257e75ccc5041a55523b\n",
            "=============================================\n",
            "Content: How long is the queue?\r\n",
            "According to the government tracker, the queue to see the Queen lying in state is currently 4.6 miles long, with an estimated waiting time of at least eight hours.\r\n",
            "The queue … [+15371 chars]\n",
            "URL: https://www.theguardian.com/uk-news/live/2022/sep/15/queen-elizabeth-lying-lie-in-state-mourners-queue-miles-westminster-hall-london-live-news-latest-updates\n",
            "=============================================\n",
            "Content: Prince Harry and his older Prince William have been embroiled in a much publicised, albeit alleged, feud ever since the Duke of Sussexs marriage to Meghan Markle, but a royal expert believes that the… [+1152 chars]\n",
            "URL: https://www.thenews.com.pk/latest/991570-prince-harry-william-to-begin-healing-after-being-thrown-together-on-queens-death\n",
            "=============================================\n",
            "Content: Prince Harry, his wife Meghan Markle, and uncle Prince Andrew will reportedly not be attending an important state event this weekend, days ahead of Queen Elizabeths funeral, Hello magazine reported.\r… [+1073 chars]\n",
            "URL: https://www.thenews.com.pk/latest/991625-prince-harry-meghan-markle-prince-andrew-snubbed-from-state-event-for-queen\n",
            "=============================================\n",
            "Content: LONDON (Reuters) - Mourners from all walks of life filed past the coffin of Queen Elizabeth through the night as she lay in state in London's ancient Westminster Hall, paying their final respects to … [+3798 chars]\n",
            "URL: https://www.thestar.com.my/news/world/2022/09/15/thousands-pass-queen-elizabeth039s-coffin-as-she-lies-in-state-in-london\n",
            "=============================================\n",
            "Content: None\n",
            "URL: https://www.youtube.com/watch?v=fjcBQoi20HM\n",
            "=============================================\n"
          ]
        }
      ]
    },
    {
      "cell_type": "code",
      "source": [
        "sentiment_scores = []\n",
        "\n",
        "for row in rows:\n",
        "  article_url = row[\"url\"]\n",
        "  data = analyzeText(url=article_url)\n",
        "  entry = {}\n",
        "  entry['url'] = article_url\n",
        "  try:\n",
        "    entry['score'] = data['sentiment']['document']['score']\n",
        "    # print(data['sentiment']['document']['score'])\n",
        "  except KeyError:\n",
        "    entry['score'] = 'ERROR: Cannot determine sentiment analysis score for this article'\n",
        "    # print(\"ERROR: Cannot determine sentiment analysis score for this article\")\n",
        "  \n",
        "  # print(entry)\n",
        "  sentiment_scores.append(entry);"
      ],
      "metadata": {
        "colab": {
          "base_uri": "https://localhost:8080/"
        },
        "id": "QuzBNvyOwmJK",
        "outputId": "11a7c64c-6742-41d4-f6c4-aaf83c5fe127"
      },
      "execution_count": 105,
      "outputs": [
        {
          "output_type": "stream",
          "name": "stdout",
          "text": [
            "{'url': 'https://amp.theguardian.com/uk-news/2022/sep/15/anger-among-mps-as-chinese-vice-president-to-attend-queens-funeral', 'score': 0.41797}\n",
            "{'url': 'https://globalnews.ca/news/9130909/canada-school-closures-sept-19-queen-funeral/', 'score': -0.74832}\n",
            "{'url': 'https://nationalpost.com/news/as-elizabeth-gives-way-to-charles-realms-consider-severing-ties', 'score': 0.258092}\n",
            "{'url': 'https://news.sky.com/story/prince-and-princess-of-wales-view-tributes-to-queen-at-sandringham-12697938', 'score': -0.366433}\n",
            "{'url': 'https://nz.news.yahoo.com/hidden-detail-in-photo-of-kate-at-queens-coffin-procession-225141994.html', 'score': -0.463513}\n",
            "{'url': 'https://theindependent.sg/he-predicted-queen-elizabeth-iis-death-and-now-he-predicts-king-charless-death/', 'score': -0.467971}\n",
            "{'url': 'https://www.9news.com.au/national/australia-breaking-news-today-live-queen-elizabeth-ii-king-charles-iii-updates-latest-headlines/92e62e8a-fd45-4cea-b00a-91b8eeaeee0c', 'score': 0.665348}\n",
            "{'url': 'https://www.abc.net.au/news/2022-09-15/albanese-leaves-for-queens-funeral/101446104', 'score': 0.644177}\n",
            "{'url': 'https://www.abc.net.au/news/2022-09-16/william-says-walking-behind-cofin-brought-back-memories/101446410', 'score': 0.335671}\n",
            "{'url': 'https://www.aninews.in/news/entertainment/out-of-box/these-countries-have-not-been-invited-to-the-queens-funeral20220915153319', 'score': -0.497425}\n",
            "{'url': 'https://www.asiaone.com/entertainment/ex-hong-kong-actress-theresa-lee-ageing-gracefully-shows-wrinkles-and-pigmentation', 'score': 0.314691}\n",
            "{'url': 'https://www.bbc.co.uk/news/uk-62913337', 'score': 0}\n",
            "{'url': 'https://www.cbc.ca/news/world/queen-elizabeth-leaves-buckingham-palace-for-the-last-time-1.6582375', 'score': 0.748531}\n",
            "{'url': 'https://www.channelnewsasia.com/world/king-charles-william-and-harry-reunited-grief-escort-queens-coffin-2937566', 'score': 0.277354}\n",
            "{'url': 'https://www.cnn.com/2022/09/15/uk/the-queen-queue-lie-in-state-gbr-cmd-uk/index.html', 'score': 0.356184}\n",
            "{'url': 'https://www.cp24.com/news/in-tribute-to-queen-elizabeth-ii-premier-doug-ford-says-he-will-miss-her-dearly-1.6067705', 'score': -0.346163}\n",
            "{'url': 'https://www.dailymail.co.uk/news/article-11215425/What-time-Queens-funeral-Bank-Holiday-Monday.html', 'score': -0.449681}\n",
            "{'url': 'https://www.edp24.co.uk/news/business/wetherspoon-pubs-opening-for-queens-funeral-norfolk-9274930', 'score': 0.339737}\n",
            "{'url': 'https://www.edp24.co.uk/news/william-and-kate-view-sandringham-tributes-to-queen-9274552', 'score': 0.441146}\n",
            "{'url': 'https://www.geo.tv/latest/440432-why-prince-harry-and-prince-andrew-didnt-salute-queen-elizabeth-iis-coffin-details-inside', 'score': 0}\n",
            "{'url': 'https://www.geo.tv/latest/440494-queen-elizabeth-to-be-buried-next-to-her-husband-prince-philip', 'score': -0.431583}\n",
            "{'url': 'https://www.geo.tv/latest/440515-meghan-and-harrys-public-display-of-affection-on-queens-memorial-service-sparks-reactions', 'score': -0.483012}\n",
            "{'url': 'https://www.news.com.au/entertainment/celebrity-life/royals/queen-elizabeth-iis-funeral-to-cost-over-9m-and-will-be-funded-by-uk-taxpayers/news-story/62fa7731389ff92c65a29187409cb4cc', 'score': -0.483999}\n",
            "{'url': 'https://www.news24.com/channel/gossip/royal-news/royal-guard-collapses-as-queens-coffin-lies-in-state-20220915', 'score': -0.364387}\n",
            "{'url': 'https://www.newshub.co.nz/home/world/2022/09/watch-samantha-hayes-patrick-gower-share-hug-after-emotional-procession-of-queen-elizabeth-s-coffin.html', 'score': 0.749635}\n",
            "{'url': 'https://www.nzherald.co.nz/lifestyle/queen-elizabeth-death-king-charles-fumes-at-faulty-pen-during-signing-ceremony-in-northern-ireland/RBGUJGUMQS2DR4QZSXBEXO6DYA/', 'score': -0.494784}\n",
            "{'url': 'https://www.nzherald.co.nz/lifestyle/queen-elizabeth-death-prince-william-says-queens-procession-reminded-him-of-dianas/YTKON46KURSXHKZZOVYDLG7N6U/', 'score': -0.523126}\n",
            "{'url': 'https://www.skynews.com.au/world-news/united-kingdom/hugely-moving-queens-coffin-procession-to-westminster-hall-was-astonishing/video/2d6723eb43a2257e75ccc5041a55523b', 'score': 0.642062}\n",
            "{'url': 'https://www.theguardian.com/uk-news/live/2022/sep/15/queen-elizabeth-lying-lie-in-state-mourners-queue-miles-westminster-hall-london-live-news-latest-updates', 'score': 0.486245}\n",
            "{'url': 'https://www.thenews.com.pk/latest/991570-prince-harry-william-to-begin-healing-after-being-thrown-together-on-queens-death', 'score': -0.265637}\n",
            "{'url': 'https://www.thenews.com.pk/latest/991625-prince-harry-meghan-markle-prince-andrew-snubbed-from-state-event-for-queen', 'score': 0}\n",
            "{'url': 'https://www.thestar.com.my/news/world/2022/09/15/thousands-pass-queen-elizabeth039s-coffin-as-she-lies-in-state-in-london', 'score': -0.52656}\n",
            "{'url': 'https://www.youtube.com/watch?v=fjcBQoi20HM', 'score': 0}\n"
          ]
        }
      ]
    },
    {
      "cell_type": "code",
      "source": [
        "table_name = f\"{suffix}_sentiment_score\"\n",
        "# Create a table\n",
        "create_table_query = f\"\"\"CREATE TABLE IF NOT EXISTS {db_name}.{table_name} \n",
        "                                (url varchar(255),\n",
        "                                sentiment_score varchar(255), \n",
        "                                PRIMARY KEY(url)\n",
        "                                )\"\"\"\n",
        "engine.execute(create_table_query)"
      ],
      "metadata": {
        "colab": {
          "base_uri": "https://localhost:8080/"
        },
        "id": "i2RIs9nM4GRi",
        "outputId": "65810da7-ee59-43f6-dfdc-cd260853a2ad"
      },
      "execution_count": 106,
      "outputs": [
        {
          "output_type": "execute_result",
          "data": {
            "text/plain": [
              "<sqlalchemy.engine.cursor.LegacyCursorResult at 0x7fdf0bc7a310>"
            ]
          },
          "metadata": {},
          "execution_count": 106
        }
      ]
    },
    {
      "cell_type": "code",
      "source": [
        "query_template = f\"\"\"\n",
        "                    INSERT IGNORE INTO \n",
        "                    {db_name}.{table_name}(url, sentiment_score) \n",
        "                    VALUES (%s, %s)\n",
        "                  \"\"\"\n",
        "for score in sentiment_scores:\n",
        "    url = score['url']\n",
        "    sentiment_score = score['score']\n",
        "\n",
        "    # print(\"Inserting URL\", url, \"with\", sentiment_score, \"as score\")\n",
        "    query_parameters = (url, sentiment_score)\n",
        "    engine.execute(query_template, query_parameters)"
      ],
      "metadata": {
        "id": "_TIwHI-G4jot"
      },
      "execution_count": 107,
      "outputs": []
    },
    {
      "cell_type": "code",
      "source": [
        "results = engine.execute(f\"SELECT * FROM {db_name}.{table_name}\")\n",
        "rows = results.fetchall()\n",
        "results.close()"
      ],
      "metadata": {
        "id": "kZZYCJUJ8sQg"
      },
      "execution_count": 108,
      "outputs": []
    },
    {
      "cell_type": "code",
      "source": [
        "for row in rows:\n",
        "    print(\"URL:\", row[\"url\"])\n",
        "    print(\"Sentiment Score:\", row[\"sentiment_score\"])\n",
        "    print(\"=============================================\")"
      ],
      "metadata": {
        "colab": {
          "base_uri": "https://localhost:8080/"
        },
        "id": "6inM955O8vEu",
        "outputId": "f1871910-8d16-4c27-d61c-c037632aa8a8"
      },
      "execution_count": 109,
      "outputs": [
        {
          "output_type": "stream",
          "name": "stdout",
          "text": [
            "URL: https://amp.theguardian.com/uk-news/2022/sep/15/anger-among-mps-as-chinese-vice-president-to-attend-queens-funeral\n",
            "Sentiment Score: 0.41797\n",
            "=============================================\n",
            "URL: https://globalnews.ca/news/9130909/canada-school-closures-sept-19-queen-funeral/\n",
            "Sentiment Score: -0.74832\n",
            "=============================================\n",
            "URL: https://nationalpost.com/news/as-elizabeth-gives-way-to-charles-realms-consider-severing-ties\n",
            "Sentiment Score: 0.258092\n",
            "=============================================\n",
            "URL: https://news.sky.com/story/prince-and-princess-of-wales-view-tributes-to-queen-at-sandringham-12697938\n",
            "Sentiment Score: -0.366433\n",
            "=============================================\n",
            "URL: https://nz.news.yahoo.com/hidden-detail-in-photo-of-kate-at-queens-coffin-procession-225141994.html\n",
            "Sentiment Score: -0.463513\n",
            "=============================================\n",
            "URL: https://theindependent.sg/he-predicted-queen-elizabeth-iis-death-and-now-he-predicts-king-charless-death/\n",
            "Sentiment Score: -0.467971\n",
            "=============================================\n",
            "URL: https://www.9news.com.au/national/australia-breaking-news-today-live-queen-elizabeth-ii-king-charles-iii-updates-latest-headlines/92e62e8a-fd45-4cea-b00a-91b8eeaeee0c\n",
            "Sentiment Score: 0.665348\n",
            "=============================================\n",
            "URL: https://www.abc.net.au/news/2022-09-15/albanese-leaves-for-queens-funeral/101446104\n",
            "Sentiment Score: 0.644177\n",
            "=============================================\n",
            "URL: https://www.abc.net.au/news/2022-09-16/william-says-walking-behind-cofin-brought-back-memories/101446410\n",
            "Sentiment Score: 0.335671\n",
            "=============================================\n",
            "URL: https://www.aninews.in/news/entertainment/out-of-box/these-countries-have-not-been-invited-to-the-queens-funeral20220915153319\n",
            "Sentiment Score: -0.497425\n",
            "=============================================\n",
            "URL: https://www.asiaone.com/entertainment/ex-hong-kong-actress-theresa-lee-ageing-gracefully-shows-wrinkles-and-pigmentation\n",
            "Sentiment Score: 0.314691\n",
            "=============================================\n",
            "URL: https://www.bbc.co.uk/news/uk-62913337\n",
            "Sentiment Score: 0\n",
            "=============================================\n",
            "URL: https://www.cbc.ca/news/world/queen-elizabeth-leaves-buckingham-palace-for-the-last-time-1.6582375\n",
            "Sentiment Score: 0.748531\n",
            "=============================================\n",
            "URL: https://www.channelnewsasia.com/world/king-charles-william-and-harry-reunited-grief-escort-queens-coffin-2937566\n",
            "Sentiment Score: 0.277354\n",
            "=============================================\n",
            "URL: https://www.cnn.com/2022/09/15/uk/the-queen-queue-lie-in-state-gbr-cmd-uk/index.html\n",
            "Sentiment Score: 0.356184\n",
            "=============================================\n",
            "URL: https://www.cp24.com/news/in-tribute-to-queen-elizabeth-ii-premier-doug-ford-says-he-will-miss-her-dearly-1.6067705\n",
            "Sentiment Score: -0.346163\n",
            "=============================================\n",
            "URL: https://www.dailymail.co.uk/news/article-11215425/What-time-Queens-funeral-Bank-Holiday-Monday.html\n",
            "Sentiment Score: -0.449681\n",
            "=============================================\n",
            "URL: https://www.edp24.co.uk/news/business/wetherspoon-pubs-opening-for-queens-funeral-norfolk-9274930\n",
            "Sentiment Score: 0.339737\n",
            "=============================================\n",
            "URL: https://www.edp24.co.uk/news/william-and-kate-view-sandringham-tributes-to-queen-9274552\n",
            "Sentiment Score: 0.441146\n",
            "=============================================\n",
            "URL: https://www.geo.tv/latest/440432-why-prince-harry-and-prince-andrew-didnt-salute-queen-elizabeth-iis-coffin-details-inside\n",
            "Sentiment Score: 0\n",
            "=============================================\n",
            "URL: https://www.geo.tv/latest/440494-queen-elizabeth-to-be-buried-next-to-her-husband-prince-philip\n",
            "Sentiment Score: -0.431583\n",
            "=============================================\n",
            "URL: https://www.geo.tv/latest/440515-meghan-and-harrys-public-display-of-affection-on-queens-memorial-service-sparks-reactions\n",
            "Sentiment Score: -0.483012\n",
            "=============================================\n",
            "URL: https://www.news.com.au/entertainment/celebrity-life/royals/queen-elizabeth-iis-funeral-to-cost-over-9m-and-will-be-funded-by-uk-taxpayers/news-story/62fa7731389ff92c65a29187409cb4cc\n",
            "Sentiment Score: -0.483999\n",
            "=============================================\n",
            "URL: https://www.news24.com/channel/gossip/royal-news/royal-guard-collapses-as-queens-coffin-lies-in-state-20220915\n",
            "Sentiment Score: -0.364387\n",
            "=============================================\n",
            "URL: https://www.newshub.co.nz/home/world/2022/09/watch-samantha-hayes-patrick-gower-share-hug-after-emotional-procession-of-queen-elizabeth-s-coffin.html\n",
            "Sentiment Score: 0.749635\n",
            "=============================================\n",
            "URL: https://www.nzherald.co.nz/lifestyle/queen-elizabeth-death-king-charles-fumes-at-faulty-pen-during-signing-ceremony-in-northern-ireland/RBGUJGUMQS2DR4QZSXBEXO6DYA/\n",
            "Sentiment Score: -0.494784\n",
            "=============================================\n",
            "URL: https://www.nzherald.co.nz/lifestyle/queen-elizabeth-death-prince-william-says-queens-procession-reminded-him-of-dianas/YTKON46KURSXHKZZOVYDLG7N6U/\n",
            "Sentiment Score: -0.523126\n",
            "=============================================\n",
            "URL: https://www.skynews.com.au/world-news/united-kingdom/hugely-moving-queens-coffin-procession-to-westminster-hall-was-astonishing/video/2d6723eb43a2257e75ccc5041a55523b\n",
            "Sentiment Score: 0.642062\n",
            "=============================================\n",
            "URL: https://www.theguardian.com/uk-news/live/2022/sep/15/queen-elizabeth-lying-lie-in-state-mourners-queue-miles-westminster-hall-london-live-news-latest-updates\n",
            "Sentiment Score: 0.486245\n",
            "=============================================\n",
            "URL: https://www.thenews.com.pk/latest/991570-prince-harry-william-to-begin-healing-after-being-thrown-together-on-queens-death\n",
            "Sentiment Score: -0.265637\n",
            "=============================================\n",
            "URL: https://www.thenews.com.pk/latest/991625-prince-harry-meghan-markle-prince-andrew-snubbed-from-state-event-for-queen\n",
            "Sentiment Score: 0\n",
            "=============================================\n",
            "URL: https://www.thestar.com.my/news/world/2022/09/15/thousands-pass-queen-elizabeth039s-coffin-as-she-lies-in-state-in-london\n",
            "Sentiment Score: -0.52656\n",
            "=============================================\n",
            "URL: https://www.youtube.com/watch?v=fjcBQoi20HM\n",
            "Sentiment Score: 0\n",
            "=============================================\n"
          ]
        }
      ]
    },
    {
      "cell_type": "code",
      "source": [
        "drop_table_query = f\"DROP TABLE IF EXISTS {db_name}.{table_name}\"\n",
        "engine.execute(drop_table_query)\n",
        "\n",
        "table_name = f\"{suffix}_news\"\n",
        "\n",
        "drop_table_query = f\"DROP TABLE IF EXISTS {db_name}.{table_name}\"\n",
        "engine.execute(drop_table_query)\n",
        "\n",
        "print(\"Dropped table from database.\")\n",
        "print(\"A new one will be created everytime we run this program\")"
      ],
      "metadata": {
        "id": "Bw2ya14BIMmw",
        "outputId": "ca76ab01-21fb-4d8e-f78d-0b8159bb2088",
        "colab": {
          "base_uri": "https://localhost:8080/"
        }
      },
      "execution_count": 110,
      "outputs": [
        {
          "output_type": "stream",
          "name": "stdout",
          "text": [
            "Dropped table from database.\n",
            "A new one will be created everytime we run this program\n"
          ]
        }
      ]
    }
  ]
}